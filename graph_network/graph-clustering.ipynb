{
 "cells": [
  {
   "cell_type": "code",
   "execution_count": null,
   "metadata": {},
   "outputs": [],
   "source": [
    "import pandas as pd\n",
    "import numpy as np\n",
    "import json\n",
    "import itertools\n",
    "import networkx as nx\n",
    "import matplotlib.pyplot as plt\n",
    "from pyvis.network import Network\n",
    "\n",
    "from scipy.cluster.hierarchy import dendrogram, linkage, fcluster\n",
    "from scipy.spatial.distance import pdist, squareform\n",
    "\n",
    "from utils import (\n",
    "    save_as_json,\n",
    "    get_graph_from_matrix_customized_color,\n",
    "    append_cluster_color,\n",
    "    get_cluster_plot,\n",
    "    get_graph_from_cluster_data_without_color,\n",
    "    get_cluster_overview,\n",
    "    append_mean_coefficients_per_cluster,\n",
    "    get_mean_sentiment_corr,\n",
    ")\n",
    "\n",
    "pd.set_option(\"display.max_colwidth\", None)\n",
    "\n",
    "matrix = pd.read_json(\n",
    "    \"../graph_network/plots_graphs_or_dfs_archive/matrix_iv_29-04-24.json\"\n",
    ")\n",
    "graph_clustering_shortest_path = pd.read_json(\"../graph_network/graph_clustering_shortest_path_03-05-24.json\")\n",
    "graph_clustering_e_b_c = pd.read_json(\"../graph_network/graph_clustering_edge_betweenness_centrality_03-05-24.json\")\n",
    "url_clustering_3 = pd.read_json(\"../graph_network/url_clustering_2_04-05-24.json\")\n",
    "url_clustering_4 = pd.read_json(\"../graph_network/url_clustering_3_04-05-24.json\")"
   ]
  },
  {
   "cell_type": "code",
   "execution_count": null,
   "metadata": {},
   "outputs": [],
   "source": [
    "senti = pd.read_json(\"../graph_network/full_data_iv_29-04-24.json\")"
   ]
  },
  {
   "cell_type": "code",
   "execution_count": null,
   "metadata": {},
   "outputs": [],
   "source": [
    "G, N = get_graph_from_matrix_customized_color(matrix)\n",
    "N.show(\"graph_sentiment_coloring_iv.html\")"
   ]
  },
  {
   "cell_type": "markdown",
   "metadata": {},
   "source": [
    "# Clustering based on Shortest-Path"
   ]
  },
  {
   "cell_type": "markdown",
   "metadata": {},
   "source": [
    "### Function demonstration using the Karate Club graph  "
   ]
  },
  {
   "cell_type": "code",
   "execution_count": null,
   "metadata": {},
   "outputs": [],
   "source": [
    "G = nx.karate_club_graph()\n",
    "\n",
    "path_lengths = dict(nx.all_pairs_shortest_path_length(G))\n",
    "distance_matrix = np.zeros((len(G), len(G)))\n",
    "\n",
    "nodes = list(G.nodes())\n",
    "for i, node_i in enumerate(nodes):\n",
    "    for j, node_j in enumerate(nodes):\n",
    "        if node_j in path_lengths[node_i]:\n",
    "            distance_matrix[i, j] = path_lengths[node_i][node_j]\n",
    "\n",
    "linked = linkage(squareform(distance_matrix), method='ward')\n",
    "\n",
    "dendrogram(linked)\n",
    "\n",
    "# Dendrogram anzeigen\n",
    "plt.title(\"Dendrogram\")\n",
    "plt.xlabel('Node Index')\n",
    "plt.ylabel('Distance')\n",
    "plt.show()"
   ]
  },
  {
   "cell_type": "code",
   "execution_count": null,
   "metadata": {},
   "outputs": [],
   "source": [
    "G = G.to_undirected()\n",
    "isolates = list(nx.isolates(G))\n",
    "G.remove_nodes_from(isolates)"
   ]
  },
  {
   "cell_type": "code",
   "execution_count": null,
   "metadata": {},
   "outputs": [],
   "source": [
    "path_lengths = dict(nx.all_pairs_shortest_path_length(G))\n",
    "distance_matrix = np.zeros((len(G), len(G)))\n",
    "\n",
    "nodes = list(G.nodes())\n",
    "for i, node_i in enumerate(nodes):\n",
    "    for j, node_j in enumerate(nodes):\n",
    "        if node_j in path_lengths[node_i]:\n",
    "            distance_matrix[i, j] = path_lengths[node_i][node_j]\n",
    "\n",
    "linked = linkage(squareform(distance_matrix), method='ward')"
   ]
  },
  {
   "cell_type": "code",
   "execution_count": null,
   "metadata": {},
   "outputs": [],
   "source": [
    "fig, ax = plt.subplots(figsize=(21, 9))\n",
    "dendrogram(linked, ax=ax, color_threshold=6)\n",
    "ax.set_ylim(0, 10)\n",
    "ax.set_xticks([])\n",
    "ax.axhline(y=6, color='r', linestyle='--', label='Distance = 6')\n",
    "plt.xlabel('Subpages of Mobiliar-Webpage')\n",
    "ax.set_ylabel('Distance')\n",
    "# plt.title('Full Dendrogram of Hierarchical Linkage Clustering')\n",
    "ax.legend()\n",
    "plt.show()"
   ]
  },
  {
   "cell_type": "code",
   "execution_count": null,
   "metadata": {},
   "outputs": [],
   "source": [
    "max_distance = 6\n",
    "cluster_labels = fcluster(linked, max_distance, criterion='distance')\n",
    "node_to_cluster = {node: int(cluster) for node, cluster in zip(nodes, cluster_labels)}"
   ]
  },
  {
   "cell_type": "code",
   "execution_count": null,
   "metadata": {},
   "outputs": [],
   "source": [
    "graph_clustering_shortest_path = senti.copy()\n",
    "graph_clustering_shortest_path['cluster_id'] = graph_clustering_shortest_path['url'].map(node_to_cluster)"
   ]
  },
  {
   "cell_type": "markdown",
   "metadata": {},
   "source": [
    "### Coloring"
   ]
  },
  {
   "cell_type": "code",
   "execution_count": null,
   "metadata": {},
   "outputs": [],
   "source": [
    "print(\"Rows count:\", graph_clustering_shortest_path.shape[0])\n",
    "graph_clustering_shortest_path = graph_clustering_shortest_path.dropna(subset=[\"cluster_id\"])\n",
    "print(\"Rows count:\", graph_clustering_shortest_path.shape[0])"
   ]
  },
  {
   "cell_type": "code",
   "execution_count": null,
   "metadata": {},
   "outputs": [],
   "source": [
    "df = get_cluster_overview(graph_clustering_shortest_path, \"cluster_id\").sort_values(\"cluster_size\", ascending=False)\n",
    "df"
   ]
  },
  {
   "cell_type": "code",
   "execution_count": null,
   "metadata": {},
   "outputs": [],
   "source": [
    "get_bar_plot(df, \"cluster_id\")"
   ]
  },
  {
   "cell_type": "code",
   "execution_count": null,
   "metadata": {},
   "outputs": [],
   "source": [
    "# specific_colors = {\n",
    "#     # 1: \"red\", 2: \"green\", 3: \"blue\", 4: \"yellow\", 5: \"orange\", 6: \"purple\", 7:\"winered\"\n",
    "#     5: \"#f5e505\", 10: \"#05f531\", 3: \"#f50515\", 4: \"#2d05f7\", 12: \"#7c02f5\", 6: \"#f5a505\", 7:\"#c20aff\", 9:\"#4a1a1a\", 2:\"#02eff7\", 8:\"#144026\", 1:\"#79801d\"\n",
    "    \n",
    "# }\n",
    "# append_cluster_color(graph_clustering_shortest_path, \"cluster_id\", specific_colors)\n",
    "get_cluster_plot(graph_clustering_shortest_path, \"cluster_id\")"
   ]
  },
  {
   "cell_type": "markdown",
   "metadata": {},
   "source": [
    "### Create Graph"
   ]
  },
  {
   "cell_type": "code",
   "execution_count": null,
   "metadata": {},
   "outputs": [],
   "source": [
    "# G, N = get_graph_from_cluster_data(matrix, graph_clustering_shortest_path, \"cluster_id\")\n",
    "# graph_clustering_shortest_path = pd.read_json(\"../graph_network/graph_clustering_shortest_path_04-05-24.json\")\n",
    "G, N = get_graph_from_cluster_data_without_color(matrix, graph_clustering_shortest_path, \"cluster_id\") \n",
    "N.show(\"graph_clustering_shortest_path.html\")"
   ]
  },
  {
   "cell_type": "markdown",
   "metadata": {},
   "source": [
    "### Stats"
   ]
  },
  {
   "cell_type": "code",
   "execution_count": null,
   "metadata": {},
   "outputs": [],
   "source": [
    "graph_clustering_shortest_path[\"cluster_id\"].nunique()"
   ]
  },
  {
   "cell_type": "code",
   "execution_count": null,
   "metadata": {},
   "outputs": [],
   "source": [
    "correlation_of_mean_sentiment_per_cluster, correlation_matrix_per_cluster = get_correlation_df_per_cluster(graph_clustering_shortest_path, \"cluster_id\")\n",
    "correlation_of_mean_sentiment_per_cluster"
   ]
  },
  {
   "cell_type": "code",
   "execution_count": null,
   "metadata": {},
   "outputs": [],
   "source": [
    "get_cluster_overview(graph_clustering_shortest_path, \"cluster_id\")"
   ]
  },
  {
   "cell_type": "markdown",
   "metadata": {},
   "source": [
    "## Edge betweenness centrality - Girvan Newman Algorithm"
   ]
  },
  {
   "cell_type": "code",
   "execution_count": null,
   "metadata": {},
   "outputs": [],
   "source": [
    "import networkx as nx\n",
    "from sklearn.cluster import KMeans\n",
    "import numpy as np\n",
    "\n",
    "# Erstellen Sie Ihren Graphen\n",
    "G = nx.karate_club_graph()\n",
    "\n",
    "# Berechnen Sie die Betweenness Centrality für jeden Knoten\n",
    "centrality = nx.betweenness_centrality(G)\n",
    "centrality_values = np.array(list(centrality.values())).reshape(-1, 1)\n",
    "\n",
    "# Anwendung eines Clustering-Algorithmus, hier k-means\n",
    "kmeans = KMeans(n_clusters=2)\n",
    "kmeans.fit(centrality_values)\n",
    "labels = kmeans.labels_\n",
    "\n",
    "# Knotenlabels zuordnen und den Graphen visualisieren\n",
    "pos = nx.spring_layout(G)\n",
    "nx.draw(G, pos, node_color=labels, with_labels=True, cmap='viridis')\n"
   ]
  },
  {
   "cell_type": "code",
   "execution_count": null,
   "metadata": {},
   "outputs": [],
   "source": [
    "G = G.to_undirected()\n",
    "isolates = list(nx.isolates(G))\n",
    "G.remove_nodes_from(isolates)"
   ]
  },
  {
   "cell_type": "code",
   "execution_count": null,
   "metadata": {},
   "outputs": [],
   "source": [
    "def most_central_edge(G):\n",
    "    centrality = nx.edge_betweenness_centrality(G)\n",
    "    return max(centrality, key=centrality.get)\n",
    "\n",
    "k = 20\n",
    "comp = nx.community.girvan_newman(G, most_valuable_edge=most_central_edge)\n",
    "\n",
    "limited = itertools.takewhile(lambda c: len(c) <= k, comp)\n",
    "for communities in limited:\n",
    "    tuple(sorted(c) for c in communities)"
   ]
  },
  {
   "cell_type": "code",
   "execution_count": null,
   "metadata": {},
   "outputs": [],
   "source": [
    "community_id = {node: idx for idx, community in enumerate(communities) for node in community}"
   ]
  },
  {
   "cell_type": "code",
   "execution_count": null,
   "metadata": {},
   "outputs": [],
   "source": [
    "graph_clustering_e_b_c = senti.copy()\n",
    "graph_clustering_e_b_c['commun_id'] = senti['url'].map(community_id)"
   ]
  },
  {
   "cell_type": "markdown",
   "metadata": {},
   "source": [
    "### Coloring"
   ]
  },
  {
   "cell_type": "code",
   "execution_count": null,
   "metadata": {},
   "outputs": [],
   "source": [
    "print(\"Rows count:\", graph_clustering_e_b_c.shape[0])\n",
    "graph_clustering_e_b_c = graph_clustering_e_b_c.dropna(subset=[\"commun_id\"])\n",
    "print(\"Rows count:\", graph_clustering_e_b_c.shape[0])"
   ]
  },
  {
   "cell_type": "code",
   "execution_count": null,
   "metadata": {},
   "outputs": [],
   "source": [
    "# specific_colors = {\n",
    "#     5: \"#f5e505\", 0: \"#05f531\", 7: \"#f50515\", 2: \"#2d05f7\", 8: \"#7c02f5\", 1: \"#f5a505\", 4:\"#c20aff\"\n",
    "# }\n",
    "# append_cluster_color(graph_clustering_e_b_c, \"commun_id\",specific_colors)\n",
    "get_cluster_plot(graph_clustering_e_b_c, \"commun_id\")"
   ]
  },
  {
   "cell_type": "markdown",
   "metadata": {},
   "source": [
    "### Create Graph"
   ]
  },
  {
   "cell_type": "code",
   "execution_count": null,
   "metadata": {},
   "outputs": [],
   "source": [
    "# save_as_json(graph_clustering_e_b_c, \"graph_clustering_edge_betweenness_centrality\")\n",
    "graph_clustering_e_b_c = pd.read_json(\"../graph_network/graph_clustering_edge_betweenness_centrality_03-05-24.json\")\n",
    "G, N = get_graph_from_cluster_data_without_color(matrix, graph_clustering_e_b_c, \"commun_id\") \n",
    "N.show(\"graph_clustering_edge_betweenness_centrality.html\")"
   ]
  },
  {
   "cell_type": "markdown",
   "metadata": {},
   "source": [
    "### Stats"
   ]
  },
  {
   "cell_type": "code",
   "execution_count": null,
   "metadata": {},
   "outputs": [],
   "source": [
    "df = get_cluster_overview(graph_clustering_e_b_c, \"commun_id\").sort_values(\"commun_size\", ascending=False)\n",
    "df"
   ]
  },
  {
   "cell_type": "code",
   "execution_count": null,
   "metadata": {},
   "outputs": [],
   "source": [
    "def get_bar_plot(df, cluster_col):  \n",
    "    plt.figure(figsize=(12, 6))  # Größe des Plots festlegen\n",
    "    plt.bar(df[cluster_col].astype(str), df[f'{cluster_col[:-3]}_size'], color=df[f\"color_{cluster_col}\"])\n",
    "    plt.xlabel(f'Number of Nodes in Cluster') #{cluster_col[:-3]}\n",
    "    plt.grid(True, which='both', linestyle='--', linewidth=0.5)\n",
    "    ax = plt.gca()\n",
    "    plt.xlabel('Cluster ID') \n",
    "    plt.ylabel(f'Number of Nodes in Cluster')\n",
    "    plt.show()\n",
    "\n",
    "get_bar_plot(df, \"commun_id\")"
   ]
  },
  {
   "cell_type": "code",
   "execution_count": null,
   "metadata": {},
   "outputs": [],
   "source": [
    "graph_clustering_e_b_c[\"commun_id\"].nunique()\n",
    "correlation_of_mean_sentiment_per_cluster, correlation_matrix_per_cluster = get_correlation_df_per_cluster(graph_clustering_e_b_c, \"commun_id\")\n",
    "correlation_of_mean_sentiment_per_cluster"
   ]
  },
  {
   "cell_type": "code",
   "execution_count": null,
   "metadata": {},
   "outputs": [],
   "source": [
    "get_cluster_overview(graph_clustering_e_b_c, \"commun_id\")"
   ]
  },
  {
   "cell_type": "markdown",
   "metadata": {},
   "source": [
    "# URL Clustering"
   ]
  },
  {
   "cell_type": "markdown",
   "metadata": {},
   "source": [
    "### Helper Functions"
   ]
  },
  {
   "cell_type": "code",
   "execution_count": null,
   "metadata": {},
   "outputs": [],
   "source": [
    "def get_url_path(url):\n",
    "    from urllib.parse import urlparse\n",
    "    parsed_url = urlparse(url)\n",
    "    return parsed_url.path, parsed_url.netloc\n",
    "\n",
    "def get_url_list(url):\n",
    "    path, domain = get_url_path(url.strip(\"/\"))\n",
    "    url_elements = [domain] \n",
    "    if path:\n",
    "        url_elements.extend(x.strip() for x in path.split(\"/\") if x.strip())  \n",
    "    return url_elements\n",
    "\n",
    "def append_url_list_to_df(df, url_col=\"url\"):\n",
    "    df[\"url_elements_list\"] = df[url_col].apply(get_url_list)\n",
    "    return df \n",
    "    \n",
    "def get_list_length(df, url_list_col):\n",
    "    df['list_length'] = df[url_list_col].apply(len)\n",
    "    return df\n",
    "\n",
    "senti = append_url_list_to_df(senti)"
   ]
  },
  {
   "cell_type": "markdown",
   "metadata": {},
   "source": [
    "### Clustering"
   ]
  },
  {
   "cell_type": "code",
   "execution_count": null,
   "metadata": {},
   "outputs": [],
   "source": [
    "def group_by_list_element(df, column_name, position):\n",
    "    df_copy = df.copy()\n",
    "    element_groups = {}\n",
    "    df_copy[\"group_id\"] = df.index\n",
    "    unique_group_id = 1  # Startwert für Gruppen-IDs\n",
    "\n",
    "    for idx, row in df_copy.iterrows():\n",
    "        # Prüfen, ob die Liste lang genug ist\n",
    "        if position < len(row[column_name]):\n",
    "            # Erstellen eines Tupels der Elemente bis zur angegebenen Position\n",
    "            current_elements = tuple(row[column_name][:position + 1])\n",
    "            if current_elements in element_groups:\n",
    "                new_group_id = element_groups[current_elements]\n",
    "            else:\n",
    "                new_group_id = unique_group_id\n",
    "                element_groups[current_elements] = new_group_id\n",
    "                unique_group_id += 1  # Erhöhe den Zähler für Gruppen-IDs\n",
    "        else:\n",
    "            # Falls die Liste kürzer ist, als die geforderte Position,\n",
    "            # weisen wir eine neue, eindeutige Gruppen-ID zu\n",
    "            new_group_id = unique_group_id\n",
    "            unique_group_id += 1  # Erhöhe den Zähler für Gruppen-IDs\n",
    "\n",
    "        df_copy.at[idx, \"group_id\"] = new_group_id\n",
    "\n",
    "    return df_copy"
   ]
  },
  {
   "cell_type": "code",
   "execution_count": null,
   "metadata": {},
   "outputs": [],
   "source": [
    "url_clustering_1 = group_by_list_element(senti, \"url_elements_list\", 1)\n",
    "url_clustering_3 = group_by_list_element(senti, \"url_elements_list\", 2)\n",
    "url_clustering_4 = group_by_list_element(senti, \"url_elements_list\", 3)"
   ]
  },
  {
   "cell_type": "code",
   "execution_count": null,
   "metadata": {},
   "outputs": [],
   "source": [
    "url_clustering_ = group_by_list_element(senti, \"url_elements_list\", 1)\n",
    "url_clustering_[\"group_id\"].nunique()"
   ]
  },
  {
   "cell_type": "code",
   "execution_count": null,
   "metadata": {},
   "outputs": [],
   "source": [
    "fig, ax = plt.subplots()\n",
    "x = [0,1,2,3,4,5,6,7,8,9,10]\n",
    "y = [0,13,42,128,294,1179,1226,1561,1702,1735,1746]\n",
    "# ax.plt.figure(figsize=(6, 4))\n",
    "plt.plot(x, y, marker='o')\n",
    "# plt.plot(y)\n",
    "ax.set(xlabel='List Element Position', ylabel='Number of Groups',\n",
    "       title='')\n",
    "ax.grid()\n",
    "plt.show()"
   ]
  },
  {
   "cell_type": "markdown",
   "metadata": {},
   "source": [
    "### Coloring"
   ]
  },
  {
   "cell_type": "code",
   "execution_count": null,
   "metadata": {},
   "outputs": [],
   "source": [
    "# specific_colors = {\n",
    "#    13: \"#f5e505\", 11: \"#05f531\", 14: \"#f50515\", 8: \"#2d05f7\", 2: \"#f5a505\", 16: \"#7c02f5\", 4:\"#c20aff\", 12:\"#4a1a1a\", 7:\"#02eff7\", 10:\"#144026\", 32:\"#79801d\"\n",
    "# }\n",
    "# append_cluster_color(url_clustering_3, \"group_id\", specific_colors)\n",
    "\n",
    "get_cluster_plot(url_clustering_3, \"group_id\")\n",
    "\n",
    "# save_as_json(url_clustering_3, \"url_clustering_3\")"
   ]
  },
  {
   "cell_type": "code",
   "execution_count": null,
   "metadata": {},
   "outputs": [],
   "source": [
    "# specific_colors = {\n",
    "#    176: \"#f5e505\", 166: \"#05f531\", 108: \"#f50515\", 90: \"#2d05f7\", 12: \"#f5a505\", 271: \"#7c02f5\", 283:\"#c20aff\", 20:\"#4a1a1a\", 99:\"#02eff7\", 162:\"#144026\", 69:\"#79801d\"\n",
    "# }\n",
    "# append_cluster_color(url_clustering_4, \"group_id\", specific_colors)\n",
    "\n",
    "get_cluster_plot(url_clustering_4, \"group_id\")\n",
    "# save_as_json(url_clustering_4, \"url_clustering_4\")"
   ]
  },
  {
   "cell_type": "markdown",
   "metadata": {},
   "source": [
    "### Create Graph"
   ]
  },
  {
   "cell_type": "code",
   "execution_count": null,
   "metadata": {},
   "outputs": [],
   "source": [
    "# graph_url_clustering_4 = pd.read_json(\"../graph_network/url_clustering_4_04-05-24.json\")\n",
    "G, N = get_graph_from_cluster_data_without_color(matrix, url_clustering_4, \"group_id\") \n",
    "N.show(\"graph_url_clustering_4.html\")"
   ]
  },
  {
   "cell_type": "code",
   "execution_count": null,
   "metadata": {},
   "outputs": [],
   "source": [
    "# graph_url_clustering_3 = pd.read_json(\"../graph_network/url_clustering_3_04-05-24.json\")\n",
    "G, N = get_graph_from_cluster_data_without_color(matrix, url_clustering_3, \"group_id\") \n",
    "N.show(\"graph_url_clustering_3.html\")"
   ]
  },
  {
   "cell_type": "code",
   "execution_count": null,
   "metadata": {},
   "outputs": [],
   "source": [
    "def get_identical_url_elements_col(df, cluster_col, position):\n",
    "    avg_senti_size_per_cluster = get_cluster_overview(df, \"group_id\")\n",
    "    df = df[df[cluster_col].isin(avg_senti_size_per_cluster[cluster_col])]\n",
    "    df['identical_url_elements'] = df['url_elements_list'].apply(lambda x: x[:position] if len(x) >= position else [None]*position)\n",
    "    og_df = df.groupby(cluster_col).first().reset_index()\n",
    "    avg_senti_size_per_cluster = pd.merge(avg_senti_size_per_cluster, og_df[[cluster_col, 'identical_url_elements']], on=cluster_col, how='left')\n",
    "    avg_senti_size_per_cluster = avg_senti_size_per_cluster.sort_values(\"group_size\", ascending=False)\n",
    "    return avg_senti_size_per_cluster.reset_index()"
   ]
  },
  {
   "cell_type": "code",
   "execution_count": null,
   "metadata": {},
   "outputs": [],
   "source": [
    "def get_bar_plot(df, cluster_col):  \n",
    "    plt.figure(figsize=(12, 6))  # Größe des Plots festlegen\n",
    "    plt.barh(df['identical_url_elements'].astype(str), df[f'{cluster_col[:-3]}_size'], color=df[f\"color_{cluster_col}\"])\n",
    "\n",
    "    plt.gca().invert_yaxis()\n",
    "    plt.gca().invert_xaxis()\n",
    "    plt.xlabel(f'Number of Nodes in Cluster') #{cluster_col[:-3]}\n",
    "    plt.grid(True, which='both', linestyle='--', linewidth=0.5)\n",
    "    plt.tight_layout()\n",
    "    # yaxis.set_label_position(\"right\")\n",
    "    ax = plt.gca()  # Aktuelle Achse holen\n",
    "    ax.yaxis.set_label_position(\"right\")  # Position des Y-Achsen-Labels setzen\n",
    "    ax.yaxis.tick_right()\n",
    "    plt.show()"
   ]
  },
  {
   "cell_type": "code",
   "execution_count": null,
   "metadata": {},
   "outputs": [],
   "source": [
    "df4 = get_identical_url_elements_col(url_clustering_4, \"group_id\", 4)\n",
    "df4[:10].style.set_properties(subset=['identical_url_elements'], **{'text-align': 'left'})"
   ]
  },
  {
   "cell_type": "code",
   "execution_count": null,
   "metadata": {},
   "outputs": [],
   "source": [
    "get_bar_plot(df4, \"group_id\")"
   ]
  },
  {
   "cell_type": "code",
   "execution_count": null,
   "metadata": {},
   "outputs": [],
   "source": [
    "df3 = get_identical_url_elements_col(url_clustering_3, \"group_id\", 3)\n",
    "df3[:10].style.set_properties(subset=['identical_url_elements'], **{'text-align': 'left'})"
   ]
  },
  {
   "cell_type": "code",
   "execution_count": null,
   "metadata": {},
   "outputs": [],
   "source": [
    "get_bar_plot(df3, \"group_id\")"
   ]
  },
  {
   "cell_type": "code",
   "execution_count": null,
   "metadata": {},
   "outputs": [],
   "source": [
    "def plot_regression_multi(df):\n",
    "    columns_pairs = [\n",
    "        (\"negative\", \"avg_cluster_neg\", 'red'),\n",
    "        (\"neutral\", \"avg_cluster_neu\", 'blue'),\n",
    "        (\"positive\", \"avg_cluster_pos\", 'green')\n",
    "    ]\n",
    "    \n",
    "    plt.figure(figsize=(10, 10))\n",
    "    for x_col, y_col, color in columns_pairs:\n",
    "        df_filtered = df.dropna(subset=[x_col, y_col])\n",
    "        \n",
    "        x = df_filtered[x_col]\n",
    "        y = df_filtered[y_col]\n",
    "        m, b = np.polyfit(x, y, 1)\n",
    "        plt.scatter(x, y, color=color, label=f'{x_col} vs {y_col}', s=1)\n",
    "        plt.plot(x, m*x + b, color=color)\n",
    "    plt.xlabel('Value')\n",
    "    plt.ylabel('Average Cluster Value')\n",
    "    plt.title('Regression Plot of Different Sentiment Coefficients vs. Average Cluster Metrics')\n",
    "    plt.legend()\n",
    "\n",
    "    plt.xlim(0, 1)\n",
    "    plt.ylim(0, 1)\n",
    "    plt.show()\n",
    "    \n",
    "plot_regression_multi(append_mean_coefficients_per_cluster(url_clustering_4, \"group_id\"))"
   ]
  }
 ],
 "metadata": {
  "kernelspec": {
   "display_name": "WBTH-Project",
   "language": "python",
   "name": "python3"
  },
  "language_info": {
   "codemirror_mode": {
    "name": "ipython",
    "version": 3
   },
   "file_extension": ".py",
   "mimetype": "text/x-python",
   "name": "python",
   "nbconvert_exporter": "python",
   "pygments_lexer": "ipython3",
   "version": "3.10.14"
  }
 },
 "nbformat": 4,
 "nbformat_minor": 2
}
