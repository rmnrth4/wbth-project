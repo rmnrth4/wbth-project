{
 "cells": [
  {
   "cell_type": "code",
   "execution_count": 128,
   "metadata": {},
   "outputs": [],
   "source": [
    "import pandas as pd\n",
    "import datetime\n",
    "from IPython.display import display"
   ]
  },
  {
   "cell_type": "markdown",
   "metadata": {},
   "source": [
    "## Helper Functions"
   ]
  },
  {
   "cell_type": "code",
   "execution_count": 137,
   "metadata": {},
   "outputs": [],
   "source": [
    "def save_as_csv(dataframe, file_name):\n",
    "    date_info = datetime.datetime.now().strftime(\"%d-%m-%y_%H:%M:%S\")\n",
    "    dataframe.to_csv(f\"scraping_analysis/{date_info}_{file_name}.csv\", index=False)"
   ]
  },
  {
   "cell_type": "markdown",
   "metadata": {},
   "source": [
    "## Code"
   ]
  },
  {
   "cell_type": "code",
   "execution_count": 110,
   "metadata": {},
   "outputs": [],
   "source": [
    "df = pd.read_json(\"scrape_archive/full_scrape.json\")"
   ]
  },
  {
   "cell_type": "code",
   "execution_count": 123,
   "metadata": {},
   "outputs": [
    {
     "data": {
      "text/plain": [
       "2306"
      ]
     },
     "execution_count": 123,
     "metadata": {},
     "output_type": "execute_result"
    }
   ],
   "source": [
    "# wie viele in jeder spalte ausser \"url\", null oder \"\" enthalten, und im string der spalte \"url\" das wort \"kunst\" vorkommt\n",
    "df.loc[\n",
    "    (\n",
    "        (df.loc[:, ~df.columns.isin([\"url\"])] == \"\") |\n",
    "        (df.loc[:, ~df.columns.isin([\"url\"])].isnull())\n",
    "    ).all(axis=1)\n",
    "    & df[\"url\"].str.contains(\"https\")\n",
    "].shape[0]"
   ]
  },
  {
   "cell_type": "code",
   "execution_count": 119,
   "metadata": {},
   "outputs": [],
   "source": [
    "def count_string_occurences_in_url(pandas_df):\n",
    "    things_to_check = [\"https\", \"kunst\", \"generalagenturen\", \"vcard\", \"mobiliare\", \"mobiliere\"] #https to get 100%\n",
    "    results = []\n",
    "    for item in things_to_check:\n",
    "        item_count = pandas_df[pandas_df[\"url\"].str.contains(item)].shape[0]\n",
    "        pct = round(item_count/pandas_df.shape[0]*100, 2)\n",
    "        count_empty = pandas_df.loc[\n",
    "                (\n",
    "                    (pandas_df.loc[:, ~pandas_df.columns.isin([\"url\"])] == \"\") |\n",
    "                    (pandas_df.loc[:, ~pandas_df.columns.isin([\"url\"])].isnull())\n",
    "                ).all(axis=1)\n",
    "                & pandas_df[\"url\"].str.contains(item)\n",
    "            ].shape[0]\n",
    "        results.append({\n",
    "            \"item_name\": item,\n",
    "            \"item_count\": item_count,\n",
    "            \"percentage\": pct,\n",
    "            \"empty_count_of_all_columns_except_url\": count_empty,\n",
    "            \"pct_of_that\": round(count_empty/item_count*100, 2),\n",
    "        })\n",
    "    return pd.DataFrame(results)"
   ]
  },
  {
   "cell_type": "code",
   "execution_count": 143,
   "metadata": {},
   "outputs": [
    {
     "data": {
      "text/html": [
       "<div>\n",
       "<style scoped>\n",
       "    .dataframe tbody tr th:only-of-type {\n",
       "        vertical-align: middle;\n",
       "    }\n",
       "\n",
       "    .dataframe tbody tr th {\n",
       "        vertical-align: top;\n",
       "    }\n",
       "\n",
       "    .dataframe thead th {\n",
       "        text-align: right;\n",
       "    }\n",
       "</style>\n",
       "<table border=\"1\" class=\"dataframe\">\n",
       "  <thead>\n",
       "    <tr style=\"text-align: right;\">\n",
       "      <th></th>\n",
       "      <th>item_name</th>\n",
       "      <th>item_count</th>\n",
       "      <th>percentage</th>\n",
       "      <th>empty_count_of_all_columns_except_url</th>\n",
       "      <th>pct_of_that</th>\n",
       "    </tr>\n",
       "  </thead>\n",
       "  <tbody>\n",
       "    <tr>\n",
       "      <th>0</th>\n",
       "      <td>https</td>\n",
       "      <td>4809</td>\n",
       "      <td>100.00</td>\n",
       "      <td>2306</td>\n",
       "      <td>47.95</td>\n",
       "    </tr>\n",
       "    <tr>\n",
       "      <th>1</th>\n",
       "      <td>kunst</td>\n",
       "      <td>2046</td>\n",
       "      <td>42.55</td>\n",
       "      <td>1851</td>\n",
       "      <td>90.47</td>\n",
       "    </tr>\n",
       "    <tr>\n",
       "      <th>2</th>\n",
       "      <td>generalagenturen</td>\n",
       "      <td>151</td>\n",
       "      <td>3.14</td>\n",
       "      <td>5</td>\n",
       "      <td>3.31</td>\n",
       "    </tr>\n",
       "    <tr>\n",
       "      <th>3</th>\n",
       "      <td>vcard</td>\n",
       "      <td>154</td>\n",
       "      <td>3.20</td>\n",
       "      <td>154</td>\n",
       "      <td>100.00</td>\n",
       "    </tr>\n",
       "    <tr>\n",
       "      <th>4</th>\n",
       "      <td>mobiliare</td>\n",
       "      <td>18</td>\n",
       "      <td>0.37</td>\n",
       "      <td>0</td>\n",
       "      <td>0.00</td>\n",
       "    </tr>\n",
       "    <tr>\n",
       "      <th>5</th>\n",
       "      <td>mobiliere</td>\n",
       "      <td>86</td>\n",
       "      <td>1.79</td>\n",
       "      <td>1</td>\n",
       "      <td>1.16</td>\n",
       "    </tr>\n",
       "  </tbody>\n",
       "</table>\n",
       "</div>"
      ],
      "text/plain": [
       "          item_name  item_count  percentage  \\\n",
       "0             https        4809      100.00   \n",
       "1             kunst        2046       42.55   \n",
       "2  generalagenturen         151        3.14   \n",
       "3             vcard         154        3.20   \n",
       "4         mobiliare          18        0.37   \n",
       "5         mobiliere          86        1.79   \n",
       "\n",
       "   empty_count_of_all_columns_except_url  pct_of_that  \n",
       "0                                   2306        47.95  \n",
       "1                                   1851        90.47  \n",
       "2                                      5         3.31  \n",
       "3                                    154       100.00  \n",
       "4                                      0         0.00  \n",
       "5                                      1         1.16  "
      ]
     },
     "execution_count": 143,
     "metadata": {},
     "output_type": "execute_result"
    }
   ],
   "source": [
    "count_string_occurences_in_url(df)\n",
    "# save_as_csv(count_string_occurences_in_url(df), \"evaluation_occurrences_of_words_in_url\")"
   ]
  },
  {
   "cell_type": "code",
   "execution_count": 140,
   "metadata": {},
   "outputs": [],
   "source": [
    "https_df_everything_empty = df.loc[\n",
    "    (\n",
    "        (df.loc[:, ~df.columns.isin([\"url\"])] != \"\") |\n",
    "        (df.loc[:, ~df.columns.isin([\"url\"])].notnull())\n",
    "    ).all(axis=1)\n",
    "    & df[\"url\"].str.contains(\"generalagenturen\")\n",
    "]\n",
    "# save_as_csv(https_df_everything_empty, \"generalagenturen_not_empty\")"
   ]
  },
  {
   "cell_type": "code",
   "execution_count": 121,
   "metadata": {},
   "outputs": [],
   "source": [
    "def count_not_null_or_empty_of_X(pandas_df):\n",
    "    col_list = pandas_df.columns.values.tolist()\n",
    "    results = []\n",
    "    for x in col_list:\n",
    "        x_count = pandas_df[pandas_df[x].notna() & (pandas_df[x] != \"\")].shape[0]\n",
    "        pct = round(x_count/pandas_df.shape[0]*100, 2)\n",
    "        results.append({\n",
    "            'column_name': x,\n",
    "            'is_not_empty_count': x_count,\n",
    "            'percentage': pct\n",
    "        })\n",
    "    return pd.DataFrame(results)"
   ]
  },
  {
   "cell_type": "code",
   "execution_count": 141,
   "metadata": {},
   "outputs": [],
   "source": [
    "count_not_null_or_empty_of_X(df)\n",
    "# save_as_csv(count_not_null_or_empty_of_X(df), \"count_not_empty_by_column\")\n"
   ]
  }
 ],
 "metadata": {
  "kernelspec": {
   "display_name": "WBTH-Project",
   "language": "python",
   "name": "python3"
  },
  "language_info": {
   "codemirror_mode": {
    "name": "ipython",
    "version": 3
   },
   "file_extension": ".py",
   "mimetype": "text/x-python",
   "name": "python",
   "nbconvert_exporter": "python",
   "pygments_lexer": "ipython3",
   "version": "3.10.13"
  }
 },
 "nbformat": 4,
 "nbformat_minor": 2
}
