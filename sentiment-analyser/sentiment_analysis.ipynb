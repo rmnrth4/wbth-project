{
 "cells": [
  {
   "cell_type": "code",
   "execution_count": 10,
   "metadata": {},
   "outputs": [],
   "source": [
    "# https://www.datacamp.com/tutorial/text-analytics-beginners-nltk\n",
    "\n",
    "import pandas as pd\n",
    "import nltk\n",
    "import json\n",
    "\n",
    "# download nltk corpus (first time only)\n",
    "# nltk.download(\"all\")\n",
    "from nltk.sentiment.vader import SentimentIntensityAnalyzer\n",
    "analyzer = SentimentIntensityAnalyzer()\n",
    "from nltk.tokenize import word_tokenize\n",
    "from nltk.corpus import stopwords\n",
    "# from nltk.stem import WordNetLemmatizer\n",
    "from nltk.stem import SnowballStemmer\n",
    "# Installiere das SnowballStemmer für die deutsche Sprache\n",
    "# nltk.download('stopwords')\n",
    "# nltk.download('punkt')\n",
    "# nltk.download('wordnet')"
   ]
  },
  {
   "cell_type": "markdown",
   "metadata": {},
   "source": [
    "## Helper functions\n",
    "### NLTK Application"
   ]
  },
  {
   "cell_type": "code",
   "execution_count": 42,
   "metadata": {},
   "outputs": [],
   "source": [
    "# the columns are beeing merged togheter here\n",
    "def merge_columns_in_dataframe(df):\n",
    "    columns_to_merge = [\n",
    "        \"page_title\",\n",
    "        \"sub_title\",\n",
    "        \"introduction\",\n",
    "        \"summary_box\",\n",
    "        \"content\",\n",
    "        \"accordion\",\n",
    "    ]\n",
    "    new_df = df.loc[:, [\"url\", \"page_title\"]].copy()\n",
    "    new_df[\"text\"] = df.apply(\n",
    "        lambda row: \" \".join([str(row[col]) for col in columns_to_merge]), axis=1\n",
    "    )\n",
    "    return new_df"
   ]
  },
  {
   "cell_type": "code",
   "execution_count": 49,
   "metadata": {},
   "outputs": [],
   "source": [
    "def nltk_text_preprocessing(text):\n",
    "    from nltk.tokenize import word_tokenize\n",
    "    from nltk.corpus import stopwords\n",
    "    from nltk.stem import SnowballStemmer\n",
    "\n",
    "    tokens = word_tokenize(text.lower())\n",
    "    filtered_tokens = [\n",
    "        token for token in tokens if token not in stopwords.words(\"german\")\n",
    "    ]\n",
    "    stemmer = SnowballStemmer(\"german\")\n",
    "    stemmed_tokens = [stemmer.stem(token) for token in filtered_tokens]\n",
    "    processed_text = \" \".join(stemmed_tokens)\n",
    "    return processed_text\n",
    "\n",
    "def get_sentiment(text_string):\n",
    "    from nltk.sentiment.vader import SentimentIntensityAnalyzer\n",
    "    analyzer = SentimentIntensityAnalyzer()\n",
    "\n",
    "    scores = analyzer.polarity_scores(text_string)\n",
    "    return pd.Series(scores)"
   ]
  },
  {
   "cell_type": "code",
   "execution_count": 53,
   "metadata": {},
   "outputs": [],
   "source": [
    "def add_sentiment_cols(dataframe, analysis_method, text_col=\"text\"):\n",
    "    if analysis_method == \"distilbert\":\n",
    "        sentiment_cols = dataframe[text_col].apply(get_sentiment_distilbert)\n",
    "    elif analysis_method == \"nltk\" or analysis_method == \"spacy\":\n",
    "        sentiment_cols = dataframe[text_col].apply(get_sentiment)\n",
    "    else:\n",
    "        \"please provide method (nltk/spacy/distilbert)\"\n",
    "    dataframe = pd.concat([dataframe, sentiment_cols], axis=1)\n",
    "    # dataframe['judgement'] = dataframe['compound'].apply(lambda x: 'positive' if x > 0.05 else (\"negative\" if x < -0.05 else 'neutral'))\n",
    "    return dataframe"
   ]
  },
  {
   "cell_type": "code",
   "execution_count": 14,
   "metadata": {},
   "outputs": [],
   "source": [
    "# def get_analysis_data(json_file):\n",
    "#     pandas_df = pd.read_json(json_file)\n",
    "#     filtered_df = pandas_df.loc[(pandas_df.loc[:, ~pandas_df.columns.isin(['url', 'page_title'])] != \"\").any(axis=1)] # exkludiert alle spalten von der Analyse die \"\" in den spalten ausser \"page_title\" haben \n",
    "#     data = merge_columns_in_dataframe(filtered_df)\n",
    "#     data[\"text\"] = data[\"text\"].apply(preprocess_text)\n",
    "#     return add_sentiment_cols(data)"
   ]
  },
  {
   "cell_type": "code",
   "execution_count": 54,
   "metadata": {},
   "outputs": [],
   "source": [
    "def get_analysis_data(json_file, analysis_method):\n",
    "    pandas_df = pd.read_json(json_file)\n",
    "    filtered_df = pandas_df.loc[(pandas_df.loc[:, ~pandas_df.columns.isin(['url', 'page_title'])] != \"\").any(axis=1)] # excludes all columns from the analysis that have \"\" in the columns except \"page_title\" \n",
    "    data = merge_columns_in_dataframe(filtered_df)\n",
    "    if analysis_method == \"nltk\":\n",
    "        data[\"text\"] = data[\"text\"].apply(nltk_text_preprocessing)\n",
    "    elif analysis_method == \"spacy\":\n",
    "        data[\"text\"] = data[\"text\"].apply(spacy_text_preprocessing)\n",
    "    return add_sentiment_cols(data, analysis_method)"
   ]
  },
  {
   "cell_type": "markdown",
   "metadata": {},
   "source": [
    "### SpaCy Lemmatization"
   ]
  },
  {
   "cell_type": "code",
   "execution_count": 43,
   "metadata": {},
   "outputs": [],
   "source": [
    "def spacy_text_preprocessing(text):\n",
    "    import spacy\n",
    "    nlp = spacy.load(\"de_core_news_sm\")\n",
    "\n",
    "    doc = nlp(text.lower())\n",
    "    filtered_tokens = [token for token in doc if not token.is_stop] # exclusion of stop words\n",
    "\n",
    "    lemmatized_tokens = [token.lemma_ for token in filtered_tokens]\n",
    "    processed_text = \" \".join(lemmatized_tokens)\n",
    "    return processed_text"
   ]
  },
  {
   "cell_type": "markdown",
   "metadata": {},
   "source": [
    "### Huggingface DistillBERT Model Application"
   ]
  },
  {
   "cell_type": "code",
   "execution_count": 95,
   "metadata": {},
   "outputs": [],
   "source": [
    "def calculate_average_scores(sentiment_results):\n",
    "    scores = {'negative': [], 'neutral': [], 'positive': []}\n",
    "    for result in sentiment_results:\n",
    "        for res in result:\n",
    "            scores[res['label']].append(res['score'])\n",
    "    average_scores = {label: sum(score_list) / len(score_list) if score_list else 0 for label, score_list in scores.items()}\n",
    "    return average_scores\n",
    "\n",
    "\n",
    "def get_sentiment_distilbert(text_string):\n",
    "    if not text_string.strip():\n",
    "        return pd.Series({'negative': 0, 'neutral': 0, 'positive': 0})\n",
    "\n",
    "    try:\n",
    "        \n",
    "        nlp = spacy.load('de_core_news_sm')\n",
    "        doc = nlp(text_string)\n",
    "\n",
    "        tokens = [token.text for token in doc]\n",
    "        results = []\n",
    "        if len(tokens) > 300:\n",
    "            for sentence in doc.sents:\n",
    "                result = classifier(sentence.text)\n",
    "                results.extend(result)\n",
    "        else:\n",
    "            result = classifier(text_string)\n",
    "            results.extend(result)\n",
    "\n",
    "        average_scores = calculate_average_scores(results)\n",
    "        return pd.Series(average_scores)\n",
    "    except Exception as e:\n",
    "        print(f\"Error processing text: {text_string} with error {e}\")\n",
    "        return pd.Series({'negative': 0, 'neutral': 0, 'positive': 0})"
   ]
  },
  {
   "cell_type": "code",
   "execution_count": 9,
   "metadata": {},
   "outputs": [],
   "source": [
    "def save_as_json(pandas_dataframe, file_name):\n",
    "    import datetime\n",
    "    date_info = datetime.datetime.now().strftime(\"%d-%m-%y\")\n",
    "    pandas_dataframe.to_json(f\"{file_name}_{date_info}.json\", orient='records')"
   ]
  },
  {
   "cell_type": "code",
   "execution_count": 10,
   "metadata": {},
   "outputs": [],
   "source": [
    "# df = get_analysis_data(\"ratgeber_pages_part2.json\")\n",
    "# save_as_json(df, \"ratgeber_pages_with_rating\")"
   ]
  },
  {
   "cell_type": "markdown",
   "metadata": {},
   "source": [
    "## Execution of Code"
   ]
  },
  {
   "cell_type": "code",
   "execution_count": 96,
   "metadata": {},
   "outputs": [
    {
     "data": {
      "text/html": [
       "<div>\n",
       "<style scoped>\n",
       "    .dataframe tbody tr th:only-of-type {\n",
       "        vertical-align: middle;\n",
       "    }\n",
       "\n",
       "    .dataframe tbody tr th {\n",
       "        vertical-align: top;\n",
       "    }\n",
       "\n",
       "    .dataframe thead th {\n",
       "        text-align: right;\n",
       "    }\n",
       "</style>\n",
       "<table border=\"1\" class=\"dataframe\">\n",
       "  <thead>\n",
       "    <tr style=\"text-align: right;\">\n",
       "      <th></th>\n",
       "      <th>url</th>\n",
       "      <th>page_title</th>\n",
       "      <th>text</th>\n",
       "      <th>negative</th>\n",
       "      <th>neutral</th>\n",
       "      <th>positive</th>\n",
       "    </tr>\n",
       "  </thead>\n",
       "  <tbody>\n",
       "    <tr>\n",
       "      <th>1</th>\n",
       "      <td>https://www.mobiliar.ch/versicherungen-und-vor...</td>\n",
       "      <td>Selbstunfall mit dem Auto – was nun?</td>\n",
       "      <td>Selbstunfall mit dem Auto – was nun?  Selbst s...</td>\n",
       "      <td>0.513103</td>\n",
       "      <td>0.188139</td>\n",
       "      <td>0.298759</td>\n",
       "    </tr>\n",
       "    <tr>\n",
       "      <th>2</th>\n",
       "      <td>https://www.mobiliar.ch/versicherungen-und-vor...</td>\n",
       "      <td>Invalidität oder Todesfall: So sorgen Sie vor</td>\n",
       "      <td>Invalidität oder Todesfall: So sorgen Sie vor ...</td>\n",
       "      <td>0.458326</td>\n",
       "      <td>0.155507</td>\n",
       "      <td>0.386167</td>\n",
       "    </tr>\n",
       "    <tr>\n",
       "      <th>3</th>\n",
       "      <td>https://www.mobiliar.ch/versicherungen-und-vor...</td>\n",
       "      <td>Schäden an Ihrer Mietwohnung</td>\n",
       "      <td>Schäden an Ihrer Mietwohnung Für welche Schäde...</td>\n",
       "      <td>0.419205</td>\n",
       "      <td>0.180690</td>\n",
       "      <td>0.400105</td>\n",
       "    </tr>\n",
       "  </tbody>\n",
       "</table>\n",
       "</div>"
      ],
      "text/plain": [
       "                                                 url  \\\n",
       "1  https://www.mobiliar.ch/versicherungen-und-vor...   \n",
       "2  https://www.mobiliar.ch/versicherungen-und-vor...   \n",
       "3  https://www.mobiliar.ch/versicherungen-und-vor...   \n",
       "\n",
       "                                      page_title  \\\n",
       "1           Selbstunfall mit dem Auto – was nun?   \n",
       "2  Invalidität oder Todesfall: So sorgen Sie vor   \n",
       "3                   Schäden an Ihrer Mietwohnung   \n",
       "\n",
       "                                                text  negative   neutral  \\\n",
       "1  Selbstunfall mit dem Auto – was nun?  Selbst s...  0.513103  0.188139   \n",
       "2  Invalidität oder Todesfall: So sorgen Sie vor ...  0.458326  0.155507   \n",
       "3  Schäden an Ihrer Mietwohnung Für welche Schäde...  0.419205  0.180690   \n",
       "\n",
       "   positive  \n",
       "1  0.298759  \n",
       "2  0.386167  \n",
       "3  0.400105  "
      ]
     },
     "execution_count": 96,
     "metadata": {},
     "output_type": "execute_result"
    }
   ],
   "source": [
    "get_analysis_data(\"hans.json\", \"distilbert\")"
   ]
  },
  {
   "cell_type": "code",
   "execution_count": 57,
   "metadata": {},
   "outputs": [
    {
     "data": {
      "text/html": [
       "<div>\n",
       "<style scoped>\n",
       "    .dataframe tbody tr th:only-of-type {\n",
       "        vertical-align: middle;\n",
       "    }\n",
       "\n",
       "    .dataframe tbody tr th {\n",
       "        vertical-align: top;\n",
       "    }\n",
       "\n",
       "    .dataframe thead th {\n",
       "        text-align: right;\n",
       "    }\n",
       "</style>\n",
       "<table border=\"1\" class=\"dataframe\">\n",
       "  <thead>\n",
       "    <tr style=\"text-align: right;\">\n",
       "      <th></th>\n",
       "      <th>url</th>\n",
       "      <th>page_title</th>\n",
       "      <th>text</th>\n",
       "      <th>neg</th>\n",
       "      <th>neu</th>\n",
       "      <th>pos</th>\n",
       "      <th>compound</th>\n",
       "    </tr>\n",
       "  </thead>\n",
       "  <tbody>\n",
       "    <tr>\n",
       "      <th>1</th>\n",
       "      <td>https://www.mobiliar.ch/versicherungen-und-vor...</td>\n",
       "      <td>Selbstunfall mit dem Auto – was nun?</td>\n",
       "      <td>Selbstunfall Auto -- --   schuld -- Sekunde au...</td>\n",
       "      <td>0.006</td>\n",
       "      <td>0.994</td>\n",
       "      <td>0.000</td>\n",
       "      <td>-0.1027</td>\n",
       "    </tr>\n",
       "    <tr>\n",
       "      <th>2</th>\n",
       "      <td>https://www.mobiliar.ch/versicherungen-und-vor...</td>\n",
       "      <td>Invalidität oder Todesfall: So sorgen Sie vor</td>\n",
       "      <td>Invalidität Todesfall -- sorgen optimal Vorsor...</td>\n",
       "      <td>0.000</td>\n",
       "      <td>0.972</td>\n",
       "      <td>0.028</td>\n",
       "      <td>0.7096</td>\n",
       "    </tr>\n",
       "    <tr>\n",
       "      <th>3</th>\n",
       "      <td>https://www.mobiliar.ch/versicherungen-und-vor...</td>\n",
       "      <td>Schäden an Ihrer Mietwohnung</td>\n",
       "      <td>schäden Mietwohnung schäden haften Mieterin Mi...</td>\n",
       "      <td>0.012</td>\n",
       "      <td>0.988</td>\n",
       "      <td>0.000</td>\n",
       "      <td>-0.7906</td>\n",
       "    </tr>\n",
       "  </tbody>\n",
       "</table>\n",
       "</div>"
      ],
      "text/plain": [
       "                                                 url  \\\n",
       "1  https://www.mobiliar.ch/versicherungen-und-vor...   \n",
       "2  https://www.mobiliar.ch/versicherungen-und-vor...   \n",
       "3  https://www.mobiliar.ch/versicherungen-und-vor...   \n",
       "\n",
       "                                      page_title  \\\n",
       "1           Selbstunfall mit dem Auto – was nun?   \n",
       "2  Invalidität oder Todesfall: So sorgen Sie vor   \n",
       "3                   Schäden an Ihrer Mietwohnung   \n",
       "\n",
       "                                                text    neg    neu    pos  \\\n",
       "1  Selbstunfall Auto -- --   schuld -- Sekunde au...  0.006  0.994  0.000   \n",
       "2  Invalidität Todesfall -- sorgen optimal Vorsor...  0.000  0.972  0.028   \n",
       "3  schäden Mietwohnung schäden haften Mieterin Mi...  0.012  0.988  0.000   \n",
       "\n",
       "   compound  \n",
       "1   -0.1027  \n",
       "2    0.7096  \n",
       "3   -0.7906  "
      ]
     },
     "execution_count": 57,
     "metadata": {},
     "output_type": "execute_result"
    }
   ],
   "source": [
    "get_analysis_data(\"hans.json\", \"spacy\")"
   ]
  },
  {
   "cell_type": "code",
   "execution_count": 58,
   "metadata": {},
   "outputs": [
    {
     "data": {
      "text/html": [
       "<div>\n",
       "<style scoped>\n",
       "    .dataframe tbody tr th:only-of-type {\n",
       "        vertical-align: middle;\n",
       "    }\n",
       "\n",
       "    .dataframe tbody tr th {\n",
       "        vertical-align: top;\n",
       "    }\n",
       "\n",
       "    .dataframe thead th {\n",
       "        text-align: right;\n",
       "    }\n",
       "</style>\n",
       "<table border=\"1\" class=\"dataframe\">\n",
       "  <thead>\n",
       "    <tr style=\"text-align: right;\">\n",
       "      <th></th>\n",
       "      <th>url</th>\n",
       "      <th>page_title</th>\n",
       "      <th>text</th>\n",
       "      <th>neg</th>\n",
       "      <th>neu</th>\n",
       "      <th>pos</th>\n",
       "      <th>compound</th>\n",
       "    </tr>\n",
       "  </thead>\n",
       "  <tbody>\n",
       "    <tr>\n",
       "      <th>1</th>\n",
       "      <td>https://www.mobiliar.ch/versicherungen-und-vor...</td>\n",
       "      <td>Selbstunfall mit dem Auto – was nun?</td>\n",
       "      <td>selbstunfall auto – ? schuld ! sekund aufgepas...</td>\n",
       "      <td>0.025</td>\n",
       "      <td>0.975</td>\n",
       "      <td>0.000</td>\n",
       "      <td>-0.5627</td>\n",
       "    </tr>\n",
       "    <tr>\n",
       "      <th>2</th>\n",
       "      <td>https://www.mobiliar.ch/versicherungen-und-vor...</td>\n",
       "      <td>Invalidität oder Todesfall: So sorgen Sie vor</td>\n",
       "      <td>invaliditat todesfall : sorg optimal vorsorg ,...</td>\n",
       "      <td>0.000</td>\n",
       "      <td>0.963</td>\n",
       "      <td>0.037</td>\n",
       "      <td>0.7820</td>\n",
       "    </tr>\n",
       "    <tr>\n",
       "      <th>3</th>\n",
       "      <td>https://www.mobiliar.ch/versicherungen-und-vor...</td>\n",
       "      <td>Schäden an Ihrer Mietwohnung</td>\n",
       "      <td>schad mietwohn schad haft mieterin miet ? freu...</td>\n",
       "      <td>0.039</td>\n",
       "      <td>0.961</td>\n",
       "      <td>0.000</td>\n",
       "      <td>-0.9749</td>\n",
       "    </tr>\n",
       "  </tbody>\n",
       "</table>\n",
       "</div>"
      ],
      "text/plain": [
       "                                                 url  \\\n",
       "1  https://www.mobiliar.ch/versicherungen-und-vor...   \n",
       "2  https://www.mobiliar.ch/versicherungen-und-vor...   \n",
       "3  https://www.mobiliar.ch/versicherungen-und-vor...   \n",
       "\n",
       "                                      page_title  \\\n",
       "1           Selbstunfall mit dem Auto – was nun?   \n",
       "2  Invalidität oder Todesfall: So sorgen Sie vor   \n",
       "3                   Schäden an Ihrer Mietwohnung   \n",
       "\n",
       "                                                text    neg    neu    pos  \\\n",
       "1  selbstunfall auto – ? schuld ! sekund aufgepas...  0.025  0.975  0.000   \n",
       "2  invaliditat todesfall : sorg optimal vorsorg ,...  0.000  0.963  0.037   \n",
       "3  schad mietwohn schad haft mieterin miet ? freu...  0.039  0.961  0.000   \n",
       "\n",
       "   compound  \n",
       "1   -0.5627  \n",
       "2    0.7820  \n",
       "3   -0.9749  "
      ]
     },
     "execution_count": 58,
     "metadata": {},
     "output_type": "execute_result"
    }
   ],
   "source": [
    "get_analysis_data(\"hans.json\", \"nltk\")"
   ]
  },
  {
   "cell_type": "code",
   "execution_count": null,
   "metadata": {},
   "outputs": [],
   "source": [
    "# df2 = get_analysis_data(\"../web-crawler/scrapy_mobiliar/mobiscraper/mobiscraper/spiders/scrape_archive/full_scrape_2.json\")\n",
    "# save_as_json(df2, \"full_scrape_2_analysis\")"
   ]
  },
  {
   "cell_type": "code",
   "execution_count": 12,
   "metadata": {},
   "outputs": [
    {
     "data": {
      "text/html": [
       "<div>\n",
       "<style scoped>\n",
       "    .dataframe tbody tr th:only-of-type {\n",
       "        vertical-align: middle;\n",
       "    }\n",
       "\n",
       "    .dataframe tbody tr th {\n",
       "        vertical-align: top;\n",
       "    }\n",
       "\n",
       "    .dataframe thead th {\n",
       "        text-align: right;\n",
       "    }\n",
       "</style>\n",
       "<table border=\"1\" class=\"dataframe\">\n",
       "  <thead>\n",
       "    <tr style=\"text-align: right;\">\n",
       "      <th></th>\n",
       "      <th>url</th>\n",
       "      <th>page_title</th>\n",
       "      <th>text</th>\n",
       "      <th>neg</th>\n",
       "      <th>neu</th>\n",
       "      <th>pos</th>\n",
       "      <th>compound</th>\n",
       "      <th>judgement</th>\n",
       "    </tr>\n",
       "  </thead>\n",
       "  <tbody>\n",
       "    <tr>\n",
       "      <th>0</th>\n",
       "      <td>https://www.mobiliar.ch/versicherungen-und-vor...</td>\n",
       "      <td>Tierversicherung</td>\n",
       "      <td>tierversicher hund katz versich tierversicher ...</td>\n",
       "      <td>0.000</td>\n",
       "      <td>0.994</td>\n",
       "      <td>0.006</td>\n",
       "      <td>0.2406</td>\n",
       "      <td>positive</td>\n",
       "    </tr>\n",
       "    <tr>\n",
       "      <th>1</th>\n",
       "      <td>https://www.mobiliar.ch/versicherungen-und-vor...</td>\n",
       "      <td>Cyberversicherung</td>\n",
       "      <td>cyberversicher hilf digital alltag bankgeschaf...</td>\n",
       "      <td>0.028</td>\n",
       "      <td>0.954</td>\n",
       "      <td>0.019</td>\n",
       "      <td>-0.5362</td>\n",
       "      <td>negative</td>\n",
       "    </tr>\n",
       "    <tr>\n",
       "      <th>2</th>\n",
       "      <td>https://www.mobiliar.ch/versicherungen-und-vor...</td>\n",
       "      <td>Wertsachenversicherung</td>\n",
       "      <td>wertsachenversicher versich , bedeutet wertvol...</td>\n",
       "      <td>0.000</td>\n",
       "      <td>0.981</td>\n",
       "      <td>0.019</td>\n",
       "      <td>0.6553</td>\n",
       "      <td>positive</td>\n",
       "    </tr>\n",
       "    <tr>\n",
       "      <th>3</th>\n",
       "      <td>https://www.mobiliar.ch/versicherungen-und-vor...</td>\n",
       "      <td>Die Hausratversicherung</td>\n",
       "      <td>hausratversicher rundum-versicher beweg sach w...</td>\n",
       "      <td>0.021</td>\n",
       "      <td>0.979</td>\n",
       "      <td>0.000</td>\n",
       "      <td>-0.6662</td>\n",
       "      <td>negative</td>\n",
       "    </tr>\n",
       "    <tr>\n",
       "      <th>4</th>\n",
       "      <td>https://www.mobiliar.ch/versicherungen-und-vor...</td>\n",
       "      <td>Mietkautionsversicherung</td>\n",
       "      <td>mietkautionsversicher dank mietkaution spar mi...</td>\n",
       "      <td>0.007</td>\n",
       "      <td>0.976</td>\n",
       "      <td>0.017</td>\n",
       "      <td>0.4329</td>\n",
       "      <td>positive</td>\n",
       "    </tr>\n",
       "    <tr>\n",
       "      <th>...</th>\n",
       "      <td>...</td>\n",
       "      <td>...</td>\n",
       "      <td>...</td>\n",
       "      <td>...</td>\n",
       "      <td>...</td>\n",
       "      <td>...</td>\n",
       "      <td>...</td>\n",
       "      <td>...</td>\n",
       "    </tr>\n",
       "    <tr>\n",
       "      <th>1456</th>\n",
       "      <td>https://www.mobiliar.ch/versicherungen-und-vor...</td>\n",
       "      <td>Die Fahrrad-Kaskoversicherung vermitteln</td>\n",
       "      <td>fahrrad-kaskoversicher vermitteln umfass versi...</td>\n",
       "      <td>0.028</td>\n",
       "      <td>0.972</td>\n",
       "      <td>0.000</td>\n",
       "      <td>-0.3313</td>\n",
       "      <td>negative</td>\n",
       "    </tr>\n",
       "    <tr>\n",
       "      <th>1457</th>\n",
       "      <td>https://www.mobiliar.ch/die-mobiliar/nachhalti...</td>\n",
       "      <td>Projekte 2022: Insgesamt 19 weitere Brücken un...</td>\n",
       "      <td>projekt 2022 : insgesamt 19 weit bruck steg fe...</td>\n",
       "      <td>0.000</td>\n",
       "      <td>1.000</td>\n",
       "      <td>0.000</td>\n",
       "      <td>0.0000</td>\n",
       "      <td>neutral</td>\n",
       "    </tr>\n",
       "    <tr>\n",
       "      <th>1458</th>\n",
       "      <td>https://www.mobiliar.ch/die-mobiliar/nachhalti...</td>\n",
       "      <td>Projekte 2023: Insgesamt 13 weitere Brücken un...</td>\n",
       "      <td>projekt 2023 : insgesamt 13 weit bruck steg fe...</td>\n",
       "      <td>0.000</td>\n",
       "      <td>1.000</td>\n",
       "      <td>0.000</td>\n",
       "      <td>0.0000</td>\n",
       "      <td>neutral</td>\n",
       "    </tr>\n",
       "    <tr>\n",
       "      <th>1459</th>\n",
       "      <td>https://www.mobiliar.ch/versicherungen-und-vor...</td>\n",
       "      <td>Winter Wanderland</td>\n",
       "      <td>wint wanderland verschneit tal , weit nebelme ...</td>\n",
       "      <td>0.000</td>\n",
       "      <td>1.000</td>\n",
       "      <td>0.000</td>\n",
       "      <td>0.0000</td>\n",
       "      <td>neutral</td>\n",
       "    </tr>\n",
       "    <tr>\n",
       "      <th>1460</th>\n",
       "      <td>https://www.mobiliar.ch/die-mobiliar/nachhalti...</td>\n",
       "      <td>Rein in die Wanderschuhe</td>\n",
       "      <td>rein wanderschuh frisch ferienluft haustur ! d...</td>\n",
       "      <td>0.000</td>\n",
       "      <td>0.940</td>\n",
       "      <td>0.060</td>\n",
       "      <td>0.5093</td>\n",
       "      <td>positive</td>\n",
       "    </tr>\n",
       "  </tbody>\n",
       "</table>\n",
       "<p>1461 rows × 8 columns</p>\n",
       "</div>"
      ],
      "text/plain": [
       "                                                    url  \\\n",
       "0     https://www.mobiliar.ch/versicherungen-und-vor...   \n",
       "1     https://www.mobiliar.ch/versicherungen-und-vor...   \n",
       "2     https://www.mobiliar.ch/versicherungen-und-vor...   \n",
       "3     https://www.mobiliar.ch/versicherungen-und-vor...   \n",
       "4     https://www.mobiliar.ch/versicherungen-und-vor...   \n",
       "...                                                 ...   \n",
       "1456  https://www.mobiliar.ch/versicherungen-und-vor...   \n",
       "1457  https://www.mobiliar.ch/die-mobiliar/nachhalti...   \n",
       "1458  https://www.mobiliar.ch/die-mobiliar/nachhalti...   \n",
       "1459  https://www.mobiliar.ch/versicherungen-und-vor...   \n",
       "1460  https://www.mobiliar.ch/die-mobiliar/nachhalti...   \n",
       "\n",
       "                                             page_title  \\\n",
       "0                                      Tierversicherung   \n",
       "1                                     Cyberversicherung   \n",
       "2                                Wertsachenversicherung   \n",
       "3                               Die Hausratversicherung   \n",
       "4                              Mietkautionsversicherung   \n",
       "...                                                 ...   \n",
       "1456           Die Fahrrad-Kaskoversicherung vermitteln   \n",
       "1457  Projekte 2022: Insgesamt 19 weitere Brücken un...   \n",
       "1458  Projekte 2023: Insgesamt 13 weitere Brücken un...   \n",
       "1459                                  Winter Wanderland   \n",
       "1460                           Rein in die Wanderschuhe   \n",
       "\n",
       "                                                   text    neg    neu    pos  \\\n",
       "0     tierversicher hund katz versich tierversicher ...  0.000  0.994  0.006   \n",
       "1     cyberversicher hilf digital alltag bankgeschaf...  0.028  0.954  0.019   \n",
       "2     wertsachenversicher versich , bedeutet wertvol...  0.000  0.981  0.019   \n",
       "3     hausratversicher rundum-versicher beweg sach w...  0.021  0.979  0.000   \n",
       "4     mietkautionsversicher dank mietkaution spar mi...  0.007  0.976  0.017   \n",
       "...                                                 ...    ...    ...    ...   \n",
       "1456  fahrrad-kaskoversicher vermitteln umfass versi...  0.028  0.972  0.000   \n",
       "1457  projekt 2022 : insgesamt 19 weit bruck steg fe...  0.000  1.000  0.000   \n",
       "1458  projekt 2023 : insgesamt 13 weit bruck steg fe...  0.000  1.000  0.000   \n",
       "1459  wint wanderland verschneit tal , weit nebelme ...  0.000  1.000  0.000   \n",
       "1460  rein wanderschuh frisch ferienluft haustur ! d...  0.000  0.940  0.060   \n",
       "\n",
       "      compound judgement  \n",
       "0       0.2406  positive  \n",
       "1      -0.5362  negative  \n",
       "2       0.6553  positive  \n",
       "3      -0.6662  negative  \n",
       "4       0.4329  positive  \n",
       "...        ...       ...  \n",
       "1456   -0.3313  negative  \n",
       "1457    0.0000   neutral  \n",
       "1458    0.0000   neutral  \n",
       "1459    0.0000   neutral  \n",
       "1460    0.5093  positive  \n",
       "\n",
       "[1461 rows x 8 columns]"
      ]
     },
     "metadata": {},
     "output_type": "display_data"
    }
   ],
   "source": [
    "df2 = pd.read_json(\"full_scrape_2_analysis_15-03-24_15:40:08.json\")\n",
    "display(df2)"
   ]
  },
  {
   "cell_type": "code",
   "execution_count": 13,
   "metadata": {},
   "outputs": [
    {
     "data": {
      "text/plain": [
       "judgement\n",
       "neutral     726\n",
       "positive    465\n",
       "negative    270\n",
       "Name: count, dtype: int64"
      ]
     },
     "execution_count": 13,
     "metadata": {},
     "output_type": "execute_result"
    }
   ],
   "source": [
    "df2[\"judgement\"].value_counts()"
   ]
  },
  {
   "cell_type": "code",
   "execution_count": 7,
   "metadata": {},
   "outputs": [
    {
     "data": {
      "text/html": [
       "<div>\n",
       "<style scoped>\n",
       "    .dataframe tbody tr th:only-of-type {\n",
       "        vertical-align: middle;\n",
       "    }\n",
       "\n",
       "    .dataframe tbody tr th {\n",
       "        vertical-align: top;\n",
       "    }\n",
       "\n",
       "    .dataframe thead th {\n",
       "        text-align: right;\n",
       "    }\n",
       "</style>\n",
       "<table border=\"1\" class=\"dataframe\">\n",
       "  <thead>\n",
       "    <tr style=\"text-align: right;\">\n",
       "      <th></th>\n",
       "      <th>url</th>\n",
       "      <th>page_title</th>\n",
       "      <th>text</th>\n",
       "      <th>negative</th>\n",
       "      <th>positive</th>\n",
       "      <th>neutral</th>\n",
       "    </tr>\n",
       "  </thead>\n",
       "  <tbody>\n",
       "    <tr>\n",
       "      <th>1</th>\n",
       "      <td>https://www.mobiliar.ch/versicherungen-und-vor...</td>\n",
       "      <td>Selbstunfall mit dem Auto – was nun?</td>\n",
       "      <td>Selbstunfall mit dem Auto – was nun?  Selbst s...</td>\n",
       "      <td>0.785902</td>\n",
       "      <td>0.107085</td>\n",
       "      <td>0.107012</td>\n",
       "    </tr>\n",
       "    <tr>\n",
       "      <th>2</th>\n",
       "      <td>https://www.mobiliar.ch/versicherungen-und-vor...</td>\n",
       "      <td>Invalidität oder Todesfall: So sorgen Sie vor</td>\n",
       "      <td>Invalidität oder Todesfall: So sorgen Sie vor ...</td>\n",
       "      <td>0.488104</td>\n",
       "      <td>0.375045</td>\n",
       "      <td>0.136852</td>\n",
       "    </tr>\n",
       "    <tr>\n",
       "      <th>3</th>\n",
       "      <td>https://www.mobiliar.ch/versicherungen-und-vor...</td>\n",
       "      <td>Schäden an Ihrer Mietwohnung</td>\n",
       "      <td>Schäden an Ihrer Mietwohnung Für welche Schäde...</td>\n",
       "      <td>0.795895</td>\n",
       "      <td>0.108779</td>\n",
       "      <td>0.095326</td>\n",
       "    </tr>\n",
       "  </tbody>\n",
       "</table>\n",
       "</div>"
      ],
      "text/plain": [
       "                                                 url  \\\n",
       "1  https://www.mobiliar.ch/versicherungen-und-vor...   \n",
       "2  https://www.mobiliar.ch/versicherungen-und-vor...   \n",
       "3  https://www.mobiliar.ch/versicherungen-und-vor...   \n",
       "\n",
       "                                      page_title  \\\n",
       "1           Selbstunfall mit dem Auto – was nun?   \n",
       "2  Invalidität oder Todesfall: So sorgen Sie vor   \n",
       "3                   Schäden an Ihrer Mietwohnung   \n",
       "\n",
       "                                                text  negative  positive  \\\n",
       "1  Selbstunfall mit dem Auto – was nun?  Selbst s...  0.785902  0.107085   \n",
       "2  Invalidität oder Todesfall: So sorgen Sie vor ...  0.488104  0.375045   \n",
       "3  Schäden an Ihrer Mietwohnung Für welche Schäde...  0.795895  0.108779   \n",
       "\n",
       "    neutral  \n",
       "1  0.107012  \n",
       "2  0.136852  \n",
       "3  0.095326  "
      ]
     },
     "execution_count": 7,
     "metadata": {},
     "output_type": "execute_result"
    }
   ],
   "source": [
    "get_analysis_data_distilbert(\"hans.json\")"
   ]
  },
  {
   "cell_type": "markdown",
   "metadata": {},
   "source": [
    "## to display the Functions"
   ]
  },
  {
   "cell_type": "code",
   "execution_count": 30,
   "metadata": {},
   "outputs": [],
   "source": [
    "text = \"Der neue «Liebe Mobiliar»-Spot zeigt, dass Schäden zu Hause immer genau dann passieren, wenn man nicht damit rechnet.  Die Mobiliar startet mit dem neusten «Liebe Mobiliar»-Spot ins neue Jahr. Die Familie im Spot hingegen startet in einen nur auf den ersten Blick gewöhnlichen Sonntagmorgen. Denn: Während die Eltern noch gemütlich vor sich hinschlummern, werden sie von Geräuschen geweckt, die definitiv nicht ins Haus gehören. Grund dafür ist ihre Tochter, die ihr Talent als Eiskunstläuferin entdeckt und mit viel Freude auslebt. Und das hinterlässt Spuren. Was immer kommt – wir helfen Ihnen rasch und unkompliziert.\""
   ]
  },
  {
   "cell_type": "code",
   "execution_count": 50,
   "metadata": {},
   "outputs": [
    {
     "data": {
      "text/plain": [
       "'der neue « liebe mobiliar » -spot zeigt , dass schäden zu hause immer genau dann passieren , wenn man nicht damit rechnet .'"
      ]
     },
     "execution_count": 50,
     "metadata": {},
     "output_type": "execute_result"
    }
   ],
   "source": [
    "from nltk.tokenize import word_tokenize\n",
    "tokens = word_tokenize(input_text.lower())\n",
    "output_text = \" \".join(tokens)\n",
    "output_text"
   ]
  },
  {
   "cell_type": "code",
   "execution_count": 37,
   "metadata": {},
   "outputs": [
    {
     "data": {
      "text/plain": [
       "\"damit die freude am neuen occasion-auto nicht von bösen überraschungen ausgebremst wird , lohnt sich beim kauf genaues hinsehen . erfahren sie , wie sie versteckte fahrzeugschäden finden und wer bei verschwiegenen automängel haftesummary_box car check – der digitale helfer für den occasion-kauf beim occasion-kauf gibt es viele dinge zu beachten . besonders , wenn man kein auto-profi ist , kann dies schnell mal überfordern . hier unterstützt der car check der mobiliar : prüfen sie den zustand von gebrauchtwagen einfach und selbstständig . der car check führt sie schritt für schritt durch alle wichtigen punkte und hilft ihnen bei der einschätzung des zustands des occasion-autos . probieren sie es gleich aus ! car check starten die wichtigsten fragen beim occasionkauf was kostet mich ein auto ? gebrauchtwagen vom händler oder privaten verkäufer ? wie kann ich mich bei einem autokauf absichern ? wieso ist eine zustandsprüfung wichtig ? was kann ich auch ohne autokenntnisse prüfen ? wie führe ich eine zustandsprüfung durch ? worauf muss ich bei einer probefahrt achten ? wie kann ich den verkaufspreis besser einschätzen ? wie verhandle ich einen preis ? was muss ich nach dem autokauf machen ? welche rechte habe ich bei mängeln ? worauf muss ich bei einer autoversicherung achten ? autobesichtigung mit einem experten sie sind sich unsicher und möchten bei der besichtigung einen experten an ihrer seite haben ? bei der kaufbegleitung premium der xpertcenter ag begleitet sie ein unabhängiger profi beim occasionkauf . beraten lassen expertenmeinung zum inserat einholen sie möchten eine fundierte aussage zum inserat-preis ? xpertcenter bietet eine telefonische kaufberatung an . hier erhalten sie eine professionelle angebotsbeurteilung und unabhängige preisbewertung . beraten lassen expertenmeinung zum inserat einholen sie möchten eine fundierte aussage zum inserat-preis ? xpertcenter bietet eine telefonische kaufberatung an . hier erhalten sie eine professionelle angebotsbeurteilung und unabhängige preisbewertung . beraten lassen was kostet mich ein auto ? berücksichtigen sie bei der budgetplanung für ihr neues auto nicht nur den verkaufspreis , sondern auch die folgekosten nach dem kauf . diese sind je nach modell , zustand des autos und fahrweise unterschiedlich hoch . als grobe faustregel können sie mit chf 500.- pro monat bzw . chf 0.70 pro gefahrenen kilometer rechnen . rund zwei drittel der zu budgetierenden kosten sind sogenannte fixkosten , die regelmässig zu zahlen sind und im betrag gleich hoch bleiben ( z. b. versicherung und steuern ) . die restlichen kosten sind variable kosten , welche je nach nutzung und fahrstil höher oder tiefer ausfallen . folgende posten sollten sie berücksichtigen : autoversicherung sie müssen eine motorfahrzeug-haftpflichtversicherung abschliessen , ohne diese können sie ihr auto nicht einlösen . wenn sie ihr fahrzeug mittels leasings finanzieren , benötigen sie eine vollkasko-versicherung . weitere infos zur versicherung finden sie unter « worauf muss ich bei einer autoversicherung achten ? » . treibstoff achten sie beim kauf eines autos bereits auf den treibstoffverbrauch . ältere modelle , benzin-motoren oder hubraumstarke autos brauchen in der regel mehr sprit . mit einer angepassten fahrweise können sie diesen posten senken . vor dem kauf eines elektroautos sollten man sich über die ladekosten und -infrastruktur in der umgebung informieren . steuern & autobahnvignette die vignette kostet sie chf 40.- pro jahr . die höhe und die berechnungsgrundlage der jährlich zu zahlenden verkehrssteuern unterscheiden sich von kanton zu kanton . ausschlaggebend können hubraum , leistung ( ps ) , gesamtgewicht , leergewicht oder kombinationen daraus sein . sparsame fahrzeuge erhalten in einigen kantonen zudem eine steuererleichterung , e-autos sind in den ersten jahren teils gänzlich von steuern befreit . viele strassenverkehrsämter bieten auf ihren websites rechner an , um die steuer vorab zu berechnen . service und reparaturen für service , abgaswartung und mfk können sie ca . chf 600.- bis 1'000.- pro 10'000 km rechnen . hinzu kommen effektive reparaturkosten bei schäden . abschreibungen und wertminderungen rechnen sie grob mit 10 % wertminderung pro jahr . wenn sie ein vielfahrer sind , sollten sie hier von mehr ausgehen . diese kosten müssen sie aber nicht effektiv zahlen , sondern diesen betrag verliert ihr auto jährlich an wert . tipp : wenn sie können , dann legen sie diesen betrag jährlich zur seite . so sparen sie bereits jetzt für den nächsten autokauf . neue reifen je nach fahrweise sollten reifen ungefähr nach 30'000 km gewechselt werden . bedenken sie , dass sie sowohl winter- als auch sommerreifen benötigen . sonstige kosten ( reinigung , parkkosten , verkehrsbussen ) für die autopflege geben schweizer und schweizerinnen durchschnittlich chf 150.- pro jahr aus . auch ein parkplatz kann je nach lage unterschiedlich teuer sein . zurück zur übersicht gebrauchtwagen vom händler oder privaten verkäufer ? autos von privatpersonen zu kaufen ist nicht zwingend günstiger als beim händler . der preis lässt sich mit der fahrzeugbewertung der auto-i-dat ag bestimmen . beachten sie aber , dass dies richtwerte sind und der preis je nach zubehör und ausstattung abweichen kann . unfallschäden zu kommunizieren ist auch für privatpersonen pflicht . dazu gehören allerdings keine bagatellschäden wie kleine kratzer , schrammen oder dellen . deshalb sollten sie ihr potenzielles occasion-auto genau prüfen . das können sie mit dem car check eigenhändig und ohne fachwissen tun . zurück zur übersicht wie kann ich mich bei einem autokauf absichern ? bei gebrauchten fahrzeugen sind probleme nach dem kauf keine seltenheit . mit einer umsichtigen gestaltung des kaufvertrages können sie sich vor bösen überraschungen schützen und möglicherweise auch ihre ausgangslage bei der geltendmachung ihrer gesetzlichen und vertraglichen rechte verbessern . wenn sie sich mit autos nicht gut auskennen , sind sie evtl . beim kauf etwas unsicher . was ist , wenn der verkäufer oder die verkäuferin verschwiegen hat , dass es ein unfallauto war oder das auto nicht mehr so fahrtüchtig ist , wie angenommen ? haftung des verkäufers für sachmängel und zusicherungen ohne besondere vertragliche vereinbarung haftet der verkäufer für mängel am fahrzeug ( art . 197 or ) . bei einem kauf haben sie jedoch eine relativ weitgehende prüfungsobliegenheit , insbesondere für mängel , die sie als laie bei einer prüfung des fahrzeuges bei normaler aufmerksamkeit selbst feststellen können ( sog . offene mängel ) . ansonsten laufen sie gefahr , dass diese mängel als genehmigt gelten und sie ihre ansprüche verlieren . beachten sie ebenfalls , dass nur die mängel unter die sachmängelhaftung fallen , die bereits im zeitpunkt des vertragsschlusses vorhanden waren . für mängel , die nach der fahrzeugübergabe entstehen , tragen sie das risiko und die kosten , sofern diese nicht unter eine garantie ( werksgarantie oder kommerzielle garantie ) fallen . knackpunkt dabei ist in der praxis oft , dass der käufer beweisen muss , dass ein mangel bereits vor dem verkauf entstanden ist . deshalb ist es wichtig , dass sie das auto vor dem kauf sorgfältig prüfen und vor dem kauf auf die behebung dieser mängel beharren . im zweifel empfiehlt es sich , den kaufvertrag nicht abzuschliessen und ein anderes auto zu suchen . seien sie vorsichtig , wenn ihnen der verkäufer mündliche versprechungen zum fahrzeug macht ( « unfallfrei » , « in sehr gutem zustand » ) . bestehen sie darauf , solche fahrzeugeigenschaften im kaufvertrag festzuhalten , da der verkäufer ebenfalls für entsprechende zusicherungen haftet . vermeiden sie dabei vage formulierungen , wie beispielsweise « in sehr gutem zustand » . bestehen sie immer auf einen schriftlichen kaufvertrag , auch wenn sie das auto einem bekannten oder einer freundin abkaufen . prüfen sie den vertrag auf einen allfälligen ausschluss oder eine allfällige beschränkung der sachmängelgewährleistung . keine haftung bei einem gewährleistungsausschluss die verkaufsperson hat das recht , die gewährleistung vertraglich komplett auszuschliessen oder unter bestimmen voraussetzungen die verjährungsfrist für die sachmängelgewährleistung auf ein jahr zu verkürzen . dies schützt die verkaufsperson aber nicht bei absichtlich verschwiegenen mängeln . wenn die verkaufsperson weiss , dass es sich bei einem auto um einen unfallwagen handelt , dies ihnen aber absichtlich verschweigt , kann der vertrag auf dem rechtsweg rückgängig gemacht werden . beachten sie , dass ansprüche wegen fahrzeugmängel auch ohne eine bestimmte vertragliche regelung innerhalb von zwei jahren verjähren . kommerzielle garantien auf neue fahrzeuge müssen die fahrzeughersteller während mindestens zwei jahren eine garantie ( sog . werksgarantie ) geben . dies ist insbesondere dann interessant , wenn sie ein relativ neues occasions-auto kaufen . daneben bieten die garagen oft auch garantien für nach dem kauf entstehende mängel an ( die grenze ist nicht immer leicht festzustellen ) . bei solchen garantien sollten sie mit dem verkäufer abklären , wer durch die garantie verpflichtet wird ( verkäufer oder kommerzieller versicherer ) wird . zudem findet die mindestverjährungsfrist von einem bzw . zwei jahren auf solche kommerziellen garantien keine anwendung . treten während der laufzeit der garantie mängel auf , können sie die übernahme der kosten für reparatur und ersatzteile , die in der garantie eingeschlossen sind , beanspruchen . beachten sie , dass die übernahme von garantiearbeiten regelmässig von einem lückenlosen wartungsnachweis abhängt . falls die verkaufsperson keine garantie anbietet , können sie bei einem unabhängigen anbieter selbstständig eine garantie abschliessen . sie sollten jedoch beachten , dass solche « kommerziellen » garantien bzw . reparaturkostenversicherungen in abhängigkeit der prämienhöhe relativ breite deckungsausschlüsse , maximale kostenbeteiligungen und zum teil hohe selbstbehalte vorsehen . auch werden die reparaturkosten für verschleissteile in der regel nicht bezahlt . prüfen sie daher vor dem kauf die police und allenfalls auch die allgemeinen vertragsbedingungen der garantie . fazit bestehen sie daher immer auf einen schriftlichen kaufvertrag , auch wenn sie das auto einem bekannten oder einer freundin abkaufen . prüfen sie den vertrag auf einen allfälligen ausschluss oder eine allfällige beschränkung der sachmängelgewährleistung und lesen sie die garantiebestimmungen genau durch . zurück zur übersicht wieso ist eine zustandsprüfung wichtig ? wenn sie ein occasion-auto kaufen , geben sie viel geld aus . prüfen sie deshalb das auto vor dem kauf gründlich . mit einer ordentlichen zustandsprüfung können sie offensichtliche mängel entdecken und den zustand selbstständig besser einschätzen . sie sind somit weniger abhängig von der verkaufsperson und können das risiko eines unfairen geschäfts reduzieren . mit einer ordentlichen prüfung können sie sicherstellen , dass sie mängel , die sie hätten erkennen müssen , auch tatsächlich finden . solche mängel sind von der gewährleistung ausgeschlossen und können nachträglich nicht mehr angefochten werden ( siehe « wie kann ich mich nach dem autokauf absichern ? » ) mit einer gründlichen zustandsprüfung können sie den preis besser beurteilen und finden evtl . sogar argumente , zu verhandeln . sie können auch mögliche zusatzkosten besser einschätzen . sie reduzieren damit das sicherheitsrisiko wie die unfallgefahr durch mängel , die rechtlichen risiken , wie betrug oder unrechtmässigem zubehör und technische risiken , beispielsweise kurze betriebsdauer und hohe folgekosten . zurück zur übersicht was kann ich auch ohne autokenntnisse prüfen ? selbst als laie ohne grosse autokenntnisse können sie optische mängel wie beulen und kratzer im aussen- und innenbereich des fahrzeuges entdecken . sie können funktionen wie rückfahrhilfe , heizung oder lüftung testen . und mit einem zweifränkler können sie auch das reifenprofil messen . wie das geht , erfahren sie , wenn sie den car check starten . mit der kontrolle der notwendigen dokumente können sie mögliche betrugs- oder sonstige rechtlichen risiken reduzieren . zu jeder fahrzeugbesichtigung gehört auch eine probefahrt . dabei können sie feststellen , ob sie sich mit und in dem auto wohlfühlen . zudem können sie während der fahrt hinweise auf technische mängel ( z. b. schäden am motor oder bremsen ) feststellen , indem sie auf eigenartige gerüche oder geräusche achten . erfahren sie , worauf sie bei der probefahrt sonst noch achten sollten . den technischen zustand ( z. b. der bremsscheiben oder des unterbodens ) können sie als laie aber nur schwer einschätzen . falls sie diesbezüglich unsicher sind , holen sie sich eine zweitmeinung von einem experten . wir empfehlen ihnen zudem darauf zu achten , dass die letzte mfk-prüfung nicht mehr als 6 monate zurückliegt – insbesondere bei älteren fahrzeugen . zurück zur übersicht wie führe ich eine zustandsprüfung durch ? bereiten sie sich gut auf die fahrzeugbesichtigung vor . vergleichen sie vorher die preise von ähnlichen modellen und informieren sie sich , ob bei diesem autotyp bestimmte mängel häufig auftreten . achten sie darauf , dass sie das auto bei guten lichtverhältnissen und nicht bei regen besichtigen . bei schlechten lichtverhältnissen sind v.a . schäden an carrosserie und lack nur schwer zu erkennen . eine ordentliche zustandsprüfung benötigt zeit . nehmen sie sich diese . rechnen sie mit mindestens 15 minuten für die prüfung des zustandes und 30 minuten für die probefahrt . seriöse verkäufer werden ihnen die zeit dafür geben . lassen sie sich auf keinen fall stressen , denn sie wollen eine grosse ausgabe tätigen . optimalerweise gehen sie zu zweit an die besichtigung . denn vier augen sehen mehr als zwei . prüfen sie zwingend den aussen- und innenbereich . kontrollieren sie aber auch die dokumente . und machen sie eine probefahrt . halten sie gefundene mängel fest , denn mängel sollten im kaufpreis berücksichtigt sein : ein ähnliches auto mit vielen mängel sollte weniger kosten als ein auto in sehr gutem zustand . besprechen sie deshalb nach der besichtigung und der probefahrt alle gefundenen mängel mit der verkaufsperson und fragen sie , ob diese bereits im kaufpreis berücksichtigt sind oder ob die mängel vor dem kauf noch behoben werden . lesen sie dazu noch die tipps zu « wie verhandle ich einen preis ? » . wenn sie das gefühl haben , die verkaufsperson redet jeden mängel klein und sucht nur nach ausreden , ist von einem kauf eher abzuraten – ausser sie können den preis noch verhandeln . lassen sie sich auf keinen fall zu einer entscheidung drängen . schlafen sie lieber eine nacht darüber und besprechen sie den kauf und die gefundenen mängel noch mit einer zweitperson . zurück zur übersicht worauf muss ich bei einer probefahrt achten ? vor der probefahrt bestehen sie unbedingt auf eine probefahrt . manche mängel zeigen sich erst unterwegs . machen sie die probefahrt in begleitung . lassen sie sich von einem privaten anbieter die fahrzeugdokumente vorlegen .\""
      ]
     },
     "execution_count": 37,
     "metadata": {},
     "output_type": "execute_result"
    }
   ],
   "source": [
    "from nltk.tokenize import word_tokenize\n",
    "tokens = word_tokenize(text.lower())\n",
    "output_text = \" \".join(tokens)\n",
    "output_text"
   ]
  },
  {
   "cell_type": "code",
   "execution_count": 60,
   "metadata": {},
   "outputs": [
    {
     "data": {
      "text/plain": [
       "'neue « liebe mobiliar » -spot zeigt , schäden hause immer genau passieren , rechnet . mobiliar startet neusten « liebe mobiliar » -spot neue jahr . familie spot hingegen startet ersten blick gewöhnlichen sonntagmorgen . : eltern gemütlich hinschlummern , geräuschen geweckt , definitiv haus gehören . grund dafür tochter , talent eiskunstläuferin entdeckt freude auslebt . hinterlässt spuren . immer kommt – helfen rasch unkompliziert .'"
      ]
     },
     "execution_count": 60,
     "metadata": {},
     "output_type": "execute_result"
    }
   ],
   "source": [
    "from nltk.corpus import stopwords\n",
    "filtered_tokens = [\n",
    "        token for token in tokens if token not in stopwords.words(\"german\")\n",
    "    ]\n",
    "output_text = \" \".join(filtered_tokens)\n",
    "output_text"
   ]
  },
  {
   "cell_type": "code",
   "execution_count": 61,
   "metadata": {},
   "outputs": [
    {
     "data": {
      "text/plain": [
       "'neu « lieb mobiliar » -spot zeigt , schad haus imm genau passi , rechnet . mobiliar startet neust « lieb mobiliar » -spot neu jahr . famili spot hingeg startet erst blick gewohn sonntagmorg . : elt gemut hinschlumm , gerausch geweckt , definitiv haus gehor . grund dafur tocht , talent eiskunstlauferin entdeckt freud auslebt . hinterlasst spur . imm kommt – helf rasch unkompliziert .'"
      ]
     },
     "execution_count": 61,
     "metadata": {},
     "output_type": "execute_result"
    }
   ],
   "source": [
    "from nltk.stem import SnowballStemmer\n",
    "stemmer = SnowballStemmer(\"german\")\n",
    "stemmed_tokens = [stemmer.stem(token) for token in filtered_tokens]\n",
    "output_text_nltk = \" \".join(stemmed_tokens)\n",
    "output_text_nltk"
   ]
  },
  {
   "cell_type": "code",
   "execution_count": 80,
   "metadata": {},
   "outputs": [
    {
     "data": {
      "text/plain": [
       "neg         0.0000\n",
       "neu         0.9460\n",
       "pos         0.0540\n",
       "compound    0.4215\n",
       "dtype: float64"
      ]
     },
     "execution_count": 80,
     "metadata": {},
     "output_type": "execute_result"
    }
   ],
   "source": [
    "from nltk.sentiment.vader import SentimentIntensityAnalyzer\n",
    "analyzer = SentimentIntensityAnalyzer()\n",
    "\n",
    "scores = analyzer.polarity_scores(output_text_nltk)\n",
    "pd.Series(scores)"
   ]
  },
  {
   "cell_type": "code",
   "execution_count": 77,
   "metadata": {},
   "outputs": [
    {
     "data": {
      "text/plain": [
       "'-- liebe mobiliar»-spot zeigen -- schäden Hause genau passieren -- rechnen --   Mobiliar starten neu -- liebe mobiliar»-spot -- Familie Spot hingegen starten Blick gewöhnlich Sonntagmorg -- -- Eltern gemütlich hinschlummern -- geräuschen wecken -- definitiv Haus gehören -- Grund Tochter -- Talent eiskunstläuferin entdecken Freude ausleben -- Hinterlässt Spur -- -- helfen rasch unkompliziert --'"
      ]
     },
     "execution_count": 77,
     "metadata": {},
     "output_type": "execute_result"
    }
   ],
   "source": [
    "import spacy\n",
    "nlp = spacy.load(\"de_core_news_sm\")\n",
    "\n",
    "doc = nlp(text.lower())\n",
    "filtered_tokens = [token for token in doc if not token.is_stop] # exclusion of stop words\n",
    "\n",
    "lemmatized_tokens = [token.lemma_ for token in filtered_tokens]\n",
    "output_text_spacy = \" \".join(lemmatized_tokens)\n",
    "output_text_spacy"
   ]
  },
  {
   "cell_type": "code",
   "execution_count": 79,
   "metadata": {},
   "outputs": [
    {
     "data": {
      "text/plain": [
       "neg         0.0000\n",
       "neu         0.9520\n",
       "pos         0.0480\n",
       "compound    0.4215\n",
       "dtype: float64"
      ]
     },
     "execution_count": 79,
     "metadata": {},
     "output_type": "execute_result"
    }
   ],
   "source": [
    "from nltk.sentiment.vader import SentimentIntensityAnalyzer\n",
    "analyzer = SentimentIntensityAnalyzer()\n",
    "\n",
    "scores = analyzer.polarity_scores(output_text_spacy)\n",
    "pd.Series(scores)"
   ]
  },
  {
   "cell_type": "code",
   "execution_count": 85,
   "metadata": {},
   "outputs": [],
   "source": [
    "text = \"Für welche Schäden haften Sie als Mieterin oder Mieter? Die Freude ist gross: In Ihrer neuen Mietwohnung fühlen Sie sich rundum wohl und wörtlich zu Hause. Doch nach einer Woche wird das Wohnvergnügen etwas getrübt. Sie stellen einen Sprung in der Badewanne fest, den Sie bei der Wohnungsübernahme übersehen haben. Müssen Sie den Schaden nun bezahlen? Als Mieterin oder Mieter haften Sie für Schäden, die Sie selbst, Ihre Mitbewohner, Angestellte, Gäste, Hund und Katze oder andere Tiere verursachen. Schäden, die durch normale Abnützung entstehen, muss der Vermieter übernehmen. Wenn Sie nach Ihrem Einzug Mängel entdecken, die nicht protokolliert wurden, sollten Sie diese mittels Mängelliste Ihrem Vermieter melden. So stellen Sie sicher, dass Sie beim Auszug nicht dafür haften. Sie haben für die Meldung je nach Vermieter 5-30 Tage nach der Wohnungsübergabe Zeit. Für solche Schäden haften Sie Ihr fünfjähriger Sohn hat die Wohnzimmerwand verkritzelt, Ihre Katze entdeckt ihren Jagdinstinkt nach Insekten und zerkratzt dabei die Tapete – und nach einer gründlichen Putzaktion entdecken Sie einen Kratzer im Keramikkochfeld. Solche und ähnliche Schäden müssen Sie selbst bezahlen. Ihre Haftpflichtversicherung übernimmt die Kosten nach Abzug des Selbstbehalts und Amortisationskosten. Für solche Schäden haften Sie nicht Für die normale Abnützung haften Sie nicht: vergilbte Tapeten, Spuren von Bildern und Möbeln an den Wänden, abgenützte Teppiche, sachgerecht verschlossene Nagel- und Dübellöcher, Schäden von unbekannten Dritten. Und natürlich müssen Sie auch keinen Schaden bezahlen, der schon bei Mietantritt bestand und im Abnahmeprotokoll aufgeführt ist. Bei Mietschäden die Versicherung informieren Besprechen Sie jeden Schaden an Ihrer Mietwohnung so rasch wie möglich mit der Hausverwaltung und informieren Sie Ihre Haftpflichtversicherung . Bei einem grösseren Schaden oder wenn die Verwaltung Schadenersatz fordert, sind Sie sogar verpflichtet, Ihre Versicherung zu benachrichtigen. Die Höhe des Schadenersatzes für eine beschädigte Sache richtet sich nach ihrer durchschnittlichen Lebensdauer. Die normale Lebensdauer eines Spannteppichs beträgt zum Beispiel zehn Jahre. Muss er wegen einer Beschädigung bereits nach fünf Jahren erneuert werden, bezahlen Sie höchstens 50 Prozent des Neuwerts. Kleine Reparaturen und Ausbesserungen Wenn die Reparatur kleiner Schäden unverhältnismässig teuer wäre, müssen Sie nur einen Teil bezahlen. So darf Ihr Vermieter wegen eines kleinen Brandlochs im Spannteppich nicht den ganzen Teppich auf Ihre Kosten ersetzen. Eine Reparatur der Stelle genügt. Diese übernimmt Ihre Haftpflichtversicherung nach Abzug des Selbstbehalts. Als Mieter oder Mieterin müssen Sie folgende Reparaturen und Ausbesserungen an Ihrer Wohnung selbst bezahlen: Instandstellung von Schaltern, Steckdosen und Türschlössern Ersatz von Hahnendichtungen und Duschschläuchen Reinigung und Ersatz von Küchenabluft-Filtern Entrussen von Wohnzimmer-Cheminées Auswechseln von Sicherungen Entstopfen von Ablaufrohren bis zur Hauptleitung Beheben Sie grössere Schäden nicht selbst Vergeben Sie Reparaturaufträge nie direkt, sondern benachrichtigen Sie Ihre Hausverwaltung. Sie haben sonst keinen Anspruch darauf, dass Ihnen die Verwaltung jenen Teil der Arbeit, der auf die Altersentwertung zurückzuführen ist, vergütet. Wenn Ihre Vermieterin zudem unzufrieden mit der Ausführung ist und die Reparatur nicht akzeptiert, müssen Sie doppelt bezahlen. Schäden rechtzeitig reparieren Bei Mietbeginn müssen alle kleinen Reparaturen ausgeführt sein. Kontaktieren Sie Ihre Hausverwaltung frühzeitig, wenn Sie ausziehen und grössere Reparaturen auf Ihre Kosten ausgeführt werden müssen. So lässt sich der Schaden beheben, bevor die Nachmieterin oder der Nachmieter einzieht. Sollte sich nämlich ihr Einzug wegen der Reparatur verzögern, müssen Sie den Mietzinsausfall und weitere Umtriebe bezahlen. Entdecken Sie hier weitere Tipps rund ums Thema Umzug ! Durchschnittliche Lebensdauer von Wohnungseinrichtungen Decken, Wände, Türen Tapeten, mittlere Qualität (Raufaser, bedruckt oder roh gestrichen) 10 Jahre Tapeten zum Überstreichen 24 Jahre Anstrich mit Kunstharz, Acryl, Alkydharzfarben 15 Jahre Anstrich mit Dispersions-, Leimfarbanstrich, Blanc-fix 8 Jahre Holzverkleidung 30 Jahre Holztäfer (deckend gestrichen) 30 Jahre Türrahmen / Türschwellen (innen, Holz) 30 Jahre Fenstersimse (innen, lackiert mit Öl-, Acryl- oder Kunstharzfarbanstrich) 20 Jahre Holz- / Täferdecken 40 Jahre Keramikplatten 30 Jahre Bodenbeläge Novilon etc. 10 Jahre Linoleum 20 Jahre Laminat, schlechte Qualität 10 Jahre Laminat, mittlere Qualität 15 Jahre Laminat, gehobene Qualität 25 Jahre Parkett 30 - 40 Jahre Versiegelung des Parketts 10 Jahre Fournierparkett 10 Jahre Kunststeinplatten 40 Jahre Spannteppich, mittlere Qualität 10 Jahre Naturfaserteppiche / Sisal-Kokos 10 Jahre Nadelfilz 8 Jahre Sockel Kunststoff 15 Jahre Holz 25 Jahre Storen, Rolläden Storenstoff 15 Jahre Rollläden aus Holz 25 Jahre Rolläden aus Metall 30 Jahre Lamellenstoren innen aus Kunststoff oder Aluminium 15 Jahre Lamellenstoren aussen aus Aluminium 25 Jahre Kurbeln 15 Jahre Kurbelhalterung aus Metall 10 Jahre Kurbelhalterung aus Kunststoff 5 Jahre Küche Kochherd / Backofen 15 Jahre Induktionskochfeld / Glaskeramikkochfeld 15 Jahre Elektrische Herdplatte 15 Jahre Kühlschrank 10 Jahre Tiefkühler 15 Jahre Geschirrspüler 15 Jahre Dampfabzug, inkl. Metallfilter 10 Jahre Mikrowelle 15 Jahre Steamer 10 Jahre Bedienungsarmaturen 20 Jahre Küchenabdeckung aus Chromstahl, Granit, Glas 25 Jahre Küchenabdeckung, Kunstharzoberfläche 15 Jahre Küchenabdeckung, Holz massiv oder Mehrschichtplatte 20 Jahre Bad,  Dusche,  WC Badewanne / Duschetasse aus Acryl 25 Jahre Badewanne / Duschetasse aus Stahl, emailliert 35 Jahre Emaillierung der Badewanne / Duschetasse 20 Jahre Lavabo / Bidet / WC aus Keramik 35 Jahre Duschkabine aus Kunststoff 15 Jahre Duschkabine mit Glaswänden 25 Jahre Badezimmermöbel aus Kunststoff oder Holz 10 Jahre Seifenschalen- und Zahnglashalter, verchromt 15 Jahre Handtuch- und Haltestangen, verchromt 15 Jahre Vorhangstangen, verchromt 10 Jahre Glastablar 15 Jahre Spiegel 20 Jahre Wandplatten aus Keramik, lasiert 30 Jahre Wandplatten aus Steingut oder Glasmosaik (eingefärbt) 30 Jahre Fugendichtungen / Kittfugen 8 Jahre Elektrische Installationen TV-Kabelanschluss 15 Jahre Steckdosen 15 Jahre Decken- und Wandleuchten in Küche, Bad, WC 20 Jahre Diverses Waschmaschine / Tumbler 15 Jahre Cheminée / Cheminéeofen 25 Jahre Reduktion bei besonderer Beanspruchung Büros 20% Läden 25% Restaurants 50%\""
   ]
  },
  {
   "cell_type": "code",
   "execution_count": 86,
   "metadata": {},
   "outputs": [
    {
     "data": {
      "text/plain": [
       "negative    0.414906\n",
       "neutral     0.181137\n",
       "positive    0.403957\n",
       "dtype: float64"
      ]
     },
     "execution_count": 86,
     "metadata": {},
     "output_type": "execute_result"
    }
   ],
   "source": [
    "from transformers import pipeline\n",
    "import spacy\n",
    "\n",
    "classifier = pipeline('sentiment-analysis',\n",
    "    model=\"lxyuan/distilbert-base-multilingual-cased-sentiments-student\",\n",
    "    top_k=None,\n",
    "    truncation=False,\n",
    ")\n",
    "\n",
    "nlp = spacy.load('de_core_news_sm')\n",
    "doc = nlp(text)\n",
    "tokens = [token.text for token in doc]\n",
    "results = []\n",
    "\n",
    "if len(tokens) > 512:\n",
    "    for sentence in doc.sents:\n",
    "        result = classifier(sentence.text)\n",
    "        results.extend(result)\n",
    "else:\n",
    "    result = classifier(text)\n",
    "    results.extend(result)\n",
    "\n",
    "\n",
    "average_scores = calculate_average_scores(results)\n",
    "pd.Series(average_scores)"
   ]
  },
  {
   "cell_type": "code",
   "execution_count": 31,
   "metadata": {},
   "outputs": [
    {
     "data": {
      "text/plain": [
       "negative    0.642108\n",
       "positive    0.272815\n",
       "neutral     0.085077\n",
       "dtype: float64"
      ]
     },
     "execution_count": 31,
     "metadata": {},
     "output_type": "execute_result"
    }
   ],
   "source": [
    "from transformers import pipeline\n",
    "\n",
    "classifier = pipeline('sentiment-analysis',\n",
    "    model=\"lxyuan/distilbert-base-multilingual-cased-sentiments-student\",\n",
    "    top_k=None,\n",
    "    truncation=False,\n",
    ")\n",
    "result_in_list_list_of_dicts_of_tuples = classifier(text)\n",
    "mydict = {}\n",
    "for result_in_list_of_dicts_of_tuples in result_in_list_list_of_dicts_of_tuples:\n",
    "    for dicts in result_in_list_of_dicts_of_tuples:\n",
    "        mydict[dicts[\"label\"]] = dicts[\"score\"]\n",
    "pd.Series(mydict)\n",
    "\n",
    "#ausgegeben werden confidenzscores "
   ]
  },
  {
   "cell_type": "markdown",
   "metadata": {},
   "source": [
    "## Training the Model\n",
    "Habe ich nicht umgesetzt."
   ]
  },
  {
   "cell_type": "code",
   "execution_count": 5,
   "metadata": {},
   "outputs": [
    {
     "name": "stdout",
     "output_type": "stream",
     "text": [
      "[[{'label': 'positive', 'score': 0.49148350954055786}, {'label': 'neutral', 'score': 0.25997069478034973}, {'label': 'negative', 'score': 0.2485458105802536}], [{'label': 'positive', 'score': 0.9740146994590759}, {'label': 'neutral', 'score': 0.015805009752511978}, {'label': 'negative', 'score': 0.01018031220883131}]]\n"
     ]
    },
    {
     "ename": "TypeError",
     "evalue": "'str' object is not callable",
     "output_type": "error",
     "traceback": [
      "\u001b[0;31m---------------------------------------------------------------------------\u001b[0m",
      "\u001b[0;31mTypeError\u001b[0m                                 Traceback (most recent call last)",
      "Cell \u001b[0;32mIn[5], line 21\u001b[0m\n\u001b[1;32m     18\u001b[0m batch \u001b[38;5;241m=\u001b[39m tokenizer(X_train, padding\u001b[38;5;241m=\u001b[39m\u001b[38;5;28;01mTrue\u001b[39;00m, truncation\u001b[38;5;241m=\u001b[39m\u001b[38;5;28;01mTrue\u001b[39;00m, max_length\u001b[38;5;241m=\u001b[39m\u001b[38;5;241m800\u001b[39m, return_tensors\u001b[38;5;241m=\u001b[39m\u001b[38;5;124m\"\u001b[39m\u001b[38;5;124mpt\u001b[39m\u001b[38;5;124m\"\u001b[39m)\n\u001b[1;32m     20\u001b[0m \u001b[38;5;28;01mwith\u001b[39;00m torch\u001b[38;5;241m.\u001b[39mno_grad():\n\u001b[0;32m---> 21\u001b[0m     outputs \u001b[38;5;241m=\u001b[39m \u001b[43mmodel_name\u001b[49m\u001b[43m(\u001b[49m\u001b[38;5;241;43m*\u001b[39;49m\u001b[38;5;241;43m*\u001b[39;49m\u001b[43mbatch\u001b[49m\u001b[43m)\u001b[49m,\n\u001b[1;32m     22\u001b[0m     \u001b[38;5;28mprint\u001b[39m(outputs)\n\u001b[1;32m     23\u001b[0m     predictions \u001b[38;5;241m=\u001b[39m F\u001b[38;5;241m.\u001b[39msoftmax(output\u001b[38;5;241m.\u001b[39mlogits, dim\u001b[38;5;241m=\u001b[39m\u001b[38;5;241m1\u001b[39m),\n",
      "\u001b[0;31mTypeError\u001b[0m: 'str' object is not callable"
     ]
    }
   ],
   "source": [
    "from transformers import AutoTokenizer\n",
    "from transformers import pipeline\n",
    "import torch.nn.functional as F\n",
    "import torch\n",
    "\n",
    "model_name = \"lxyuan/distilbert-base-multilingual-cased-sentiments-student\"\n",
    "classifier = pipeline(\n",
    "    model=model_name,\n",
    "    tokenizer = AutoTokenizer.from_pretrained(model_name),\n",
    "    top_k=None\n",
    ")\n",
    "\n",
    "X_train = [\"Ich bin Roman und 28 Jahre alt.\", \"Ich liebe dich!\"]\n",
    "res = classifier(X_train)\n",
    "\n",
    "print(res)\n",
    "tokenizer = AutoTokenizer.from_pretrained(model_name)\n",
    "batch = tokenizer(X_train, padding=True, truncation=True, max_length=800, return_tensors=\"pt\")\n",
    "\n",
    "with torch.no_grad():\n",
    "    outputs = model_name(**batch),\n",
    "    print(outputs)\n",
    "    predictions = F.softmax(output.logits, dim=1),\n",
    "    print(predictions)\n",
    "    labels = torch.argmax(predictions, dim=1)\n",
    "    print(labels)\n",
    "\n",
    "\n",
    "# list_list_of_dicts_of_tuples = res\n",
    "# for list_of_dicts_of_tuples in list_list_of_dicts_of_tuples:\n",
    "#     for dicts in list_of_dicts_of_tuples:\n",
    "#         mydict[dicts[\"label\"]] = dicts[\"score\"]\n",
    "# print(pd.Series(mydict))"
   ]
  }
 ],
 "metadata": {
  "kernelspec": {
   "display_name": "WBTH-Project",
   "language": "python",
   "name": "python3"
  },
  "language_info": {
   "codemirror_mode": {
    "name": "ipython",
    "version": 3
   },
   "file_extension": ".py",
   "mimetype": "text/x-python",
   "name": "python",
   "nbconvert_exporter": "python",
   "pygments_lexer": "ipython3",
   "version": "3.10.14"
  }
 },
 "nbformat": 4,
 "nbformat_minor": 2
}
