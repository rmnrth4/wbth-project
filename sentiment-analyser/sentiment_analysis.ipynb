{
 "cells": [
  {
   "cell_type": "code",
   "execution_count": 48,
   "metadata": {},
   "outputs": [],
   "source": [
    "import pandas as pd\n",
    "import nltk\n",
    "import json\n",
    "\n",
    "# download nltk corpus (first time only)\n",
    "# nltk.download(\"all\")\n",
    "from nltk.sentiment.vader import SentimentIntensityAnalyzer\n",
    "from nltk.corpus import stopwords\n",
    "from nltk.tokenize import word_tokenize\n",
    "from nltk.stem import WordNetLemmatizer\n",
    "from nltk.stem import SnowballStemmer\n",
    "# Installiere das SnowballStemmer für die deutsche Sprache\n",
    "# nltk.download('stopwords')\n",
    "# nltk.download('punkt')\n",
    "analyzer = SentimentIntensityAnalyzer()"
   ]
  },
  {
   "cell_type": "markdown",
   "metadata": {},
   "source": [
    "## Helper functions"
   ]
  },
  {
   "cell_type": "code",
   "execution_count": 43,
   "metadata": {},
   "outputs": [],
   "source": [
    "# the columns are beeing merged togheter here\n",
    "def merge_columns_in_dataframe(df):\n",
    "    columns_to_merge = ['page_title', 'sub_title', 'introduction', 'summary_box', 'content', 'accordion']\n",
    "    new_df = df.loc[:, [\"url\", \"page_title\"]].copy()\n",
    "    new_df['text'] = df.apply(lambda row: ' '.join([str(row[col]) for col in columns_to_merge]), axis=1)\n",
    "    return new_df"
   ]
  },
  {
   "cell_type": "code",
   "execution_count": 31,
   "metadata": {},
   "outputs": [],
   "source": [
    "def preprocess_text(text):\n",
    "    tokens = word_tokenize(text.lower())\n",
    "    filtered_tokens = [\n",
    "        token for token in tokens if token not in stopwords.words(\"german\")\n",
    "    ]\n",
    "    stemmer = SnowballStemmer(\"german\") # eventuell anderen stemmer verwenden\n",
    "    stemmed_tokens = [stemmer.stem(token) for token in filtered_tokens]\n",
    "    processed_text = \" \".join(stemmed_tokens)\n",
    "    return processed_text"
   ]
  },
  {
   "cell_type": "code",
   "execution_count": 46,
   "metadata": {},
   "outputs": [],
   "source": [
    "\n",
    "def get_sentiment(text_string):\n",
    "    scores = analyzer.polarity_scores(text_string)\n",
    "    return pd.Series(scores)\n",
    "\n",
    "def add_sentiment_cols(dataframe, text_col=\"text\"):\n",
    "    sentiment_cols = dataframe[text_col].apply(get_sentiment)\n",
    "    dataframe = pd.concat([dataframe, sentiment_cols], axis=1)\n",
    "    dataframe['judgement'] = dataframe['compound'].apply(lambda x: 'positive' if x > 0.05 else (\"negative\" if x < -0.05 else 'neutral'))\n",
    "    return dataframe"
   ]
  },
  {
   "cell_type": "code",
   "execution_count": 53,
   "metadata": {},
   "outputs": [],
   "source": [
    "def get_analysis_data(json_file):\n",
    "    pandas_df = pd.read_json(json_file)\n",
    "    filtered_df = pandas_df.loc[(pandas_df.loc[:, ~pandas_df.columns.isin(['url', 'page_title'])] != \"\").any(axis=1)] # exkludiert alle spalten von der Analyse die \"\" in den spalten ausser \"page_title\" haben \n",
    "    data = merge_columns_in_dataframe(filtered_df)\n",
    "    data[\"text\"] = data[\"text\"].apply(preprocess_text)\n",
    "    return add_sentiment_cols(data)"
   ]
  },
  {
   "cell_type": "markdown",
   "metadata": {},
   "source": [
    "## Execution of Code"
   ]
  },
  {
   "cell_type": "code",
   "execution_count": 54,
   "metadata": {},
   "outputs": [
    {
     "data": {
      "text/html": [
       "<div>\n",
       "<style scoped>\n",
       "    .dataframe tbody tr th:only-of-type {\n",
       "        vertical-align: middle;\n",
       "    }\n",
       "\n",
       "    .dataframe tbody tr th {\n",
       "        vertical-align: top;\n",
       "    }\n",
       "\n",
       "    .dataframe thead th {\n",
       "        text-align: right;\n",
       "    }\n",
       "</style>\n",
       "<table border=\"1\" class=\"dataframe\">\n",
       "  <thead>\n",
       "    <tr style=\"text-align: right;\">\n",
       "      <th></th>\n",
       "      <th>url</th>\n",
       "      <th>page_title</th>\n",
       "      <th>text</th>\n",
       "      <th>neg</th>\n",
       "      <th>neu</th>\n",
       "      <th>pos</th>\n",
       "      <th>compound</th>\n",
       "      <th>judgement</th>\n",
       "    </tr>\n",
       "  </thead>\n",
       "  <tbody>\n",
       "    <tr>\n",
       "      <th>1</th>\n",
       "      <td>https://www.mobiliar.ch/versicherungen-und-vor...</td>\n",
       "      <td>Selbstunfall mit dem Auto – was nun?</td>\n",
       "      <td>selbstunfall auto – ? schuld ! sekund aufgepas...</td>\n",
       "      <td>0.025</td>\n",
       "      <td>0.975</td>\n",
       "      <td>0.000</td>\n",
       "      <td>-0.5627</td>\n",
       "      <td>negative</td>\n",
       "    </tr>\n",
       "    <tr>\n",
       "      <th>2</th>\n",
       "      <td>https://www.mobiliar.ch/versicherungen-und-vor...</td>\n",
       "      <td>Invalidität oder Todesfall: So sorgen Sie vor</td>\n",
       "      <td>invaliditat todesfall : sorg optimal vorsorg ,...</td>\n",
       "      <td>0.000</td>\n",
       "      <td>0.963</td>\n",
       "      <td>0.037</td>\n",
       "      <td>0.7820</td>\n",
       "      <td>positive</td>\n",
       "    </tr>\n",
       "    <tr>\n",
       "      <th>3</th>\n",
       "      <td>https://www.mobiliar.ch/versicherungen-und-vor...</td>\n",
       "      <td>Schäden an Ihrer Mietwohnung</td>\n",
       "      <td>schad mietwohn schad haft mieterin miet ? freu...</td>\n",
       "      <td>0.039</td>\n",
       "      <td>0.961</td>\n",
       "      <td>0.000</td>\n",
       "      <td>-0.9749</td>\n",
       "      <td>negative</td>\n",
       "    </tr>\n",
       "  </tbody>\n",
       "</table>\n",
       "</div>"
      ],
      "text/plain": [
       "                                                 url  \\\n",
       "1  https://www.mobiliar.ch/versicherungen-und-vor...   \n",
       "2  https://www.mobiliar.ch/versicherungen-und-vor...   \n",
       "3  https://www.mobiliar.ch/versicherungen-und-vor...   \n",
       "\n",
       "                                      page_title  \\\n",
       "1           Selbstunfall mit dem Auto – was nun?   \n",
       "2  Invalidität oder Todesfall: So sorgen Sie vor   \n",
       "3                   Schäden an Ihrer Mietwohnung   \n",
       "\n",
       "                                                text    neg    neu    pos  \\\n",
       "1  selbstunfall auto – ? schuld ! sekund aufgepas...  0.025  0.975  0.000   \n",
       "2  invaliditat todesfall : sorg optimal vorsorg ,...  0.000  0.963  0.037   \n",
       "3  schad mietwohn schad haft mieterin miet ? freu...  0.039  0.961  0.000   \n",
       "\n",
       "   compound judgement  \n",
       "1   -0.5627  negative  \n",
       "2    0.7820  positive  \n",
       "3   -0.9749  negative  "
      ]
     },
     "metadata": {},
     "output_type": "display_data"
    }
   ],
   "source": [
    "display(get_analysis_data(\"ratgeber_pages_part2.json\"))\n"
   ]
  },
  {
   "cell_type": "code",
   "execution_count": null,
   "metadata": {},
   "outputs": [],
   "source": []
  }
 ],
 "metadata": {
  "kernelspec": {
   "display_name": "WBTH-Project",
   "language": "python",
   "name": "python3"
  },
  "language_info": {
   "codemirror_mode": {
    "name": "ipython",
    "version": 3
   },
   "file_extension": ".py",
   "mimetype": "text/x-python",
   "name": "python",
   "nbconvert_exporter": "python",
   "pygments_lexer": "ipython3",
   "version": "3.10.13"
  }
 },
 "nbformat": 4,
 "nbformat_minor": 2
}
