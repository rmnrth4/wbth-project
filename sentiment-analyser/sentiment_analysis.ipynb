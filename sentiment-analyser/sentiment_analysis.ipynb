{
 "cells": [
  {
   "cell_type": "code",
   "execution_count": 6,
   "metadata": {},
   "outputs": [],
   "source": [
    "# https://www.datacamp.com/tutorial/text-analytics-beginners-nltk\n",
    "\n",
    "import pandas as pd\n",
    "import nltk\n",
    "import json\n",
    "# from nltk.sentiment.vader import SentimentIntensityAnalyzer\n",
    "# analyzer = SentimentIntensityAnalyzer()\n",
    "# from nltk.tokenize import word_tokenize\n",
    "# from nltk.corpus import stopwords\n",
    "# from nltk.stem import SnowballStemmer\n",
    "\n",
    "# download nltk corpus (first time only)\n",
    "# nltk.download(\"all\")\n",
    "\n",
    "# from nltk.stem import WordNetLemmatizer\n",
    "# Installiere das SnowballStemmer für die deutsche Sprache\n",
    "# nltk.download('stopwords')\n",
    "# nltk.download('punkt')\n",
    "# nltk.download('wordnet')"
   ]
  },
  {
   "cell_type": "markdown",
   "metadata": {},
   "source": [
    "## Helper functions\n",
    "### NLTK Application"
   ]
  },
  {
   "cell_type": "code",
   "execution_count": 15,
   "metadata": {},
   "outputs": [],
   "source": [
    "def merge_columns_in_dataframe(df):\n",
    "    columns_to_merge = [\n",
    "        \"pagetitle\",\n",
    "        \"subtitle\",\n",
    "        \"introduction\",\n",
    "        \"summarybox\",\n",
    "        \"content\",\n",
    "        \"accordion\",\n",
    "    ]\n",
    "    new_df = df.loc[:, [\"url\", \"pagetitle\"]].copy()\n",
    "    new_df[\"text\"] = df.apply(\n",
    "        lambda row: \" \".join([str(row[col]) for col in columns_to_merge]), axis=1\n",
    "    )\n",
    "    return new_df"
   ]
  },
  {
   "cell_type": "code",
   "execution_count": 4,
   "metadata": {},
   "outputs": [],
   "source": [
    "def nltk_text_preprocessing(text):\n",
    "    from nltk.tokenize import word_tokenize\n",
    "    from nltk.corpus import stopwords\n",
    "    from nltk.stem import SnowballStemmer\n",
    "\n",
    "    tokens = word_tokenize(text.lower())\n",
    "    filtered_tokens = [\n",
    "        token for token in tokens if token not in stopwords.words(\"german\")\n",
    "    ]\n",
    "    stemmer = SnowballStemmer(\"german\")\n",
    "    stemmed_tokens = [stemmer.stem(token) for token in filtered_tokens]\n",
    "    processed_text = \" \".join(stemmed_tokens)\n",
    "    return processed_text\n",
    "\n",
    "def get_sentiment(text_string):\n",
    "    from nltk.sentiment.vader import SentimentIntensityAnalyzer\n",
    "    analyzer = SentimentIntensityAnalyzer()\n",
    "\n",
    "    scores = analyzer.polarity_scores(text_string)\n",
    "    return pd.Series(scores)"
   ]
  },
  {
   "cell_type": "code",
   "execution_count": 3,
   "metadata": {},
   "outputs": [],
   "source": [
    "def add_sentiment_cols(dataframe, analysis_method, text_col=\"text\"):\n",
    "    if analysis_method == \"distilbert\":\n",
    "        sentiment_cols = dataframe[text_col].apply(get_sentiment_distilbert)\n",
    "    elif analysis_method == \"nltk\" or analysis_method == \"spacy\":\n",
    "        sentiment_cols = dataframe[text_col].apply(get_sentiment)\n",
    "    else:\n",
    "        \"please provide method (nltk/spacy/distilbert)\"\n",
    "    dataframe = pd.concat([dataframe, sentiment_cols], axis=1)\n",
    "    # dataframe['judgement'] = dataframe['compound'].apply(lambda x: 'positive' if x > 0.05 else (\"negative\" if x < -0.05 else 'neutral'))\n",
    "    return dataframe"
   ]
  },
  {
   "cell_type": "code",
   "execution_count": 14,
   "metadata": {},
   "outputs": [],
   "source": [
    "# def get_analysis_data(json_file):\n",
    "#     pandas_df = pd.read_json(json_file)\n",
    "#     filtered_df = pandas_df.loc[(pandas_df.loc[:, ~pandas_df.columns.isin(['url', 'pagetitle'])] != \"\").any(axis=1)] # exkludiert alle spalten von der Analyse die \"\" in den spalten ausser \"pagetitle\" haben \n",
    "#     data = merge_columns_in_dataframe(filtered_df)\n",
    "#     data[\"text\"] = data[\"text\"].apply(preprocess_text)\n",
    "#     return add_sentiment_cols(data)"
   ]
  },
  {
   "cell_type": "code",
   "execution_count": 2,
   "metadata": {},
   "outputs": [],
   "source": [
    "def get_analysis_data(json_file, analysis_method):\n",
    "    pandas_df = pd.read_json(json_file)\n",
    "    filtered_df = pandas_df.loc[(pandas_df.loc[:, ~pandas_df.columns.isin(['url', 'pagetitle'])] != \"\").any(axis=1)] # excludes all columns from the analysis that have \"\" in the columns except \"pagetitle\" \n",
    "    data = merge_columns_in_dataframe(filtered_df)\n",
    "    if analysis_method == \"nltk\":\n",
    "        data[\"text\"] = data[\"text\"].apply(nltk_text_preprocessing)\n",
    "    elif analysis_method == \"spacy\":\n",
    "        data[\"text\"] = data[\"text\"].apply(spacy_text_preprocessing)\n",
    "    return add_sentiment_cols(data, analysis_method)"
   ]
  },
  {
   "cell_type": "markdown",
   "metadata": {},
   "source": [
    "### SpaCy Lemmatization"
   ]
  },
  {
   "cell_type": "code",
   "execution_count": 7,
   "metadata": {},
   "outputs": [],
   "source": [
    "def spacy_text_preprocessing(text):\n",
    "    import spacy\n",
    "    nlp = spacy.load(\"de_core_news_sm\")\n",
    "\n",
    "    doc = nlp(text.lower())\n",
    "    filtered_tokens = [token for token in doc if not token.is_stop] # exclusion of stop words\n",
    "\n",
    "    lemmatized_tokens = [token.lemma_ for token in filtered_tokens]\n",
    "    processed_text = \" \".join(lemmatized_tokens)\n",
    "    return processed_text"
   ]
  },
  {
   "cell_type": "markdown",
   "metadata": {},
   "source": [
    "### Huggingface DistillBERT Model Application"
   ]
  },
  {
   "cell_type": "code",
   "execution_count": 1,
   "metadata": {},
   "outputs": [],
   "source": [
    "def calculate_average_scores(sentiment_results):\n",
    "    scores = {'negative': [], 'neutral': [], 'positive': []}\n",
    "    for result in sentiment_results:\n",
    "        for res in result:\n",
    "            scores[res['label']].append(res['score'])\n",
    "    average_scores = {label: sum(score_list) / len(score_list) if score_list else 0 for label, score_list in scores.items()}\n",
    "    return average_scores\n",
    "\n",
    "\n",
    "def get_sentiment_distilbert(text_string):\n",
    "    from transformers import pipeline\n",
    "    import spacy\n",
    "\n",
    "    classifier = pipeline('sentiment-analysis',\n",
    "        model=\"lxyuan/distilbert-base-multilingual-cased-sentiments-student\",\n",
    "        top_k=None,\n",
    "        truncation=False,\n",
    "    )\n",
    "\n",
    "    try:\n",
    "        nlp = spacy.load('de_core_news_sm')\n",
    "        doc = nlp(text_string)\n",
    "\n",
    "        tokens = [token.text for token in doc]\n",
    "        results = []\n",
    "        if len(tokens) > 300:\n",
    "            for sentence in doc.sents:\n",
    "                result = classifier(sentence.text)\n",
    "                results.extend(result)\n",
    "        else:\n",
    "            result = classifier(text_string)\n",
    "            results.extend(result)\n",
    "\n",
    "        average_scores = calculate_average_scores(results)\n",
    "        return pd.Series(average_scores)\n",
    "    except Exception as e:\n",
    "        print(f\"Error processing text: {text_string} with error {e}\")\n",
    "        return pd.Series({'negative': 0, 'neutral': 0, 'positive': 0})"
   ]
  },
  {
   "cell_type": "code",
   "execution_count": 17,
   "metadata": {},
   "outputs": [],
   "source": [
    "def save_as_json(pandas_dataframe, file_name):\n",
    "    import datetime\n",
    "    date_info = datetime.datetime.now().strftime(\"%d-%m-%y\")\n",
    "    pandas_dataframe.to_json(f\"{file_name}_{date_info}.json\", orient='records')"
   ]
  },
  {
   "cell_type": "code",
   "execution_count": 10,
   "metadata": {},
   "outputs": [],
   "source": [
    "# df = get_analysis_data(\"ratgeber_pages_part2.json\")\n",
    "# save_as_json(df, \"ratgeber_pages_with_rating\")"
   ]
  },
  {
   "cell_type": "markdown",
   "metadata": {},
   "source": [
    "## Execution of Code"
   ]
  },
  {
   "cell_type": "code",
   "execution_count": 16,
   "metadata": {},
   "outputs": [
    {
     "name": "stderr",
     "output_type": "stream",
     "text": [
      "Token indices sequence length is longer than the specified maximum sequence length for this model (627 > 512). Running this sequence through the model will result in indexing errors\n"
     ]
    },
    {
     "name": "stdout",
     "output_type": "stream",
     "text": [
      "Error processing text: Fahrsicherheitstraining Beiträge an WAB-Kurs und Fahrsicherheitstraining Wer Gefahrensituationen richtig einschätzt, fährt sicherer. Wir belohnen Ihren Einsatz für sicheres Fahren mit Beiträgen an ein freiwilliges Fahrsicherheitstraining. Inhaber:innen eines Führerausweises auf Probe profitieren von einer Prämienrückvergütung für den obligatorischen Weiterbildungskurs (WAB-Kurs). Vorteile der Beiträge an Ihr Fahrsicherheitstraining auf einen Blick Prämienrabatt bei Absolvierung eines von der Mobiliar anerkannten freiwilligen Fahrsicherheitstrainings Einmaliger Beitrag an freiwilliges Fahrsicherheitstraining Für Personenwagen und Motorräder Prämienrückvergütung beim Besuch des obligatorischen Weiterbildungskurses (WAB)  Welche Beiträge leisten wir an das Fahrsicherheitstraining? Bei einer Motorfahrzeugversicherung der Mobiliar sind folgende Beiträge an Ihr Fahrsicherheitstraining inbegriffen: Prämienrabatt Prämienrabatt für Personenwagen und Motorräder auf Ihre Motorfahrzeugversicherung bei der Mobiliar, wenn Sie ein von der Mobiliar anerkanntes Fahrsicherheitstraining absolvieren. Prämienrückvergütung Einmaliger Beitrag an die Kosten eines anerkannten Fahrsicherheitstrainings. Obligatorische Weiterbildungskurse (WAB) Beiträge an die Kosten des obligatorischen Weiterbildungskurses (WAB) für Inhaber:innen eines Führerausweises auf Probe. Welche Kosten übernehmen wir für Ihr Fahrsicherheitstraining? Alle Versicherten, die bei der Mobiliar eine Motorfahrzeugversicherung für Personenwagen oder Motorräder abgeschlossen haben, profitieren von den Beiträgen an ein von der Mobiliar anerkanntes Fahrsicherheitstraining und an den obligatorischen Weiterbildungskurs (WAB-Kurs). Das Absolvieren eines freiwilligen Fahrsicherheitstrainings belohnen wir beim Vertragsabschluss mit einem Prämienrabatt von 5 Prozent für Personenwagen und von 10 Prozent für Motorräder. Darüber hinaus beteiligen wir uns einmalig an Ihren Kosten mit 100 Franken in Form einer Prämienrückvergütung. Beim Be­such des ob­li­ga­to­ri­schen Wei­ter­bil­dungs­kur­ses beteiligen wir uns mit bis zu 100 Fran­ken. Weitere Informationen Anbei sind alle Kursanbietende und ihre empfohlenen Kurse, die wir für die Prämienermässigung anerkennen, aufgelistet: Anerkannte Kurse des Verkehrssicherheitsrats. Kurse des Fahrzentrum Lyss . with error The size of tensor a (627) must match the size of tensor b (512) at non-singleton dimension 1\n"
     ]
    },
    {
     "name": "stderr",
     "output_type": "stream",
     "text": [
      "Token indices sequence length is longer than the specified maximum sequence length for this model (557 > 512). Running this sequence through the model will result in indexing errors\n"
     ]
    },
    {
     "name": "stdout",
     "output_type": "stream",
     "text": [
      "Error processing text: Berufs- und Betriebshaftpflicht Schützen Sie sich und Ihre Firma vor den Ansprüchen Dritter Jedes Unternehmen kann Dritte schädigen und so haftpflichtig werden. Eine Betriebs-Haftpflichtversicherung oder eine Berufs-Haftpflichtversicherung entschädigt begründete Ansprüche und wehrt unbegründete Ansprüche ab. Drei Beispiele aus unserer Praxis Eine Firma muss ein Produkt wegen eines Sicherheitsmangels zurückrufen. Wir unterstützen die Firma in der Rückrufaktion und übernehmen alle Kosten. Auf dem Firmengelände rutschen einige Fussgänger und Velofahrer auf Glatteis aus, weil der Firmenparkplatz nur ungenügend gesalzen wurde. Wir decken alle Kosten für die Folgen des mangelhaften Unterhalts. Aus einer Fabrik entweicht nachts durch einen defekten Kaminfilter Aschestaub. Wir regeln den Schaden mit allen Nachbarn und benachbarten Betrieben direkt und unbürokratisch. Die Betriebshaftpflicht Die Betriebs-Haftpflichtversicherung schützt Sie vor den finanziellen Folgen von Personen-, Sach- und Vermögensschäden, für die Sie haftbar gemacht werden. Die Betriebshaftpflicht schützt Sie ausserdem vor den finanziellen Konsequenzen von Anlage-, Betriebs-, Produkt- und Umweltrisiken. Sie können Sonderrisiken wie Nutzungsausfall, Aus- und Einbaukosten, Verbindungs- und Vermischungsschäden oder Bearbeitungs- und Obhutsschäden zusätzlich versichern. Die Berufshaftpflicht Für bestimmte Berufe gibt es spezielle Berufs-Haftpflichtversicherungen: Architekten und Bauingenieure Die Grunddeckung schützt vor den gesetzlichen Schadenersatzansprüchen von Dritten für Personen- und Sachschäden. Mit der Zusatzdeckung «Schäden und Mängel an Bauten» – oder kurz Bautenschäden – können sich Architekten oder Bauingenieure vor den Schadenersatzansprüchen der Bauherren oder Besteller schützen. Elektro-, Maschinen- und Haustechnikingenieure Die Berufshaftpflicht übernimmt die Kosten für Anlage-, Bauten-, Personen-, Sach- und Vermögensschäden und wehrt unbegründete Ansprüche von Dritten ab. Ausserdem deckt sie Ansprüche aus der gesetzlichen Haftung für mangelhafte Software für Prozesssteuerungen sowie die Beschädigung, die Zerstörung oder den Verlust von Kundendossiers.  with error The size of tensor a (557) must match the size of tensor b (512) at non-singleton dimension 1\n"
     ]
    },
    {
     "name": "stderr",
     "output_type": "stream",
     "text": [
      "Token indices sequence length is longer than the specified maximum sequence length for this model (513 > 512). Running this sequence through the model will result in indexing errors\n"
     ]
    },
    {
     "name": "stdout",
     "output_type": "stream",
     "text": [
      "Error processing text: Partnerschaftlich und verantwortungsvoll  Umsichtig, unabhängig und kapitalstark betreibt die Mobiliar das Versicherungs- und Anlagegeschäft mit langfristiger Optik und beteiligt anstelle von Aktionären ihre Kundinnen und Kunden am Geschäftserfolg.  Die Mobiliar wurde 1826 als erste private Versicherung der Schweiz und als Genossenschaft gegründet. Diese Rechtsform hat sich für die Mobiliar bewährt. Heute besteht eine schlagkräftige Organisation unter dem Dach einer Genossenschaft. Folgerichtig ist die wirtschaftliche Leistung nach wie vor gezielt auf die Kunden ausgerichtet, die – anstelle von Dividenden an Aktionäre – freiwillige Überschussbeteiligungen erhalten. Die ausgeprägte Kundenorientierung und Kundennähe pflegt die Mobiliar über ihr flächendeckendes Netz von 79 Generalagenturen, die an rund 160 Standorten die kundennahe und persönliche Betreuung sicherstellen, sowie über ihre digitalen Kanäle und Plattformen. Unser Anspruch ist es, gegenüber den Kunden die persönlichste Versicherung zu sein, sei dies in der Beratung, im Abschluss, in der Betreuung oder im Schadenfall und unabhängig davon, über welchen Kanal der Kontakt erfolgt. Die Genossenschaftsphilosophie verleiht auch der Unternehmensführung eine besondere Charakteristik und ist von Langfristigkeit geprägt, da das Unternehmen nicht kurzfristige Erfolge ausweisen muss. Das Versicherungsgeschäft wird vorwiegend von der Betrachtung über lange Zeiträume bestimmt, da das Schadenausmass über Jahre und Jahrzehnte hinweg beträchtlich variieren kann. Um solch grossen Schwankungen im Schadenanfall und ungünstigen Finanzmarktentwicklungen Rechnung tragen zu können, benötigt die Gruppe Mobiliar mangels Zugang zum Kapitalmarkt bedeutende Eigenmittel. Ein nachhaltig selbstfinanziertes Versicherungsgeschäft bedarf weitsichtiger Strategien. Die Risiken, die wir im Versicherungsgeschäft und bei den Vermögensanlagen eingehen, stehen in einem ausgewogenen Verhältnis zu unserem Eigenkapital. In Bezug auf die Eigenmittelausstattung belegt die Gruppe Mobiliar unter den Schweizer Erstversicherern mit einem SST-Quotienten von 542% einen Spitzenplatz.  with error The size of tensor a (513) must match the size of tensor b (512) at non-singleton dimension 1\n"
     ]
    },
    {
     "data": {
      "text/html": [
       "<div>\n",
       "<style scoped>\n",
       "    .dataframe tbody tr th:only-of-type {\n",
       "        vertical-align: middle;\n",
       "    }\n",
       "\n",
       "    .dataframe tbody tr th {\n",
       "        vertical-align: top;\n",
       "    }\n",
       "\n",
       "    .dataframe thead th {\n",
       "        text-align: right;\n",
       "    }\n",
       "</style>\n",
       "<table border=\"1\" class=\"dataframe\">\n",
       "  <thead>\n",
       "    <tr style=\"text-align: right;\">\n",
       "      <th></th>\n",
       "      <th>url</th>\n",
       "      <th>pagetitle</th>\n",
       "      <th>text</th>\n",
       "      <th>negative</th>\n",
       "      <th>neutral</th>\n",
       "      <th>positive</th>\n",
       "    </tr>\n",
       "  </thead>\n",
       "  <tbody>\n",
       "    <tr>\n",
       "      <th>0</th>\n",
       "      <td>https://www.mobiliar.ch</td>\n",
       "      <td>Versicherungen &amp; Vorsorge</td>\n",
       "      <td>Versicherungen &amp; Vorsorge</td>\n",
       "      <td>0.230486</td>\n",
       "      <td>0.140164</td>\n",
       "      <td>0.629349</td>\n",
       "    </tr>\n",
       "    <tr>\n",
       "      <th>1</th>\n",
       "      <td>https://www.mobiliar.ch/versicherungen-und-vor...</td>\n",
       "      <td>Tierversicherung</td>\n",
       "      <td>Tierversicherung Hunde und Katzen versichern D...</td>\n",
       "      <td>0.458895</td>\n",
       "      <td>0.168780</td>\n",
       "      <td>0.372325</td>\n",
       "    </tr>\n",
       "    <tr>\n",
       "      <th>2</th>\n",
       "      <td>https://www.mobiliar.ch/versicherungen-und-vor...</td>\n",
       "      <td>Cyberversicherung</td>\n",
       "      <td>Cyberversicherung Hilfe im digitalen Alltag Ba...</td>\n",
       "      <td>0.431041</td>\n",
       "      <td>0.155108</td>\n",
       "      <td>0.413851</td>\n",
       "    </tr>\n",
       "    <tr>\n",
       "      <th>3</th>\n",
       "      <td>https://www.mobiliar.ch/versicherungen-und-vor...</td>\n",
       "      <td>Wohnen &amp; Eigentum</td>\n",
       "      <td>Wohnen &amp; Eigentum</td>\n",
       "      <td>0.208000</td>\n",
       "      <td>0.195661</td>\n",
       "      <td>0.596339</td>\n",
       "    </tr>\n",
       "    <tr>\n",
       "      <th>4</th>\n",
       "      <td>https://www.mobiliar.ch/versicherungen-und-vor...</td>\n",
       "      <td>Mietkautionsversicherung</td>\n",
       "      <td>Mietkautionsversicherung Dank einer Mietkautio...</td>\n",
       "      <td>0.338874</td>\n",
       "      <td>0.185144</td>\n",
       "      <td>0.475982</td>\n",
       "    </tr>\n",
       "    <tr>\n",
       "      <th>...</th>\n",
       "      <td>...</td>\n",
       "      <td>...</td>\n",
       "      <td>...</td>\n",
       "      <td>...</td>\n",
       "      <td>...</td>\n",
       "      <td>...</td>\n",
       "    </tr>\n",
       "    <tr>\n",
       "      <th>1739</th>\n",
       "      <td>https://www.mobiliar.ch/die-mobiliar/ueber-uns...</td>\n",
       "      <td>Wir befähigen für die Zukunft</td>\n",
       "      <td>Wir befähigen für die Zukunft Von der Idee zur...</td>\n",
       "      <td>0.228822</td>\n",
       "      <td>0.119091</td>\n",
       "      <td>0.652087</td>\n",
       "    </tr>\n",
       "    <tr>\n",
       "      <th>1740</th>\n",
       "      <td>https://www.mobiliar.ch/die-mobiliar/ueber-uns...</td>\n",
       "      <td>Wir denken Zukunft</td>\n",
       "      <td>Wir denken Zukunft Erfahrungen und Erkenntniss...</td>\n",
       "      <td>0.181774</td>\n",
       "      <td>0.126676</td>\n",
       "      <td>0.691551</td>\n",
       "    </tr>\n",
       "    <tr>\n",
       "      <th>1741</th>\n",
       "      <td>https://www.mobiliar.ch/die-mobiliar/ueber-uns...</td>\n",
       "      <td>Leitbild der Gruppe Mobiliar</td>\n",
       "      <td>Leitbild der Gruppe Mobiliar  \\n\\tDas Leitbild...</td>\n",
       "      <td>0.245275</td>\n",
       "      <td>0.097418</td>\n",
       "      <td>0.657307</td>\n",
       "    </tr>\n",
       "    <tr>\n",
       "      <th>1742</th>\n",
       "      <td>https://www.mobiliar.ch/die-mobiliar/ueber-uns...</td>\n",
       "      <td>Geisterhaus-Spot gewinnt Silber-Edi.</td>\n",
       "      <td>Geisterhaus-Spot gewinnt Silber-Edi.  \\n\\tAusz...</td>\n",
       "      <td>0.337304</td>\n",
       "      <td>0.129163</td>\n",
       "      <td>0.533533</td>\n",
       "    </tr>\n",
       "    <tr>\n",
       "      <th>1743</th>\n",
       "      <td>https://www.mobiliar.ch/die-mobiliar/ueber-uns...</td>\n",
       "      <td>25 Jahre «Liebe Mobiliar»</td>\n",
       "      <td>25 Jahre «Liebe Mobiliar» Inspiriert vom Leben...</td>\n",
       "      <td>0.143537</td>\n",
       "      <td>0.043932</td>\n",
       "      <td>0.812532</td>\n",
       "    </tr>\n",
       "  </tbody>\n",
       "</table>\n",
       "<p>1744 rows × 6 columns</p>\n",
       "</div>"
      ],
      "text/plain": [
       "                                                    url  \\\n",
       "0                               https://www.mobiliar.ch   \n",
       "1     https://www.mobiliar.ch/versicherungen-und-vor...   \n",
       "2     https://www.mobiliar.ch/versicherungen-und-vor...   \n",
       "3     https://www.mobiliar.ch/versicherungen-und-vor...   \n",
       "4     https://www.mobiliar.ch/versicherungen-und-vor...   \n",
       "...                                                 ...   \n",
       "1739  https://www.mobiliar.ch/die-mobiliar/ueber-uns...   \n",
       "1740  https://www.mobiliar.ch/die-mobiliar/ueber-uns...   \n",
       "1741  https://www.mobiliar.ch/die-mobiliar/ueber-uns...   \n",
       "1742  https://www.mobiliar.ch/die-mobiliar/ueber-uns...   \n",
       "1743  https://www.mobiliar.ch/die-mobiliar/ueber-uns...   \n",
       "\n",
       "                                 pagetitle  \\\n",
       "0                Versicherungen & Vorsorge   \n",
       "1                         Tierversicherung   \n",
       "2                        Cyberversicherung   \n",
       "3                        Wohnen & Eigentum   \n",
       "4                 Mietkautionsversicherung   \n",
       "...                                    ...   \n",
       "1739         Wir befähigen für die Zukunft   \n",
       "1740                    Wir denken Zukunft   \n",
       "1741          Leitbild der Gruppe Mobiliar   \n",
       "1742  Geisterhaus-Spot gewinnt Silber-Edi.   \n",
       "1743             25 Jahre «Liebe Mobiliar»   \n",
       "\n",
       "                                                   text  negative   neutral  \\\n",
       "0                        Versicherungen & Vorsorge       0.230486  0.140164   \n",
       "1     Tierversicherung Hunde und Katzen versichern D...  0.458895  0.168780   \n",
       "2     Cyberversicherung Hilfe im digitalen Alltag Ba...  0.431041  0.155108   \n",
       "3                                Wohnen & Eigentum       0.208000  0.195661   \n",
       "4     Mietkautionsversicherung Dank einer Mietkautio...  0.338874  0.185144   \n",
       "...                                                 ...       ...       ...   \n",
       "1739  Wir befähigen für die Zukunft Von der Idee zur...  0.228822  0.119091   \n",
       "1740  Wir denken Zukunft Erfahrungen und Erkenntniss...  0.181774  0.126676   \n",
       "1741  Leitbild der Gruppe Mobiliar  \\n\\tDas Leitbild...  0.245275  0.097418   \n",
       "1742  Geisterhaus-Spot gewinnt Silber-Edi.  \\n\\tAusz...  0.337304  0.129163   \n",
       "1743  25 Jahre «Liebe Mobiliar» Inspiriert vom Leben...  0.143537  0.043932   \n",
       "\n",
       "      positive  \n",
       "0     0.629349  \n",
       "1     0.372325  \n",
       "2     0.413851  \n",
       "3     0.596339  \n",
       "4     0.475982  \n",
       "...        ...  \n",
       "1739  0.652087  \n",
       "1740  0.691551  \n",
       "1741  0.657307  \n",
       "1742  0.533533  \n",
       "1743  0.812532  \n",
       "\n",
       "[1744 rows x 6 columns]"
      ]
     },
     "execution_count": 16,
     "metadata": {},
     "output_type": "execute_result"
    }
   ],
   "source": [
    "distilbert_results = get_analysis_data(\"../web-crawler/scrapy_mobiliar/mobiscraper/mobiscraper/spiders/scrape_archive/full_scrape_III_with_linkedpages.json\", \"distilbert\")\n",
    "distilbert_results"
   ]
  },
  {
   "cell_type": "code",
   "execution_count": 18,
   "metadata": {},
   "outputs": [],
   "source": [
    "# save_as_json(pandas_dataframe=distilbert_results, file_name=\"distilbert_s_a_result\")"
   ]
  },
  {
   "cell_type": "code",
   "execution_count": 20,
   "metadata": {},
   "outputs": [
    {
     "data": {
      "text/html": [
       "<div>\n",
       "<style scoped>\n",
       "    .dataframe tbody tr th:only-of-type {\n",
       "        vertical-align: middle;\n",
       "    }\n",
       "\n",
       "    .dataframe tbody tr th {\n",
       "        vertical-align: top;\n",
       "    }\n",
       "\n",
       "    .dataframe thead th {\n",
       "        text-align: right;\n",
       "    }\n",
       "</style>\n",
       "<table border=\"1\" class=\"dataframe\">\n",
       "  <thead>\n",
       "    <tr style=\"text-align: right;\">\n",
       "      <th></th>\n",
       "      <th>url</th>\n",
       "      <th>pagetitle</th>\n",
       "      <th>text</th>\n",
       "      <th>negative</th>\n",
       "      <th>neutral</th>\n",
       "      <th>positive</th>\n",
       "    </tr>\n",
       "  </thead>\n",
       "  <tbody>\n",
       "    <tr>\n",
       "      <th>0</th>\n",
       "      <td>https://www.mobiliar.ch/die-mobiliar/nachhalti...</td>\n",
       "      <td>Kunst &amp; Nachhaltigkeit Vol. 14: 25 Jahre Prix ...</td>\n",
       "      <td>Kunst &amp; Nachhaltigkeit Vol. 14: 25 Jahre Prix ...</td>\n",
       "      <td>0.067596</td>\n",
       "      <td>0.063357</td>\n",
       "      <td>0.869048</td>\n",
       "    </tr>\n",
       "    <tr>\n",
       "      <th>1</th>\n",
       "      <td>https://www.mobiliar.ch/versicherungen-und-vor...</td>\n",
       "      <td>Gebäudeversicherung – der Rundumschutz für Ihr...</td>\n",
       "      <td>Gebäudeversicherung – der Rundumschutz für Ihr...</td>\n",
       "      <td>0.430694</td>\n",
       "      <td>0.165596</td>\n",
       "      <td>0.403710</td>\n",
       "    </tr>\n",
       "    <tr>\n",
       "      <th>2</th>\n",
       "      <td>https://www.mobiliar.ch/versicherungen-und-vor...</td>\n",
       "      <td>E-Autos laden: Was Sie alles wissen müssen</td>\n",
       "      <td>E-Autos laden: Was Sie alles wissen müssen Ele...</td>\n",
       "      <td>0.346649</td>\n",
       "      <td>0.205312</td>\n",
       "      <td>0.448039</td>\n",
       "    </tr>\n",
       "    <tr>\n",
       "      <th>3</th>\n",
       "      <td>https://www.mobiliar.ch/die-mobiliar/medien/me...</td>\n",
       "      <td>Digitale Identität: Mobiliar beteiligt sich an...</td>\n",
       "      <td>Digitale Identität: Mobiliar beteiligt sich an...</td>\n",
       "      <td>0.359737</td>\n",
       "      <td>0.110319</td>\n",
       "      <td>0.529944</td>\n",
       "    </tr>\n",
       "    <tr>\n",
       "      <th>4</th>\n",
       "      <td>https://www.mobiliar.ch/die-mobiliar/karriere/...</td>\n",
       "      <td>System Engineering</td>\n",
       "      <td>System Engineering Begleiten Sie die Mobiliar ...</td>\n",
       "      <td>0.256660</td>\n",
       "      <td>0.135608</td>\n",
       "      <td>0.607732</td>\n",
       "    </tr>\n",
       "  </tbody>\n",
       "</table>\n",
       "</div>"
      ],
      "text/plain": [
       "                                                 url  \\\n",
       "0  https://www.mobiliar.ch/die-mobiliar/nachhalti...   \n",
       "1  https://www.mobiliar.ch/versicherungen-und-vor...   \n",
       "2  https://www.mobiliar.ch/versicherungen-und-vor...   \n",
       "3  https://www.mobiliar.ch/die-mobiliar/medien/me...   \n",
       "4  https://www.mobiliar.ch/die-mobiliar/karriere/...   \n",
       "\n",
       "                                           pagetitle  \\\n",
       "0  Kunst & Nachhaltigkeit Vol. 14: 25 Jahre Prix ...   \n",
       "1  Gebäudeversicherung – der Rundumschutz für Ihr...   \n",
       "2         E-Autos laden: Was Sie alles wissen müssen   \n",
       "3  Digitale Identität: Mobiliar beteiligt sich an...   \n",
       "4                                 System Engineering   \n",
       "\n",
       "                                                text  negative   neutral  \\\n",
       "0  Kunst & Nachhaltigkeit Vol. 14: 25 Jahre Prix ...  0.067596  0.063357   \n",
       "1  Gebäudeversicherung – der Rundumschutz für Ihr...  0.430694  0.165596   \n",
       "2  E-Autos laden: Was Sie alles wissen müssen Ele...  0.346649  0.205312   \n",
       "3  Digitale Identität: Mobiliar beteiligt sich an...  0.359737  0.110319   \n",
       "4  System Engineering Begleiten Sie die Mobiliar ...  0.256660  0.135608   \n",
       "\n",
       "   positive  \n",
       "0  0.869048  \n",
       "1  0.403710  \n",
       "2  0.448039  \n",
       "3  0.529944  \n",
       "4  0.607732  "
      ]
     },
     "execution_count": 20,
     "metadata": {},
     "output_type": "execute_result"
    }
   ],
   "source": [
    "get_analysis_data(\"example.json\", \"distilbert\")"
   ]
  },
  {
   "cell_type": "code",
   "execution_count": 21,
   "metadata": {},
   "outputs": [
    {
     "data": {
      "text/html": [
       "<div>\n",
       "<style scoped>\n",
       "    .dataframe tbody tr th:only-of-type {\n",
       "        vertical-align: middle;\n",
       "    }\n",
       "\n",
       "    .dataframe tbody tr th {\n",
       "        vertical-align: top;\n",
       "    }\n",
       "\n",
       "    .dataframe thead th {\n",
       "        text-align: right;\n",
       "    }\n",
       "</style>\n",
       "<table border=\"1\" class=\"dataframe\">\n",
       "  <thead>\n",
       "    <tr style=\"text-align: right;\">\n",
       "      <th></th>\n",
       "      <th>url</th>\n",
       "      <th>pagetitle</th>\n",
       "      <th>text</th>\n",
       "      <th>neg</th>\n",
       "      <th>neu</th>\n",
       "      <th>pos</th>\n",
       "      <th>compound</th>\n",
       "    </tr>\n",
       "  </thead>\n",
       "  <tbody>\n",
       "    <tr>\n",
       "      <th>0</th>\n",
       "      <td>https://www.mobiliar.ch/die-mobiliar/nachhalti...</td>\n",
       "      <td>Kunst &amp; Nachhaltigkeit Vol. 14: 25 Jahre Prix ...</td>\n",
       "      <td>Kunst &amp; Nachhaltigkeit vol -- 14 -- 25 prix Mo...</td>\n",
       "      <td>0.000</td>\n",
       "      <td>0.989</td>\n",
       "      <td>0.011</td>\n",
       "      <td>0.2263</td>\n",
       "    </tr>\n",
       "    <tr>\n",
       "      <th>1</th>\n",
       "      <td>https://www.mobiliar.ch/versicherungen-und-vor...</td>\n",
       "      <td>Gebäudeversicherung – der Rundumschutz für Ihr...</td>\n",
       "      <td>Gebäudeversicherung -- Rundumschutz Haus finan...</td>\n",
       "      <td>0.005</td>\n",
       "      <td>0.988</td>\n",
       "      <td>0.007</td>\n",
       "      <td>0.0516</td>\n",
       "    </tr>\n",
       "    <tr>\n",
       "      <th>2</th>\n",
       "      <td>https://www.mobiliar.ch/versicherungen-und-vor...</td>\n",
       "      <td>E-Autos laden: Was Sie alles wissen müssen</td>\n",
       "      <td>e-autos laden -- wissen Elektroauto Vormarsch ...</td>\n",
       "      <td>0.000</td>\n",
       "      <td>0.990</td>\n",
       "      <td>0.010</td>\n",
       "      <td>0.3612</td>\n",
       "    </tr>\n",
       "    <tr>\n",
       "      <th>3</th>\n",
       "      <td>https://www.mobiliar.ch/die-mobiliar/medien/me...</td>\n",
       "      <td>Digitale Identität: Mobiliar beteiligt sich an...</td>\n",
       "      <td>digital Identität -- Mobiliar beteiligen gemei...</td>\n",
       "      <td>0.000</td>\n",
       "      <td>0.958</td>\n",
       "      <td>0.042</td>\n",
       "      <td>0.3818</td>\n",
       "    </tr>\n",
       "    <tr>\n",
       "      <th>4</th>\n",
       "      <td>https://www.mobiliar.ch/die-mobiliar/karriere/...</td>\n",
       "      <td>System Engineering</td>\n",
       "      <td>System Engineering begleiten Mobiliar Weiteren...</td>\n",
       "      <td>0.005</td>\n",
       "      <td>0.967</td>\n",
       "      <td>0.028</td>\n",
       "      <td>0.9531</td>\n",
       "    </tr>\n",
       "  </tbody>\n",
       "</table>\n",
       "</div>"
      ],
      "text/plain": [
       "                                                 url  \\\n",
       "0  https://www.mobiliar.ch/die-mobiliar/nachhalti...   \n",
       "1  https://www.mobiliar.ch/versicherungen-und-vor...   \n",
       "2  https://www.mobiliar.ch/versicherungen-und-vor...   \n",
       "3  https://www.mobiliar.ch/die-mobiliar/medien/me...   \n",
       "4  https://www.mobiliar.ch/die-mobiliar/karriere/...   \n",
       "\n",
       "                                           pagetitle  \\\n",
       "0  Kunst & Nachhaltigkeit Vol. 14: 25 Jahre Prix ...   \n",
       "1  Gebäudeversicherung – der Rundumschutz für Ihr...   \n",
       "2         E-Autos laden: Was Sie alles wissen müssen   \n",
       "3  Digitale Identität: Mobiliar beteiligt sich an...   \n",
       "4                                 System Engineering   \n",
       "\n",
       "                                                text    neg    neu    pos  \\\n",
       "0  Kunst & Nachhaltigkeit vol -- 14 -- 25 prix Mo...  0.000  0.989  0.011   \n",
       "1  Gebäudeversicherung -- Rundumschutz Haus finan...  0.005  0.988  0.007   \n",
       "2  e-autos laden -- wissen Elektroauto Vormarsch ...  0.000  0.990  0.010   \n",
       "3  digital Identität -- Mobiliar beteiligen gemei...  0.000  0.958  0.042   \n",
       "4  System Engineering begleiten Mobiliar Weiteren...  0.005  0.967  0.028   \n",
       "\n",
       "   compound  \n",
       "0    0.2263  \n",
       "1    0.0516  \n",
       "2    0.3612  \n",
       "3    0.3818  \n",
       "4    0.9531  "
      ]
     },
     "execution_count": 21,
     "metadata": {},
     "output_type": "execute_result"
    }
   ],
   "source": [
    "get_analysis_data(\"example.json\", \"spacy\")"
   ]
  },
  {
   "cell_type": "code",
   "execution_count": 22,
   "metadata": {},
   "outputs": [
    {
     "data": {
      "text/html": [
       "<div>\n",
       "<style scoped>\n",
       "    .dataframe tbody tr th:only-of-type {\n",
       "        vertical-align: middle;\n",
       "    }\n",
       "\n",
       "    .dataframe tbody tr th {\n",
       "        vertical-align: top;\n",
       "    }\n",
       "\n",
       "    .dataframe thead th {\n",
       "        text-align: right;\n",
       "    }\n",
       "</style>\n",
       "<table border=\"1\" class=\"dataframe\">\n",
       "  <thead>\n",
       "    <tr style=\"text-align: right;\">\n",
       "      <th></th>\n",
       "      <th>url</th>\n",
       "      <th>pagetitle</th>\n",
       "      <th>text</th>\n",
       "      <th>neg</th>\n",
       "      <th>neu</th>\n",
       "      <th>pos</th>\n",
       "      <th>compound</th>\n",
       "    </tr>\n",
       "  </thead>\n",
       "  <tbody>\n",
       "    <tr>\n",
       "      <th>0</th>\n",
       "      <td>https://www.mobiliar.ch/die-mobiliar/nachhalti...</td>\n",
       "      <td>Kunst &amp; Nachhaltigkeit Vol. 14: 25 Jahre Prix ...</td>\n",
       "      <td>kunst &amp; nachhalt vol . 14 : 25 jahr prix mobil...</td>\n",
       "      <td>0.000</td>\n",
       "      <td>0.987</td>\n",
       "      <td>0.013</td>\n",
       "      <td>0.2263</td>\n",
       "    </tr>\n",
       "    <tr>\n",
       "      <th>1</th>\n",
       "      <td>https://www.mobiliar.ch/versicherungen-und-vor...</td>\n",
       "      <td>Gebäudeversicherung – der Rundumschutz für Ihr...</td>\n",
       "      <td>gebaudeversicher – rundumschutz haus finanziel...</td>\n",
       "      <td>0.006</td>\n",
       "      <td>0.982</td>\n",
       "      <td>0.012</td>\n",
       "      <td>0.2869</td>\n",
       "    </tr>\n",
       "    <tr>\n",
       "      <th>2</th>\n",
       "      <td>https://www.mobiliar.ch/versicherungen-und-vor...</td>\n",
       "      <td>E-Autos laden: Was Sie alles wissen müssen</td>\n",
       "      <td>e-autos lad : wiss muss elektroautos vormarsch...</td>\n",
       "      <td>0.014</td>\n",
       "      <td>0.951</td>\n",
       "      <td>0.035</td>\n",
       "      <td>0.6767</td>\n",
       "    </tr>\n",
       "    <tr>\n",
       "      <th>3</th>\n",
       "      <td>https://www.mobiliar.ch/die-mobiliar/medien/me...</td>\n",
       "      <td>Digitale Identität: Mobiliar beteiligt sich an...</td>\n",
       "      <td>digital identitat : mobiliar beteiligt gemeins...</td>\n",
       "      <td>0.000</td>\n",
       "      <td>0.951</td>\n",
       "      <td>0.049</td>\n",
       "      <td>0.3818</td>\n",
       "    </tr>\n",
       "    <tr>\n",
       "      <th>4</th>\n",
       "      <td>https://www.mobiliar.ch/die-mobiliar/karriere/...</td>\n",
       "      <td>System Engineering</td>\n",
       "      <td>syst engineering begleit mobiliar weiterentwic...</td>\n",
       "      <td>0.013</td>\n",
       "      <td>0.970</td>\n",
       "      <td>0.018</td>\n",
       "      <td>0.5994</td>\n",
       "    </tr>\n",
       "  </tbody>\n",
       "</table>\n",
       "</div>"
      ],
      "text/plain": [
       "                                                 url  \\\n",
       "0  https://www.mobiliar.ch/die-mobiliar/nachhalti...   \n",
       "1  https://www.mobiliar.ch/versicherungen-und-vor...   \n",
       "2  https://www.mobiliar.ch/versicherungen-und-vor...   \n",
       "3  https://www.mobiliar.ch/die-mobiliar/medien/me...   \n",
       "4  https://www.mobiliar.ch/die-mobiliar/karriere/...   \n",
       "\n",
       "                                           pagetitle  \\\n",
       "0  Kunst & Nachhaltigkeit Vol. 14: 25 Jahre Prix ...   \n",
       "1  Gebäudeversicherung – der Rundumschutz für Ihr...   \n",
       "2         E-Autos laden: Was Sie alles wissen müssen   \n",
       "3  Digitale Identität: Mobiliar beteiligt sich an...   \n",
       "4                                 System Engineering   \n",
       "\n",
       "                                                text    neg    neu    pos  \\\n",
       "0  kunst & nachhalt vol . 14 : 25 jahr prix mobil...  0.000  0.987  0.013   \n",
       "1  gebaudeversicher – rundumschutz haus finanziel...  0.006  0.982  0.012   \n",
       "2  e-autos lad : wiss muss elektroautos vormarsch...  0.014  0.951  0.035   \n",
       "3  digital identitat : mobiliar beteiligt gemeins...  0.000  0.951  0.049   \n",
       "4  syst engineering begleit mobiliar weiterentwic...  0.013  0.970  0.018   \n",
       "\n",
       "   compound  \n",
       "0    0.2263  \n",
       "1    0.2869  \n",
       "2    0.6767  \n",
       "3    0.3818  \n",
       "4    0.5994  "
      ]
     },
     "execution_count": 22,
     "metadata": {},
     "output_type": "execute_result"
    }
   ],
   "source": [
    "get_analysis_data(\"example.json\", \"nltk\")"
   ]
  },
  {
   "cell_type": "code",
   "execution_count": null,
   "metadata": {},
   "outputs": [],
   "source": [
    "# df2 = get_analysis_data(\"../web-crawler/scrapy_mobiliar/mobiscraper/mobiscraper/spiders/scrape_archive/full_scrape_2.json\")\n",
    "# save_as_json(df2, \"full_scrape_2_analysis\")"
   ]
  },
  {
   "cell_type": "code",
   "execution_count": 12,
   "metadata": {},
   "outputs": [
    {
     "data": {
      "text/html": [
       "<div>\n",
       "<style scoped>\n",
       "    .dataframe tbody tr th:only-of-type {\n",
       "        vertical-align: middle;\n",
       "    }\n",
       "\n",
       "    .dataframe tbody tr th {\n",
       "        vertical-align: top;\n",
       "    }\n",
       "\n",
       "    .dataframe thead th {\n",
       "        text-align: right;\n",
       "    }\n",
       "</style>\n",
       "<table border=\"1\" class=\"dataframe\">\n",
       "  <thead>\n",
       "    <tr style=\"text-align: right;\">\n",
       "      <th></th>\n",
       "      <th>url</th>\n",
       "      <th>page_title</th>\n",
       "      <th>text</th>\n",
       "      <th>neg</th>\n",
       "      <th>neu</th>\n",
       "      <th>pos</th>\n",
       "      <th>compound</th>\n",
       "      <th>judgement</th>\n",
       "    </tr>\n",
       "  </thead>\n",
       "  <tbody>\n",
       "    <tr>\n",
       "      <th>0</th>\n",
       "      <td>https://www.mobiliar.ch/versicherungen-und-vor...</td>\n",
       "      <td>Tierversicherung</td>\n",
       "      <td>tierversicher hund katz versich tierversicher ...</td>\n",
       "      <td>0.000</td>\n",
       "      <td>0.994</td>\n",
       "      <td>0.006</td>\n",
       "      <td>0.2406</td>\n",
       "      <td>positive</td>\n",
       "    </tr>\n",
       "    <tr>\n",
       "      <th>1</th>\n",
       "      <td>https://www.mobiliar.ch/versicherungen-und-vor...</td>\n",
       "      <td>Cyberversicherung</td>\n",
       "      <td>cyberversicher hilf digital alltag bankgeschaf...</td>\n",
       "      <td>0.028</td>\n",
       "      <td>0.954</td>\n",
       "      <td>0.019</td>\n",
       "      <td>-0.5362</td>\n",
       "      <td>negative</td>\n",
       "    </tr>\n",
       "    <tr>\n",
       "      <th>2</th>\n",
       "      <td>https://www.mobiliar.ch/versicherungen-und-vor...</td>\n",
       "      <td>Wertsachenversicherung</td>\n",
       "      <td>wertsachenversicher versich , bedeutet wertvol...</td>\n",
       "      <td>0.000</td>\n",
       "      <td>0.981</td>\n",
       "      <td>0.019</td>\n",
       "      <td>0.6553</td>\n",
       "      <td>positive</td>\n",
       "    </tr>\n",
       "    <tr>\n",
       "      <th>3</th>\n",
       "      <td>https://www.mobiliar.ch/versicherungen-und-vor...</td>\n",
       "      <td>Die Hausratversicherung</td>\n",
       "      <td>hausratversicher rundum-versicher beweg sach w...</td>\n",
       "      <td>0.021</td>\n",
       "      <td>0.979</td>\n",
       "      <td>0.000</td>\n",
       "      <td>-0.6662</td>\n",
       "      <td>negative</td>\n",
       "    </tr>\n",
       "    <tr>\n",
       "      <th>4</th>\n",
       "      <td>https://www.mobiliar.ch/versicherungen-und-vor...</td>\n",
       "      <td>Mietkautionsversicherung</td>\n",
       "      <td>mietkautionsversicher dank mietkaution spar mi...</td>\n",
       "      <td>0.007</td>\n",
       "      <td>0.976</td>\n",
       "      <td>0.017</td>\n",
       "      <td>0.4329</td>\n",
       "      <td>positive</td>\n",
       "    </tr>\n",
       "    <tr>\n",
       "      <th>...</th>\n",
       "      <td>...</td>\n",
       "      <td>...</td>\n",
       "      <td>...</td>\n",
       "      <td>...</td>\n",
       "      <td>...</td>\n",
       "      <td>...</td>\n",
       "      <td>...</td>\n",
       "      <td>...</td>\n",
       "    </tr>\n",
       "    <tr>\n",
       "      <th>1456</th>\n",
       "      <td>https://www.mobiliar.ch/versicherungen-und-vor...</td>\n",
       "      <td>Die Fahrrad-Kaskoversicherung vermitteln</td>\n",
       "      <td>fahrrad-kaskoversicher vermitteln umfass versi...</td>\n",
       "      <td>0.028</td>\n",
       "      <td>0.972</td>\n",
       "      <td>0.000</td>\n",
       "      <td>-0.3313</td>\n",
       "      <td>negative</td>\n",
       "    </tr>\n",
       "    <tr>\n",
       "      <th>1457</th>\n",
       "      <td>https://www.mobiliar.ch/die-mobiliar/nachhalti...</td>\n",
       "      <td>Projekte 2022: Insgesamt 19 weitere Brücken un...</td>\n",
       "      <td>projekt 2022 : insgesamt 19 weit bruck steg fe...</td>\n",
       "      <td>0.000</td>\n",
       "      <td>1.000</td>\n",
       "      <td>0.000</td>\n",
       "      <td>0.0000</td>\n",
       "      <td>neutral</td>\n",
       "    </tr>\n",
       "    <tr>\n",
       "      <th>1458</th>\n",
       "      <td>https://www.mobiliar.ch/die-mobiliar/nachhalti...</td>\n",
       "      <td>Projekte 2023: Insgesamt 13 weitere Brücken un...</td>\n",
       "      <td>projekt 2023 : insgesamt 13 weit bruck steg fe...</td>\n",
       "      <td>0.000</td>\n",
       "      <td>1.000</td>\n",
       "      <td>0.000</td>\n",
       "      <td>0.0000</td>\n",
       "      <td>neutral</td>\n",
       "    </tr>\n",
       "    <tr>\n",
       "      <th>1459</th>\n",
       "      <td>https://www.mobiliar.ch/versicherungen-und-vor...</td>\n",
       "      <td>Winter Wanderland</td>\n",
       "      <td>wint wanderland verschneit tal , weit nebelme ...</td>\n",
       "      <td>0.000</td>\n",
       "      <td>1.000</td>\n",
       "      <td>0.000</td>\n",
       "      <td>0.0000</td>\n",
       "      <td>neutral</td>\n",
       "    </tr>\n",
       "    <tr>\n",
       "      <th>1460</th>\n",
       "      <td>https://www.mobiliar.ch/die-mobiliar/nachhalti...</td>\n",
       "      <td>Rein in die Wanderschuhe</td>\n",
       "      <td>rein wanderschuh frisch ferienluft haustur ! d...</td>\n",
       "      <td>0.000</td>\n",
       "      <td>0.940</td>\n",
       "      <td>0.060</td>\n",
       "      <td>0.5093</td>\n",
       "      <td>positive</td>\n",
       "    </tr>\n",
       "  </tbody>\n",
       "</table>\n",
       "<p>1461 rows × 8 columns</p>\n",
       "</div>"
      ],
      "text/plain": [
       "                                                    url  \\\n",
       "0     https://www.mobiliar.ch/versicherungen-und-vor...   \n",
       "1     https://www.mobiliar.ch/versicherungen-und-vor...   \n",
       "2     https://www.mobiliar.ch/versicherungen-und-vor...   \n",
       "3     https://www.mobiliar.ch/versicherungen-und-vor...   \n",
       "4     https://www.mobiliar.ch/versicherungen-und-vor...   \n",
       "...                                                 ...   \n",
       "1456  https://www.mobiliar.ch/versicherungen-und-vor...   \n",
       "1457  https://www.mobiliar.ch/die-mobiliar/nachhalti...   \n",
       "1458  https://www.mobiliar.ch/die-mobiliar/nachhalti...   \n",
       "1459  https://www.mobiliar.ch/versicherungen-und-vor...   \n",
       "1460  https://www.mobiliar.ch/die-mobiliar/nachhalti...   \n",
       "\n",
       "                                             page_title  \\\n",
       "0                                      Tierversicherung   \n",
       "1                                     Cyberversicherung   \n",
       "2                                Wertsachenversicherung   \n",
       "3                               Die Hausratversicherung   \n",
       "4                              Mietkautionsversicherung   \n",
       "...                                                 ...   \n",
       "1456           Die Fahrrad-Kaskoversicherung vermitteln   \n",
       "1457  Projekte 2022: Insgesamt 19 weitere Brücken un...   \n",
       "1458  Projekte 2023: Insgesamt 13 weitere Brücken un...   \n",
       "1459                                  Winter Wanderland   \n",
       "1460                           Rein in die Wanderschuhe   \n",
       "\n",
       "                                                   text    neg    neu    pos  \\\n",
       "0     tierversicher hund katz versich tierversicher ...  0.000  0.994  0.006   \n",
       "1     cyberversicher hilf digital alltag bankgeschaf...  0.028  0.954  0.019   \n",
       "2     wertsachenversicher versich , bedeutet wertvol...  0.000  0.981  0.019   \n",
       "3     hausratversicher rundum-versicher beweg sach w...  0.021  0.979  0.000   \n",
       "4     mietkautionsversicher dank mietkaution spar mi...  0.007  0.976  0.017   \n",
       "...                                                 ...    ...    ...    ...   \n",
       "1456  fahrrad-kaskoversicher vermitteln umfass versi...  0.028  0.972  0.000   \n",
       "1457  projekt 2022 : insgesamt 19 weit bruck steg fe...  0.000  1.000  0.000   \n",
       "1458  projekt 2023 : insgesamt 13 weit bruck steg fe...  0.000  1.000  0.000   \n",
       "1459  wint wanderland verschneit tal , weit nebelme ...  0.000  1.000  0.000   \n",
       "1460  rein wanderschuh frisch ferienluft haustur ! d...  0.000  0.940  0.060   \n",
       "\n",
       "      compound judgement  \n",
       "0       0.2406  positive  \n",
       "1      -0.5362  negative  \n",
       "2       0.6553  positive  \n",
       "3      -0.6662  negative  \n",
       "4       0.4329  positive  \n",
       "...        ...       ...  \n",
       "1456   -0.3313  negative  \n",
       "1457    0.0000   neutral  \n",
       "1458    0.0000   neutral  \n",
       "1459    0.0000   neutral  \n",
       "1460    0.5093  positive  \n",
       "\n",
       "[1461 rows x 8 columns]"
      ]
     },
     "metadata": {},
     "output_type": "display_data"
    }
   ],
   "source": [
    "df2 = pd.read_json(\"full_scrape_2_analysis_15-03-24_15:40:08.json\")\n",
    "display(df2)"
   ]
  },
  {
   "cell_type": "code",
   "execution_count": 13,
   "metadata": {},
   "outputs": [
    {
     "data": {
      "text/plain": [
       "judgement\n",
       "neutral     726\n",
       "positive    465\n",
       "negative    270\n",
       "Name: count, dtype: int64"
      ]
     },
     "execution_count": 13,
     "metadata": {},
     "output_type": "execute_result"
    }
   ],
   "source": [
    "df2[\"judgement\"].value_counts()"
   ]
  },
  {
   "cell_type": "markdown",
   "metadata": {},
   "source": [
    "## to display the Functions"
   ]
  },
  {
   "cell_type": "code",
   "execution_count": 38,
   "metadata": {},
   "outputs": [],
   "source": [
    "text = \"Der neue «Liebe Mobiliar»-Spot zeigt, dass Schäden zu Hause immer genau dann passieren, wenn man nicht damit rechnet.  Die Mobiliar startet mit dem neusten «Liebe Mobiliar»-Spot ins neue Jahr. Die Familie im Spot hingegen startet in einen nur auf den ersten Blick gewöhnlichen Sonntagmorgen. Denn: Während die Eltern noch gemütlich vor sich hinschlummern, werden sie von Geräuschen geweckt, die definitiv nicht ins Haus gehören. Grund dafür ist ihre Tochter, die ihr Talent als Eiskunstläuferin entdeckt und mit viel Freude auslebt. Und das hinterlässt Spuren. Was immer kommt – wir helfen Ihnen rasch und unkompliziert.\""
   ]
  },
  {
   "cell_type": "code",
   "execution_count": 31,
   "metadata": {},
   "outputs": [],
   "source": [
    "text = \"Heute war ein wunderschöner Tag. Ich ging in den Wald spazieren und habe die Tiere beobachtet. Ich freue mich dies bald wieder zu tun.\"\n"
   ]
  },
  {
   "cell_type": "code",
   "execution_count": 26,
   "metadata": {},
   "outputs": [
    {
     "ename": "NameError",
     "evalue": "name 'input_text' is not defined",
     "output_type": "error",
     "traceback": [
      "\u001b[0;31m---------------------------------------------------------------------------\u001b[0m",
      "\u001b[0;31mNameError\u001b[0m                                 Traceback (most recent call last)",
      "Cell \u001b[0;32mIn[26], line 2\u001b[0m\n\u001b[1;32m      1\u001b[0m \u001b[38;5;28;01mfrom\u001b[39;00m \u001b[38;5;21;01mnltk\u001b[39;00m\u001b[38;5;21;01m.\u001b[39;00m\u001b[38;5;21;01mtokenize\u001b[39;00m \u001b[38;5;28;01mimport\u001b[39;00m word_tokenize\n\u001b[0;32m----> 2\u001b[0m tokens \u001b[38;5;241m=\u001b[39m word_tokenize(\u001b[43minput_text\u001b[49m\u001b[38;5;241m.\u001b[39mlower())\n\u001b[1;32m      3\u001b[0m output_text \u001b[38;5;241m=\u001b[39m \u001b[38;5;124m\"\u001b[39m\u001b[38;5;124m \u001b[39m\u001b[38;5;124m\"\u001b[39m\u001b[38;5;241m.\u001b[39mjoin(tokens)\n\u001b[1;32m      4\u001b[0m output_text\n",
      "\u001b[0;31mNameError\u001b[0m: name 'input_text' is not defined"
     ]
    }
   ],
   "source": [
    "from nltk.tokenize import word_tokenize\n",
    "tokens = word_tokenize(input_text.lower())\n",
    "output_text = \" \".join(tokens)\n",
    "output_text"
   ]
  },
  {
   "cell_type": "code",
   "execution_count": 39,
   "metadata": {},
   "outputs": [
    {
     "data": {
      "text/plain": [
       "'der neue « liebe mobiliar » -spot zeigt , dass schäden zu hause immer genau dann passieren , wenn man nicht damit rechnet . die mobiliar startet mit dem neusten « liebe mobiliar » -spot ins neue jahr . die familie im spot hingegen startet in einen nur auf den ersten blick gewöhnlichen sonntagmorgen . denn : während die eltern noch gemütlich vor sich hinschlummern , werden sie von geräuschen geweckt , die definitiv nicht ins haus gehören . grund dafür ist ihre tochter , die ihr talent als eiskunstläuferin entdeckt und mit viel freude auslebt . und das hinterlässt spuren . was immer kommt – wir helfen ihnen rasch und unkompliziert .'"
      ]
     },
     "execution_count": 39,
     "metadata": {},
     "output_type": "execute_result"
    }
   ],
   "source": [
    "from nltk.tokenize import word_tokenize\n",
    "tokens = word_tokenize(text.lower())\n",
    "output_text = \" \".join(tokens)\n",
    "output_text"
   ]
  },
  {
   "cell_type": "code",
   "execution_count": 40,
   "metadata": {},
   "outputs": [
    {
     "data": {
      "text/plain": [
       "'neue « liebe mobiliar » -spot zeigt , schäden hause immer genau passieren , rechnet . mobiliar startet neusten « liebe mobiliar » -spot neue jahr . familie spot hingegen startet ersten blick gewöhnlichen sonntagmorgen . : eltern gemütlich hinschlummern , geräuschen geweckt , definitiv haus gehören . grund dafür tochter , talent eiskunstläuferin entdeckt freude auslebt . hinterlässt spuren . immer kommt – helfen rasch unkompliziert .'"
      ]
     },
     "execution_count": 40,
     "metadata": {},
     "output_type": "execute_result"
    }
   ],
   "source": [
    "from nltk.corpus import stopwords\n",
    "filtered_tokens = [\n",
    "        token for token in tokens if token not in stopwords.words(\"german\")\n",
    "    ]\n",
    "output_text = \" \".join(filtered_tokens)\n",
    "output_text"
   ]
  },
  {
   "cell_type": "code",
   "execution_count": 41,
   "metadata": {},
   "outputs": [
    {
     "data": {
      "text/plain": [
       "'neu « lieb mobiliar » -spot zeigt , schad haus imm genau passi , rechnet . mobiliar startet neust « lieb mobiliar » -spot neu jahr . famili spot hingeg startet erst blick gewohn sonntagmorg . : elt gemut hinschlumm , gerausch geweckt , definitiv haus gehor . grund dafur tocht , talent eiskunstlauferin entdeckt freud auslebt . hinterlasst spur . imm kommt – helf rasch unkompliziert .'"
      ]
     },
     "execution_count": 41,
     "metadata": {},
     "output_type": "execute_result"
    }
   ],
   "source": [
    "from nltk.stem import SnowballStemmer\n",
    "stemmer = SnowballStemmer(\"german\")\n",
    "stemmed_tokens = [stemmer.stem(token) for token in filtered_tokens]\n",
    "output_text_nltk = \" \".join(stemmed_tokens)\n",
    "output_text_nltk"
   ]
  },
  {
   "cell_type": "code",
   "execution_count": 42,
   "metadata": {},
   "outputs": [
    {
     "data": {
      "text/plain": [
       "neg         0.0000\n",
       "neu         0.9460\n",
       "pos         0.0540\n",
       "compound    0.4215\n",
       "dtype: float64"
      ]
     },
     "execution_count": 42,
     "metadata": {},
     "output_type": "execute_result"
    }
   ],
   "source": [
    "from nltk.sentiment.vader import SentimentIntensityAnalyzer\n",
    "analyzer = SentimentIntensityAnalyzer()\n",
    "\n",
    "scores = analyzer.polarity_scores(output_text_nltk)\n",
    "pd.Series(scores)"
   ]
  },
  {
   "cell_type": "code",
   "execution_count": 43,
   "metadata": {},
   "outputs": [
    {
     "data": {
      "text/plain": [
       "'-- liebe mobiliar»-spot zeigen -- schäden Hause genau passieren -- rechnen --   Mobiliar starten neu -- liebe mobiliar»-spot -- Familie Spot hingegen starten Blick gewöhnlich Sonntagmorg -- -- Eltern gemütlich hinschlummern -- geräuschen wecken -- definitiv Haus gehören -- Grund Tochter -- Talent eiskunstläuferin entdecken Freude ausleben -- Hinterlässt Spur -- -- helfen rasch unkompliziert --'"
      ]
     },
     "execution_count": 43,
     "metadata": {},
     "output_type": "execute_result"
    }
   ],
   "source": [
    "import spacy\n",
    "nlp = spacy.load(\"de_core_news_sm\")\n",
    "\n",
    "doc = nlp(text.lower())\n",
    "filtered_tokens = [token for token in doc if not token.is_stop] # exclusion of stop words\n",
    "\n",
    "lemmatized_tokens = [token.lemma_ for token in filtered_tokens]\n",
    "output_text_spacy = \" \".join(lemmatized_tokens)\n",
    "output_text_spacy"
   ]
  },
  {
   "cell_type": "code",
   "execution_count": 44,
   "metadata": {},
   "outputs": [
    {
     "data": {
      "text/plain": [
       "neg         0.0000\n",
       "neu         0.9520\n",
       "pos         0.0480\n",
       "compound    0.4215\n",
       "dtype: float64"
      ]
     },
     "execution_count": 44,
     "metadata": {},
     "output_type": "execute_result"
    }
   ],
   "source": [
    "from nltk.sentiment.vader import SentimentIntensityAnalyzer\n",
    "analyzer = SentimentIntensityAnalyzer()\n",
    "\n",
    "scores = analyzer.polarity_scores(output_text_spacy)\n",
    "pd.Series(scores)"
   ]
  },
  {
   "cell_type": "code",
   "execution_count": 85,
   "metadata": {},
   "outputs": [],
   "source": [
    "text = \"Für welche Schäden haften Sie als Mieterin oder Mieter? Die Freude ist gross: In Ihrer neuen Mietwohnung fühlen Sie sich rundum wohl und wörtlich zu Hause. Doch nach einer Woche wird das Wohnvergnügen etwas getrübt. Sie stellen einen Sprung in der Badewanne fest, den Sie bei der Wohnungsübernahme übersehen haben. Müssen Sie den Schaden nun bezahlen? Als Mieterin oder Mieter haften Sie für Schäden, die Sie selbst, Ihre Mitbewohner, Angestellte, Gäste, Hund und Katze oder andere Tiere verursachen. Schäden, die durch normale Abnützung entstehen, muss der Vermieter übernehmen. Wenn Sie nach Ihrem Einzug Mängel entdecken, die nicht protokolliert wurden, sollten Sie diese mittels Mängelliste Ihrem Vermieter melden. So stellen Sie sicher, dass Sie beim Auszug nicht dafür haften. Sie haben für die Meldung je nach Vermieter 5-30 Tage nach der Wohnungsübergabe Zeit. Für solche Schäden haften Sie Ihr fünfjähriger Sohn hat die Wohnzimmerwand verkritzelt, Ihre Katze entdeckt ihren Jagdinstinkt nach Insekten und zerkratzt dabei die Tapete – und nach einer gründlichen Putzaktion entdecken Sie einen Kratzer im Keramikkochfeld. Solche und ähnliche Schäden müssen Sie selbst bezahlen. Ihre Haftpflichtversicherung übernimmt die Kosten nach Abzug des Selbstbehalts und Amortisationskosten. Für solche Schäden haften Sie nicht Für die normale Abnützung haften Sie nicht: vergilbte Tapeten, Spuren von Bildern und Möbeln an den Wänden, abgenützte Teppiche, sachgerecht verschlossene Nagel- und Dübellöcher, Schäden von unbekannten Dritten. Und natürlich müssen Sie auch keinen Schaden bezahlen, der schon bei Mietantritt bestand und im Abnahmeprotokoll aufgeführt ist. Bei Mietschäden die Versicherung informieren Besprechen Sie jeden Schaden an Ihrer Mietwohnung so rasch wie möglich mit der Hausverwaltung und informieren Sie Ihre Haftpflichtversicherung . Bei einem grösseren Schaden oder wenn die Verwaltung Schadenersatz fordert, sind Sie sogar verpflichtet, Ihre Versicherung zu benachrichtigen. Die Höhe des Schadenersatzes für eine beschädigte Sache richtet sich nach ihrer durchschnittlichen Lebensdauer. Die normale Lebensdauer eines Spannteppichs beträgt zum Beispiel zehn Jahre. Muss er wegen einer Beschädigung bereits nach fünf Jahren erneuert werden, bezahlen Sie höchstens 50 Prozent des Neuwerts. Kleine Reparaturen und Ausbesserungen Wenn die Reparatur kleiner Schäden unverhältnismässig teuer wäre, müssen Sie nur einen Teil bezahlen. So darf Ihr Vermieter wegen eines kleinen Brandlochs im Spannteppich nicht den ganzen Teppich auf Ihre Kosten ersetzen. Eine Reparatur der Stelle genügt. Diese übernimmt Ihre Haftpflichtversicherung nach Abzug des Selbstbehalts. Als Mieter oder Mieterin müssen Sie folgende Reparaturen und Ausbesserungen an Ihrer Wohnung selbst bezahlen: Instandstellung von Schaltern, Steckdosen und Türschlössern Ersatz von Hahnendichtungen und Duschschläuchen Reinigung und Ersatz von Küchenabluft-Filtern Entrussen von Wohnzimmer-Cheminées Auswechseln von Sicherungen Entstopfen von Ablaufrohren bis zur Hauptleitung Beheben Sie grössere Schäden nicht selbst Vergeben Sie Reparaturaufträge nie direkt, sondern benachrichtigen Sie Ihre Hausverwaltung. Sie haben sonst keinen Anspruch darauf, dass Ihnen die Verwaltung jenen Teil der Arbeit, der auf die Altersentwertung zurückzuführen ist, vergütet. Wenn Ihre Vermieterin zudem unzufrieden mit der Ausführung ist und die Reparatur nicht akzeptiert, müssen Sie doppelt bezahlen. Schäden rechtzeitig reparieren Bei Mietbeginn müssen alle kleinen Reparaturen ausgeführt sein. Kontaktieren Sie Ihre Hausverwaltung frühzeitig, wenn Sie ausziehen und grössere Reparaturen auf Ihre Kosten ausgeführt werden müssen. So lässt sich der Schaden beheben, bevor die Nachmieterin oder der Nachmieter einzieht. Sollte sich nämlich ihr Einzug wegen der Reparatur verzögern, müssen Sie den Mietzinsausfall und weitere Umtriebe bezahlen. Entdecken Sie hier weitere Tipps rund ums Thema Umzug ! Durchschnittliche Lebensdauer von Wohnungseinrichtungen Decken, Wände, Türen Tapeten, mittlere Qualität (Raufaser, bedruckt oder roh gestrichen) 10 Jahre Tapeten zum Überstreichen 24 Jahre Anstrich mit Kunstharz, Acryl, Alkydharzfarben 15 Jahre Anstrich mit Dispersions-, Leimfarbanstrich, Blanc-fix 8 Jahre Holzverkleidung 30 Jahre Holztäfer (deckend gestrichen) 30 Jahre Türrahmen / Türschwellen (innen, Holz) 30 Jahre Fenstersimse (innen, lackiert mit Öl-, Acryl- oder Kunstharzfarbanstrich) 20 Jahre Holz- / Täferdecken 40 Jahre Keramikplatten 30 Jahre Bodenbeläge Novilon etc. 10 Jahre Linoleum 20 Jahre Laminat, schlechte Qualität 10 Jahre Laminat, mittlere Qualität 15 Jahre Laminat, gehobene Qualität 25 Jahre Parkett 30 - 40 Jahre Versiegelung des Parketts 10 Jahre Fournierparkett 10 Jahre Kunststeinplatten 40 Jahre Spannteppich, mittlere Qualität 10 Jahre Naturfaserteppiche / Sisal-Kokos 10 Jahre Nadelfilz 8 Jahre Sockel Kunststoff 15 Jahre Holz 25 Jahre Storen, Rolläden Storenstoff 15 Jahre Rollläden aus Holz 25 Jahre Rolläden aus Metall 30 Jahre Lamellenstoren innen aus Kunststoff oder Aluminium 15 Jahre Lamellenstoren aussen aus Aluminium 25 Jahre Kurbeln 15 Jahre Kurbelhalterung aus Metall 10 Jahre Kurbelhalterung aus Kunststoff 5 Jahre Küche Kochherd / Backofen 15 Jahre Induktionskochfeld / Glaskeramikkochfeld 15 Jahre Elektrische Herdplatte 15 Jahre Kühlschrank 10 Jahre Tiefkühler 15 Jahre Geschirrspüler 15 Jahre Dampfabzug, inkl. Metallfilter 10 Jahre Mikrowelle 15 Jahre Steamer 10 Jahre Bedienungsarmaturen 20 Jahre Küchenabdeckung aus Chromstahl, Granit, Glas 25 Jahre Küchenabdeckung, Kunstharzoberfläche 15 Jahre Küchenabdeckung, Holz massiv oder Mehrschichtplatte 20 Jahre Bad,  Dusche,  WC Badewanne / Duschetasse aus Acryl 25 Jahre Badewanne / Duschetasse aus Stahl, emailliert 35 Jahre Emaillierung der Badewanne / Duschetasse 20 Jahre Lavabo / Bidet / WC aus Keramik 35 Jahre Duschkabine aus Kunststoff 15 Jahre Duschkabine mit Glaswänden 25 Jahre Badezimmermöbel aus Kunststoff oder Holz 10 Jahre Seifenschalen- und Zahnglashalter, verchromt 15 Jahre Handtuch- und Haltestangen, verchromt 15 Jahre Vorhangstangen, verchromt 10 Jahre Glastablar 15 Jahre Spiegel 20 Jahre Wandplatten aus Keramik, lasiert 30 Jahre Wandplatten aus Steingut oder Glasmosaik (eingefärbt) 30 Jahre Fugendichtungen / Kittfugen 8 Jahre Elektrische Installationen TV-Kabelanschluss 15 Jahre Steckdosen 15 Jahre Decken- und Wandleuchten in Küche, Bad, WC 20 Jahre Diverses Waschmaschine / Tumbler 15 Jahre Cheminée / Cheminéeofen 25 Jahre Reduktion bei besonderer Beanspruchung Büros 20% Läden 25% Restaurants 50%\""
   ]
  },
  {
   "cell_type": "code",
   "execution_count": 86,
   "metadata": {},
   "outputs": [
    {
     "data": {
      "text/plain": [
       "negative    0.414906\n",
       "neutral     0.181137\n",
       "positive    0.403957\n",
       "dtype: float64"
      ]
     },
     "execution_count": 86,
     "metadata": {},
     "output_type": "execute_result"
    }
   ],
   "source": [
    "from transformers import pipeline\n",
    "import spacy\n",
    "\n",
    "classifier = pipeline('sentiment-analysis',\n",
    "    model=\"lxyuan/distilbert-base-multilingual-cased-sentiments-student\",\n",
    "    top_k=None,\n",
    "    truncation=False,\n",
    ")\n",
    "\n",
    "nlp = spacy.load('de_core_news_sm')\n",
    "doc = nlp(text)\n",
    "tokens = [token.text for token in doc]\n",
    "results = []\n",
    "\n",
    "if len(tokens) > 512:\n",
    "    for sentence in doc.sents:\n",
    "        result = classifier(sentence.text)\n",
    "        results.extend(result)\n",
    "else:\n",
    "    result = classifier(text)\n",
    "    results.extend(result)\n",
    "\n",
    "\n",
    "average_scores = calculate_average_scores(results)\n",
    "pd.Series(average_scores)"
   ]
  },
  {
   "cell_type": "code",
   "execution_count": 31,
   "metadata": {},
   "outputs": [
    {
     "data": {
      "text/plain": [
       "negative    0.642108\n",
       "positive    0.272815\n",
       "neutral     0.085077\n",
       "dtype: float64"
      ]
     },
     "execution_count": 31,
     "metadata": {},
     "output_type": "execute_result"
    }
   ],
   "source": [
    "from transformers import pipeline\n",
    "\n",
    "classifier = pipeline('sentiment-analysis',\n",
    "    model=\"lxyuan/distilbert-base-multilingual-cased-sentiments-student\",\n",
    "    top_k=None,\n",
    "    truncation=False,\n",
    ")\n",
    "result_in_list_list_of_dicts_of_tuples = classifier(text)\n",
    "mydict = {}\n",
    "for result_in_list_of_dicts_of_tuples in result_in_list_list_of_dicts_of_tuples:\n",
    "    for dicts in result_in_list_of_dicts_of_tuples:\n",
    "        mydict[dicts[\"label\"]] = dicts[\"score\"]\n",
    "pd.Series(mydict)\n",
    "\n",
    "#ausgegeben werden confidenzscores "
   ]
  },
  {
   "cell_type": "markdown",
   "metadata": {},
   "source": [
    "## Training the Model\n",
    "Habe ich nicht umgesetzt."
   ]
  },
  {
   "cell_type": "code",
   "execution_count": 5,
   "metadata": {},
   "outputs": [
    {
     "name": "stdout",
     "output_type": "stream",
     "text": [
      "[[{'label': 'positive', 'score': 0.49148350954055786}, {'label': 'neutral', 'score': 0.25997069478034973}, {'label': 'negative', 'score': 0.2485458105802536}], [{'label': 'positive', 'score': 0.9740146994590759}, {'label': 'neutral', 'score': 0.015805009752511978}, {'label': 'negative', 'score': 0.01018031220883131}]]\n"
     ]
    },
    {
     "ename": "TypeError",
     "evalue": "'str' object is not callable",
     "output_type": "error",
     "traceback": [
      "\u001b[0;31m---------------------------------------------------------------------------\u001b[0m",
      "\u001b[0;31mTypeError\u001b[0m                                 Traceback (most recent call last)",
      "Cell \u001b[0;32mIn[5], line 21\u001b[0m\n\u001b[1;32m     18\u001b[0m batch \u001b[38;5;241m=\u001b[39m tokenizer(X_train, padding\u001b[38;5;241m=\u001b[39m\u001b[38;5;28;01mTrue\u001b[39;00m, truncation\u001b[38;5;241m=\u001b[39m\u001b[38;5;28;01mTrue\u001b[39;00m, max_length\u001b[38;5;241m=\u001b[39m\u001b[38;5;241m800\u001b[39m, return_tensors\u001b[38;5;241m=\u001b[39m\u001b[38;5;124m\"\u001b[39m\u001b[38;5;124mpt\u001b[39m\u001b[38;5;124m\"\u001b[39m)\n\u001b[1;32m     20\u001b[0m \u001b[38;5;28;01mwith\u001b[39;00m torch\u001b[38;5;241m.\u001b[39mno_grad():\n\u001b[0;32m---> 21\u001b[0m     outputs \u001b[38;5;241m=\u001b[39m \u001b[43mmodel_name\u001b[49m\u001b[43m(\u001b[49m\u001b[38;5;241;43m*\u001b[39;49m\u001b[38;5;241;43m*\u001b[39;49m\u001b[43mbatch\u001b[49m\u001b[43m)\u001b[49m,\n\u001b[1;32m     22\u001b[0m     \u001b[38;5;28mprint\u001b[39m(outputs)\n\u001b[1;32m     23\u001b[0m     predictions \u001b[38;5;241m=\u001b[39m F\u001b[38;5;241m.\u001b[39msoftmax(output\u001b[38;5;241m.\u001b[39mlogits, dim\u001b[38;5;241m=\u001b[39m\u001b[38;5;241m1\u001b[39m),\n",
      "\u001b[0;31mTypeError\u001b[0m: 'str' object is not callable"
     ]
    }
   ],
   "source": [
    "from transformers import AutoTokenizer\n",
    "from transformers import pipeline\n",
    "import torch.nn.functional as F\n",
    "import torch\n",
    "\n",
    "model_name = \"lxyuan/distilbert-base-multilingual-cased-sentiments-student\"\n",
    "classifier = pipeline(\n",
    "    model=model_name,\n",
    "    tokenizer = AutoTokenizer.from_pretrained(model_name),\n",
    "    top_k=None\n",
    ")\n",
    "\n",
    "X_train = [\"Ich bin Roman und 28 Jahre alt.\", \"Ich liebe dich!\"]\n",
    "res = classifier(X_train)\n",
    "\n",
    "print(res)\n",
    "tokenizer = AutoTokenizer.from_pretrained(model_name)\n",
    "batch = tokenizer(X_train, padding=True, truncation=True, max_length=800, return_tensors=\"pt\")\n",
    "\n",
    "with torch.no_grad():\n",
    "    outputs = model_name(**batch),\n",
    "    print(outputs)\n",
    "    predictions = F.softmax(output.logits, dim=1),\n",
    "    print(predictions)\n",
    "    labels = torch.argmax(predictions, dim=1)\n",
    "    print(labels)\n",
    "\n",
    "\n",
    "# list_list_of_dicts_of_tuples = res\n",
    "# for list_of_dicts_of_tuples in list_list_of_dicts_of_tuples:\n",
    "#     for dicts in list_of_dicts_of_tuples:\n",
    "#         mydict[dicts[\"label\"]] = dicts[\"score\"]\n",
    "# print(pd.Series(mydict))"
   ]
  }
 ],
 "metadata": {
  "kernelspec": {
   "display_name": "WBTH-Project",
   "language": "python",
   "name": "python3"
  },
  "language_info": {
   "codemirror_mode": {
    "name": "ipython",
    "version": 3
   },
   "file_extension": ".py",
   "mimetype": "text/x-python",
   "name": "python",
   "nbconvert_exporter": "python",
   "pygments_lexer": "ipython3",
   "version": "3.10.14"
  }
 },
 "nbformat": 4,
 "nbformat_minor": 2
}
