{
 "cells": [
  {
   "cell_type": "code",
   "execution_count": 2,
   "metadata": {},
   "outputs": [],
   "source": [
    "# https://www.datacamp.com/tutorial/text-analytics-beginners-nltk\n",
    "\n",
    "import pandas as pd\n",
    "import nltk\n",
    "import json\n",
    "\n",
    "# download nltk corpus (first time only)\n",
    "# nltk.download(\"all\")\n",
    "from nltk.sentiment.vader import SentimentIntensityAnalyzer\n",
    "from nltk.corpus import stopwords\n",
    "from nltk.tokenize import word_tokenize\n",
    "# from nltk.stem import WordNetLemmatizer\n",
    "from nltk.stem import SnowballStemmer\n",
    "# Installiere das SnowballStemmer für die deutsche Sprache\n",
    "# nltk.download('stopwords')\n",
    "# nltk.download('punkt')\n",
    "# nltk.download('wordnet')\n",
    "analyzer = SentimentIntensityAnalyzer()"
   ]
  },
  {
   "cell_type": "markdown",
   "metadata": {},
   "source": [
    "## Helper functions"
   ]
  },
  {
   "cell_type": "code",
   "execution_count": 3,
   "metadata": {},
   "outputs": [],
   "source": [
    "# the columns are beeing merged togheter here\n",
    "def merge_columns_in_dataframe(df):\n",
    "    columns_to_merge = ['page_title', 'sub_title', 'introduction', 'summary_box', 'content', 'accordion']\n",
    "    new_df = df.loc[:, [\"url\", \"page_title\"]].copy()\n",
    "    new_df['text'] = df.apply(lambda row: ' '.join([str(row[col]) for col in columns_to_merge]), axis=1)\n",
    "    return new_df"
   ]
  },
  {
   "cell_type": "code",
   "execution_count": 4,
   "metadata": {},
   "outputs": [],
   "source": [
    "def preprocess_text(text):\n",
    "    tokens = word_tokenize(text.lower())\n",
    "    filtered_tokens = [\n",
    "        token for token in tokens if token not in stopwords.words(\"german\")\n",
    "    ]\n",
    "    stemmer = SnowballStemmer(\"german\") # eventuell anderen stemmer verwenden\n",
    "    stemmed_tokens = [stemmer.stem(token) for token in filtered_tokens]\n",
    "    processed_text = \" \".join(stemmed_tokens)\n",
    "    return processed_text"
   ]
  },
  {
   "cell_type": "code",
   "execution_count": 5,
   "metadata": {},
   "outputs": [],
   "source": [
    "\n",
    "def get_sentiment(text_string):\n",
    "    scores = analyzer.polarity_scores(text_string)\n",
    "    return pd.Series(scores)\n",
    "\n",
    "def add_sentiment_cols(dataframe, text_col=\"text\"):\n",
    "    sentiment_cols = dataframe[text_col].apply(get_sentiment)\n",
    "    dataframe = pd.concat([dataframe, sentiment_cols], axis=1)\n",
    "    dataframe['judgement'] = dataframe['compound'].apply(lambda x: 'positive' if x > 0.05 else (\"negative\" if x < -0.05 else 'neutral'))\n",
    "    return dataframe"
   ]
  },
  {
   "cell_type": "code",
   "execution_count": 6,
   "metadata": {},
   "outputs": [],
   "source": [
    "def get_analysis_data(json_file):\n",
    "    pandas_df = pd.read_json(json_file)\n",
    "    filtered_df = pandas_df.loc[(pandas_df.loc[:, ~pandas_df.columns.isin(['url', 'page_title'])] != \"\").any(axis=1)] # exkludiert alle spalten von der Analyse die \"\" in den spalten ausser \"page_title\" haben \n",
    "    data = merge_columns_in_dataframe(filtered_df)\n",
    "    data[\"text\"] = data[\"text\"].apply(preprocess_text)\n",
    "    return add_sentiment_cols(data)"
   ]
  },
  {
   "cell_type": "code",
   "execution_count": 7,
   "metadata": {},
   "outputs": [],
   "source": [
    "def save_as_json(pandas_dataframe, file_name):\n",
    "    import datetime\n",
    "    date_info = datetime.datetime.now().strftime(\"%d-%m-%y\")\n",
    "    pandas_dataframe.to_json(f\"{file_name}_{date_info}.json\", orient='records')"
   ]
  },
  {
   "cell_type": "code",
   "execution_count": 14,
   "metadata": {},
   "outputs": [],
   "source": [
    "df = get_analysis_data(\"ratgeber_pages_part2.json\")\n",
    "save_as_json(df, \"ratgeber_pages_with_rating\")"
   ]
  },
  {
   "cell_type": "markdown",
   "metadata": {},
   "source": [
    "## Execution of Code"
   ]
  },
  {
   "cell_type": "code",
   "execution_count": 16,
   "metadata": {},
   "outputs": [],
   "source": [
    "df2 = get_analysis_data(\"../web-crawler/scrapy_mobiliar/mobiscraper/mobiscraper/spiders/scrape_archive/full_scrape_2.json\")\n",
    "# save_as_json(df2, \"full_scrape_2_analysis\")"
   ]
  },
  {
   "cell_type": "code",
   "execution_count": 76,
   "metadata": {},
   "outputs": [
    {
     "data": {
      "text/html": [
       "<div>\n",
       "<style scoped>\n",
       "    .dataframe tbody tr th:only-of-type {\n",
       "        vertical-align: middle;\n",
       "    }\n",
       "\n",
       "    .dataframe tbody tr th {\n",
       "        vertical-align: top;\n",
       "    }\n",
       "\n",
       "    .dataframe thead th {\n",
       "        text-align: right;\n",
       "    }\n",
       "</style>\n",
       "<table border=\"1\" class=\"dataframe\">\n",
       "  <thead>\n",
       "    <tr style=\"text-align: right;\">\n",
       "      <th></th>\n",
       "      <th>url</th>\n",
       "      <th>page_title</th>\n",
       "      <th>text</th>\n",
       "      <th>neg</th>\n",
       "      <th>neu</th>\n",
       "      <th>pos</th>\n",
       "      <th>compound</th>\n",
       "      <th>judgement</th>\n",
       "    </tr>\n",
       "  </thead>\n",
       "  <tbody>\n",
       "    <tr>\n",
       "      <th>0</th>\n",
       "      <td>https://www.mobiliar.ch/versicherungen-und-vor...</td>\n",
       "      <td>Tierversicherung</td>\n",
       "      <td>tierversicher hund katz versich tierversicher ...</td>\n",
       "      <td>0.000</td>\n",
       "      <td>0.994</td>\n",
       "      <td>0.006</td>\n",
       "      <td>0.2406</td>\n",
       "      <td>positive</td>\n",
       "    </tr>\n",
       "    <tr>\n",
       "      <th>1</th>\n",
       "      <td>https://www.mobiliar.ch/versicherungen-und-vor...</td>\n",
       "      <td>Cyberversicherung</td>\n",
       "      <td>cyberversicher hilf digital alltag bankgeschaf...</td>\n",
       "      <td>0.028</td>\n",
       "      <td>0.954</td>\n",
       "      <td>0.019</td>\n",
       "      <td>-0.5362</td>\n",
       "      <td>negative</td>\n",
       "    </tr>\n",
       "    <tr>\n",
       "      <th>2</th>\n",
       "      <td>https://www.mobiliar.ch/versicherungen-und-vor...</td>\n",
       "      <td>Wertsachenversicherung</td>\n",
       "      <td>wertsachenversicher versich , bedeutet wertvol...</td>\n",
       "      <td>0.000</td>\n",
       "      <td>0.981</td>\n",
       "      <td>0.019</td>\n",
       "      <td>0.6553</td>\n",
       "      <td>positive</td>\n",
       "    </tr>\n",
       "    <tr>\n",
       "      <th>3</th>\n",
       "      <td>https://www.mobiliar.ch/versicherungen-und-vor...</td>\n",
       "      <td>Die Hausratversicherung</td>\n",
       "      <td>hausratversicher rundum-versicher beweg sach w...</td>\n",
       "      <td>0.021</td>\n",
       "      <td>0.979</td>\n",
       "      <td>0.000</td>\n",
       "      <td>-0.6662</td>\n",
       "      <td>negative</td>\n",
       "    </tr>\n",
       "    <tr>\n",
       "      <th>4</th>\n",
       "      <td>https://www.mobiliar.ch/versicherungen-und-vor...</td>\n",
       "      <td>Mietkautionsversicherung</td>\n",
       "      <td>mietkautionsversicher dank mietkaution spar mi...</td>\n",
       "      <td>0.007</td>\n",
       "      <td>0.976</td>\n",
       "      <td>0.017</td>\n",
       "      <td>0.4329</td>\n",
       "      <td>positive</td>\n",
       "    </tr>\n",
       "    <tr>\n",
       "      <th>...</th>\n",
       "      <td>...</td>\n",
       "      <td>...</td>\n",
       "      <td>...</td>\n",
       "      <td>...</td>\n",
       "      <td>...</td>\n",
       "      <td>...</td>\n",
       "      <td>...</td>\n",
       "      <td>...</td>\n",
       "    </tr>\n",
       "    <tr>\n",
       "      <th>1456</th>\n",
       "      <td>https://www.mobiliar.ch/versicherungen-und-vor...</td>\n",
       "      <td>Die Fahrrad-Kaskoversicherung vermitteln</td>\n",
       "      <td>fahrrad-kaskoversicher vermitteln umfass versi...</td>\n",
       "      <td>0.028</td>\n",
       "      <td>0.972</td>\n",
       "      <td>0.000</td>\n",
       "      <td>-0.3313</td>\n",
       "      <td>negative</td>\n",
       "    </tr>\n",
       "    <tr>\n",
       "      <th>1457</th>\n",
       "      <td>https://www.mobiliar.ch/die-mobiliar/nachhalti...</td>\n",
       "      <td>Projekte 2022: Insgesamt 19 weitere Brücken un...</td>\n",
       "      <td>projekt 2022 : insgesamt 19 weit bruck steg fe...</td>\n",
       "      <td>0.000</td>\n",
       "      <td>1.000</td>\n",
       "      <td>0.000</td>\n",
       "      <td>0.0000</td>\n",
       "      <td>neutral</td>\n",
       "    </tr>\n",
       "    <tr>\n",
       "      <th>1458</th>\n",
       "      <td>https://www.mobiliar.ch/die-mobiliar/nachhalti...</td>\n",
       "      <td>Projekte 2023: Insgesamt 13 weitere Brücken un...</td>\n",
       "      <td>projekt 2023 : insgesamt 13 weit bruck steg fe...</td>\n",
       "      <td>0.000</td>\n",
       "      <td>1.000</td>\n",
       "      <td>0.000</td>\n",
       "      <td>0.0000</td>\n",
       "      <td>neutral</td>\n",
       "    </tr>\n",
       "    <tr>\n",
       "      <th>1459</th>\n",
       "      <td>https://www.mobiliar.ch/versicherungen-und-vor...</td>\n",
       "      <td>Winter Wanderland</td>\n",
       "      <td>wint wanderland verschneit tal , weit nebelme ...</td>\n",
       "      <td>0.000</td>\n",
       "      <td>1.000</td>\n",
       "      <td>0.000</td>\n",
       "      <td>0.0000</td>\n",
       "      <td>neutral</td>\n",
       "    </tr>\n",
       "    <tr>\n",
       "      <th>1460</th>\n",
       "      <td>https://www.mobiliar.ch/die-mobiliar/nachhalti...</td>\n",
       "      <td>Rein in die Wanderschuhe</td>\n",
       "      <td>rein wanderschuh frisch ferienluft haustur ! d...</td>\n",
       "      <td>0.000</td>\n",
       "      <td>0.940</td>\n",
       "      <td>0.060</td>\n",
       "      <td>0.5093</td>\n",
       "      <td>positive</td>\n",
       "    </tr>\n",
       "  </tbody>\n",
       "</table>\n",
       "<p>1461 rows × 8 columns</p>\n",
       "</div>"
      ],
      "text/plain": [
       "                                                    url  \\\n",
       "0     https://www.mobiliar.ch/versicherungen-und-vor...   \n",
       "1     https://www.mobiliar.ch/versicherungen-und-vor...   \n",
       "2     https://www.mobiliar.ch/versicherungen-und-vor...   \n",
       "3     https://www.mobiliar.ch/versicherungen-und-vor...   \n",
       "4     https://www.mobiliar.ch/versicherungen-und-vor...   \n",
       "...                                                 ...   \n",
       "1456  https://www.mobiliar.ch/versicherungen-und-vor...   \n",
       "1457  https://www.mobiliar.ch/die-mobiliar/nachhalti...   \n",
       "1458  https://www.mobiliar.ch/die-mobiliar/nachhalti...   \n",
       "1459  https://www.mobiliar.ch/versicherungen-und-vor...   \n",
       "1460  https://www.mobiliar.ch/die-mobiliar/nachhalti...   \n",
       "\n",
       "                                             page_title  \\\n",
       "0                                      Tierversicherung   \n",
       "1                                     Cyberversicherung   \n",
       "2                                Wertsachenversicherung   \n",
       "3                               Die Hausratversicherung   \n",
       "4                              Mietkautionsversicherung   \n",
       "...                                                 ...   \n",
       "1456           Die Fahrrad-Kaskoversicherung vermitteln   \n",
       "1457  Projekte 2022: Insgesamt 19 weitere Brücken un...   \n",
       "1458  Projekte 2023: Insgesamt 13 weitere Brücken un...   \n",
       "1459                                  Winter Wanderland   \n",
       "1460                           Rein in die Wanderschuhe   \n",
       "\n",
       "                                                   text    neg    neu    pos  \\\n",
       "0     tierversicher hund katz versich tierversicher ...  0.000  0.994  0.006   \n",
       "1     cyberversicher hilf digital alltag bankgeschaf...  0.028  0.954  0.019   \n",
       "2     wertsachenversicher versich , bedeutet wertvol...  0.000  0.981  0.019   \n",
       "3     hausratversicher rundum-versicher beweg sach w...  0.021  0.979  0.000   \n",
       "4     mietkautionsversicher dank mietkaution spar mi...  0.007  0.976  0.017   \n",
       "...                                                 ...    ...    ...    ...   \n",
       "1456  fahrrad-kaskoversicher vermitteln umfass versi...  0.028  0.972  0.000   \n",
       "1457  projekt 2022 : insgesamt 19 weit bruck steg fe...  0.000  1.000  0.000   \n",
       "1458  projekt 2023 : insgesamt 13 weit bruck steg fe...  0.000  1.000  0.000   \n",
       "1459  wint wanderland verschneit tal , weit nebelme ...  0.000  1.000  0.000   \n",
       "1460  rein wanderschuh frisch ferienluft haustur ! d...  0.000  0.940  0.060   \n",
       "\n",
       "      compound judgement  \n",
       "0       0.2406  positive  \n",
       "1      -0.5362  negative  \n",
       "2       0.6553  positive  \n",
       "3      -0.6662  negative  \n",
       "4       0.4329  positive  \n",
       "...        ...       ...  \n",
       "1456   -0.3313  negative  \n",
       "1457    0.0000   neutral  \n",
       "1458    0.0000   neutral  \n",
       "1459    0.0000   neutral  \n",
       "1460    0.5093  positive  \n",
       "\n",
       "[1461 rows x 8 columns]"
      ]
     },
     "metadata": {},
     "output_type": "display_data"
    }
   ],
   "source": [
    "df2 = pd.read_json(\"full_scrape_2_analysis_15-03-24_15:40:08.json\")\n",
    "display(df2)"
   ]
  },
  {
   "cell_type": "code",
   "execution_count": 82,
   "metadata": {},
   "outputs": [
    {
     "data": {
      "text/plain": [
       "judgement\n",
       "neutral     726\n",
       "positive    465\n",
       "negative    270\n",
       "Name: count, dtype: int64"
      ]
     },
     "execution_count": 82,
     "metadata": {},
     "output_type": "execute_result"
    }
   ],
   "source": [
    "df2[\"judgement\"].value_counts()"
   ]
  },
  {
   "cell_type": "markdown",
   "metadata": {},
   "source": [
    "## to display the Functions"
   ]
  },
  {
   "cell_type": "code",
   "execution_count": 15,
   "metadata": {},
   "outputs": [],
   "source": [
    "json_file_example = [{\"url\": \"https://www.mobiliar.ch/die-mobiliar/ueber-uns/unsere-werbung/werbespots-liebe-mobiliar/liebe-mobiliar-parkett\", \"page_title\": \"Liebe Mobiliar: Parkett\", \"sub_title\": \"\", \"introduction\": \"Der neue «Liebe Mobiliar»-Spot zeigt, dass Schäden zu Hause immer genau dann passieren, wenn man nicht damit rechnet.\", \"summary_box\": \"\", \"content\": \"Die Mobiliar startet mit dem neusten «Liebe Mobiliar»-Spot ins neue Jahr. Die Familie im Spot hingegen startet in einen nur auf den ersten Blick gewöhnlichen Sonntagmorgen. Denn: Während die Eltern noch gemütlich vor sich hinschlummern, werden sie von Geräuschen geweckt, die definitiv nicht ins Haus gehören. Grund dafür ist ihre Tochter, die ihr Talent als Eiskunstläuferin entdeckt und mit viel Freude auslebt. Und das hinterlässt Spuren. Was immer kommt – wir helfen Ihnen rasch und unkompliziert.\", \"accordion\": \"\"},]"
   ]
  },
  {
   "cell_type": "code",
   "execution_count": 20,
   "metadata": {},
   "outputs": [
    {
     "data": {
      "text/html": [
       "<div>\n",
       "<style scoped>\n",
       "    .dataframe tbody tr th:only-of-type {\n",
       "        vertical-align: middle;\n",
       "    }\n",
       "\n",
       "    .dataframe tbody tr th {\n",
       "        vertical-align: top;\n",
       "    }\n",
       "\n",
       "    .dataframe thead th {\n",
       "        text-align: right;\n",
       "    }\n",
       "</style>\n",
       "<table border=\"1\" class=\"dataframe\">\n",
       "  <thead>\n",
       "    <tr style=\"text-align: right;\">\n",
       "      <th></th>\n",
       "      <th>url</th>\n",
       "      <th>page_title</th>\n",
       "      <th>sub_title</th>\n",
       "      <th>introduction</th>\n",
       "      <th>summary_box</th>\n",
       "      <th>content</th>\n",
       "      <th>accordion</th>\n",
       "    </tr>\n",
       "  </thead>\n",
       "  <tbody>\n",
       "    <tr>\n",
       "      <th>0</th>\n",
       "      <td>https://www.mobiliar.ch/die-mobiliar/ueber-uns...</td>\n",
       "      <td>Liebe Mobiliar: Parkett</td>\n",
       "      <td></td>\n",
       "      <td>Der neue «Liebe Mobiliar»-Spot zeigt, dass Sch...</td>\n",
       "      <td></td>\n",
       "      <td>Die Mobiliar startet mit dem neusten «Liebe Mo...</td>\n",
       "      <td></td>\n",
       "    </tr>\n",
       "  </tbody>\n",
       "</table>\n",
       "</div>"
      ],
      "text/plain": [
       "                                                 url               page_title  \\\n",
       "0  https://www.mobiliar.ch/die-mobiliar/ueber-uns...  Liebe Mobiliar: Parkett   \n",
       "\n",
       "  sub_title                                       introduction summary_box  \\\n",
       "0            Der neue «Liebe Mobiliar»-Spot zeigt, dass Sch...               \n",
       "\n",
       "                                             content accordion  \n",
       "0  Die Mobiliar startet mit dem neusten «Liebe Mo...            "
      ]
     },
     "execution_count": 20,
     "metadata": {},
     "output_type": "execute_result"
    }
   ],
   "source": [
    "pandas_dataframe = pd.DataFrame(json_file_example)\n",
    "pandas_dataframe"
   ]
  },
  {
   "cell_type": "code",
   "execution_count": 25,
   "metadata": {},
   "outputs": [
    {
     "name": "stdout",
     "output_type": "stream",
     "text": [
      "Liebe Mobiliar: Parkett  Der neue «Liebe Mobiliar»-Spot zeigt, dass Schäden zu Hause immer genau dann passieren, wenn man nicht damit rechnet.  Die Mobiliar startet mit dem neusten «Liebe Mobiliar»-Spot ins neue Jahr. Die Familie im Spot hingegen startet in einen nur auf den ersten Blick gewöhnlichen Sonntagmorgen. Denn: Während die Eltern noch gemütlich vor sich hinschlummern, werden sie von Geräuschen geweckt, die definitiv nicht ins Haus gehören. Grund dafür ist ihre Tochter, die ihr Talent als Eiskunstläuferin entdeckt und mit viel Freude auslebt. Und das hinterlässt Spuren. Was immer kommt – wir helfen Ihnen rasch und unkompliziert. \n"
     ]
    }
   ],
   "source": [
    "merged_text_df = merge_columns_in_dataframe(pandas_dataframe)\n",
    "for i in merged_text_df[\"text\"]:\n",
    "    print (i)"
   ]
  },
  {
   "cell_type": "code",
   "execution_count": 51,
   "metadata": {},
   "outputs": [],
   "source": [
    "text = \"Der neue «Liebe Mobiliar»-Spot zeigt, dass Schäden zu Hause immer genau dann passieren, wenn man nicht damit rechnet.  Die Mobiliar startet mit dem neusten «Liebe Mobiliar»-Spot ins neue Jahr. Die Familie im Spot hingegen startet in einen nur auf den ersten Blick gewöhnlichen Sonntagmorgen. Denn: Während die Eltern noch gemütlich vor sich hinschlummern, werden sie von Geräuschen geweckt, die definitiv nicht ins Haus gehören. Grund dafür ist ihre Tochter, die ihr Talent als Eiskunstläuferin entdeckt und mit viel Freude auslebt. Und das hinterlässt Spuren. Was immer kommt – wir helfen Ihnen rasch und unkompliziert.\""
   ]
  },
  {
   "cell_type": "code",
   "execution_count": 69,
   "metadata": {},
   "outputs": [],
   "source": [
    "text = \"Fahren fuhren gefahren fuhr die Fahrt er fährt\""
   ]
  },
  {
   "cell_type": "code",
   "execution_count": 70,
   "metadata": {},
   "outputs": [
    {
     "data": {
      "text/plain": [
       "['fahren', 'fuhren', 'gefahren', 'fuhr', 'die', 'fahrt', 'er', 'fährt']"
      ]
     },
     "execution_count": 70,
     "metadata": {},
     "output_type": "execute_result"
    }
   ],
   "source": [
    "tokens = word_tokenize(text.lower())\n",
    "tokens"
   ]
  },
  {
   "cell_type": "code",
   "execution_count": 71,
   "metadata": {},
   "outputs": [
    {
     "data": {
      "text/plain": [
       "['fahren', 'fuhren', 'gefahren', 'fuhr', 'fahrt', 'fährt']"
      ]
     },
     "execution_count": 71,
     "metadata": {},
     "output_type": "execute_result"
    }
   ],
   "source": [
    "filtered_tokens = [\n",
    "        token for token in tokens if token not in stopwords.words(\"german\")\n",
    "    ]\n",
    "filtered_tokens\n"
   ]
  },
  {
   "cell_type": "code",
   "execution_count": 72,
   "metadata": {},
   "outputs": [
    {
     "data": {
      "text/plain": [
       "['fahr', 'fuhr', 'gefahr', 'fuhr', 'fahrt', 'fahrt']"
      ]
     },
     "execution_count": 72,
     "metadata": {},
     "output_type": "execute_result"
    }
   ],
   "source": [
    "# from nltk.stem import WordNetLemmatizer\n",
    "from nltk.stem import SnowballStemmer\n",
    "stemmer = SnowballStemmer(\"german\") # eventuell anderen stemmer verwenden\n",
    "stemmed_tokens = [stemmer.stem(token) for token in filtered_tokens]\n",
    "stemmed_tokens"
   ]
  },
  {
   "cell_type": "code",
   "execution_count": 73,
   "metadata": {},
   "outputs": [
    {
     "data": {
      "text/plain": [
       "['fahren', 'fuhren', 'gefahren', 'fuhr', 'fahrt', 'fährt']"
      ]
     },
     "execution_count": 73,
     "metadata": {},
     "output_type": "execute_result"
    }
   ],
   "source": [
    "from nltk.stem import WordNetLemmatizer\n",
    "# from nltk.stem import SnowballStemmer\n",
    "lemmatizer = WordNetLemmatizer()\n",
    "lemmatized_tokens = [lemmatizer.lemmatize(token) for token in filtered_tokens]\n",
    "lemmatized_tokens"
   ]
  },
  {
   "cell_type": "code",
   "execution_count": 68,
   "metadata": {},
   "outputs": [
    {
     "data": {
      "text/plain": [
       "['fahren', 'Fuhr', 'fahren', 'fahren', 'der', 'Fahrt']"
      ]
     },
     "execution_count": 68,
     "metadata": {},
     "output_type": "execute_result"
    }
   ],
   "source": [
    "nlp = spacy.load(\"de_core_news_sm\")\n",
    "\n",
    "# Beispieltext\n",
    "text = \"fahren fuhren gefahren fuhr die Fahrt\"\n",
    "\n",
    "# Verarbeiten des Textes mit SpaCy\n",
    "doc = nlp(text)\n",
    "\n",
    "filtered_tokens = [\n",
    "        token for token in doc if token not in stopwords.words(\"german\")\n",
    "    ]\n",
    "# Lemmatisieren der Tokens\n",
    "lemmatized_tokens = [token.lemma_ for token in filtered_tokens]\n",
    "lemmatized_tokens"
   ]
  }
 ],
 "metadata": {
  "kernelspec": {
   "display_name": "WBTH-Project",
   "language": "python",
   "name": "python3"
  },
  "language_info": {
   "codemirror_mode": {
    "name": "ipython",
    "version": 3
   },
   "file_extension": ".py",
   "mimetype": "text/x-python",
   "name": "python",
   "nbconvert_exporter": "python",
   "pygments_lexer": "ipython3",
   "version": "3.10.13"
  }
 },
 "nbformat": 4,
 "nbformat_minor": 2
}
